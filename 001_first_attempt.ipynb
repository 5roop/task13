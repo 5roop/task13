{
 "cells": [
  {
   "cell_type": "markdown",
   "metadata": {},
   "source": [
    "# We shall first transform the mp3 into 16kHz mono wav file."
   ]
  },
  {
   "cell_type": "code",
   "execution_count": null,
   "metadata": {},
   "outputs": [],
   "source": [
    "from pydub import AudioSegment\n",
    "\n",
    "f = AudioSegment.from_mp3(\"audio.mp3\")\n",
    "f.export(\"audio.wav\", format=\"wav\",)"
   ]
  },
  {
   "cell_type": "markdown",
   "metadata": {},
   "source": [
    "# Transcribing"
   ]
  },
  {
   "cell_type": "code",
   "execution_count": 1,
   "metadata": {},
   "outputs": [
    {
     "name": "stderr",
     "output_type": "stream",
     "text": [
      "Only 0 unigrams passed as vocabulary. Is this small or artificial data?\n"
     ]
    }
   ],
   "source": [
    "from transformers import Wav2Vec2ProcessorWithLM, Wav2Vec2ForCTC\n",
    "import soundfile as sf\n",
    "import torch\n",
    "import os\n",
    "\n",
    "\n",
    "device = torch.device(\"cuda:0\" if torch.cuda.is_available() else \"cpu\")\n",
    "# load model and tokenizer\n",
    "processor = Wav2Vec2ProcessorWithLM.from_pretrained(\n",
    "    \"classla/wav2vec2-xls-r-parlaspeech-hr-lm\")\n",
    "model = Wav2Vec2ForCTC.from_pretrained(\"classla/wav2vec2-xls-r-parlaspeech-hr-lm\")\n",
    "\n",
    "# read the wav file \n",
    "speech, sample_rate = sf.read(\"audio.wav\")\n",
    "\n",
    "# Limit the input to first N seconds:\n",
    "speech_segment = speech[0:20*sample_rate]\n",
    "\n",
    "inputs = processor(speech_segment, sampling_rate=sample_rate, return_tensors=\"pt\")\n",
    "with torch.no_grad():\n",
    "    logits = model(**inputs).logits\n",
    "transcription = processor.batch_decode(logits.numpy()).text[0]"
   ]
  },
  {
   "cell_type": "code",
   "execution_count": 17,
   "metadata": {},
   "outputs": [
    {
     "data": {
      "text/plain": [
       "(25437888,)"
      ]
     },
     "execution_count": 17,
     "metadata": {},
     "output_type": "execute_result"
    }
   ],
   "source": [
    "speech.shape"
   ]
  },
  {
   "cell_type": "code",
   "execution_count": 19,
   "metadata": {},
   "outputs": [
    {
     "data": {
      "text/plain": [
       "'ukoliko ste gledali vesti televizije b92 koje su upravo završene svakako vam je pretpostavljam poznato da je u ovim trenucima u toku sjednica vlade srbije koja priprema nacrt rezolucije o kosovu koji bi sutra trebalo da se nađe pred novim sazivom republičkog parlamenta no o tom potom o sjednici vlade i o rezoluciji nešto kasnije tokom sjednica vlade bude završen ili sutra ujutru sada o jednoj drugoj temi koja također tema dana za bivšim komandantom posebnih jedinica policije i žandarmerije goranom radosavljevićem gurijem raspisana je prema agencijskim vestima policijska potraga na nivou srbije jer se radosavljević nije pojavio na sudu gdje je pozvan u svojstvu svjedoka na suđenju optuženima za pomaganje ubistvu američkih državljana albak'"
      ]
     },
     "execution_count": 19,
     "metadata": {},
     "output_type": "execute_result"
    }
   ],
   "source": [
    "speech_segment = speech[0:1*60*sample_rate]\n",
    "\n",
    "\n",
    "inputs = processor(speech_segment, sampling_rate=sample_rate, return_tensors=\"pt\")\n",
    "with torch.no_grad():\n",
    "    logits = model(**inputs).logits\n",
    "transcription = processor.batch_decode(logits.numpy()).text[0]\n",
    "transcription"
   ]
  },
  {
   "cell_type": "markdown",
   "metadata": {},
   "source": [
    "# Implementing a complete transcribing process"
   ]
  },
  {
   "cell_type": "code",
   "execution_count": 23,
   "metadata": {},
   "outputs": [],
   "source": [
    "overlap_seconds = 1\n",
    "import numpy as np\n",
    "\n",
    "indices = np.arange(0, speech.shape[0], 10 * 60 * sample_rate, dtype=int).tolist() + [-1]\n",
    "\n",
    "transcripts = list()\n",
    "for start, stop in zip(indices[0:-2], indices[1:]):\n",
    "    # If overlap would go over the end, correct it\n",
    "    if stop + overlap_seconds * sample_rate >= speech.shape[0]:\n",
    "        stop = -1\n",
    "    speech_segment = speech[start:stop]\n",
    "    inputs = processor(speech_segment, sampling_rate=sample_rate, return_tensors=\"pt\")\n",
    "    with torch.no_grad():\n",
    "        logits = model(**inputs).logits\n",
    "    transcription = processor.batch_decode(logits.numpy()).text[0]\n",
    "    transcripts.append(transcription)"
   ]
  },
  {
   "cell_type": "markdown",
   "metadata": {},
   "source": [
    "# Saving the results"
   ]
  },
  {
   "cell_type": "code",
   "execution_count": null,
   "metadata": {},
   "outputs": [],
   "source": [
    "with open(\"001_transcripts.txt\", \"w\") as f:\n",
    "    f.write(\" \".join(transcripts))"
   ]
  },
  {
   "cell_type": "markdown",
   "metadata": {},
   "source": [
    "# To other models"
   ]
  },
  {
   "cell_type": "code",
   "execution_count": 22,
   "metadata": {},
   "outputs": [
    {
     "data": {
      "text/plain": [
       "['ukoliko ste gledali vesti televizije b992. koje su upravo završene svakako vam je pretpostavljen poznato da je u ovim trenucima u toku sjednica vlade srbije koja priprema']"
      ]
     },
     "execution_count": 22,
     "metadata": {},
     "output_type": "execute_result"
    }
   ],
   "source": [
    "from transformers import Wav2Vec2ProcessorWithLM, Wav2Vec2ForCTC, Wav2Vec2Processor\n",
    "import soundfile as sf\n",
    "import torch\n",
    "import os\n",
    "\n",
    "\n",
    "device = torch.device(\"cuda:0\" if torch.cuda.is_available() else \"cpu\")\n",
    "# load model and tokenizer\n",
    "processor = Wav2Vec2Processor.from_pretrained(\n",
    "    \"classla/wav2vec2-xls-r-parlaspeech-hr-lm\", pad_token=\"[PAD]\")\n",
    "model = Wav2Vec2ForCTC.from_pretrained(\"classla/wav2vec2-xls-r-parlaspeech-hr-lm\")\n",
    "\n",
    "# read the wav file \n",
    "speech, sample_rate = sf.read(\"audio.wav\")\n",
    "\n",
    "# Limit the input to first N seconds:\n",
    "speech_segment = speech[0:20*sample_rate]\n",
    "\n",
    "inputs = processor(speech_segment, sampling_rate=sample_rate, return_tensors=\"pt\")\n",
    "with torch.no_grad():\n",
    "    logits = model(**inputs).logits\n",
    "prediction_ids = torch.argmax(logits, dim=-1)\n",
    "transcription = processor.batch_decode(prediction_ids)\n",
    "transcription"
   ]
  },
  {
   "cell_type": "code",
   "execution_count": 14,
   "metadata": {},
   "outputs": [],
   "source": [
    "inputs = processor(speech_segment, sampling_rate=sample_rate, return_tensors=\"pt\")\n",
    "with torch.no_grad():\n",
    "    logits = model(**inputs).logits"
   ]
  },
  {
   "cell_type": "code",
   "execution_count": 20,
   "metadata": {},
   "outputs": [
    {
     "data": {
      "text/plain": [
       "['[PAD]u[PAD]ko[PAD]l[PAD]i[PAD]ko[PAD] [PAD]ste gl[PAD]e[PAD]d[PAD]a[PAD]l[PAD]i [PAD]v[PAD]e[PAD]s[PAD]t[PAD]i[PAD] [PAD]tel[PAD]e[PAD]vi[PAD]zi[PAD]je [PAD]b[PAD]9[PAD]9[PAD]2.[PAD] koje s[PAD]u [PAD]u[PAD]p[PAD]r[PAD]av[PAD]o[PAD] [PAD]z[PAD]a[PAD]v[PAD]r[PAD]š[PAD]e[PAD]n[PAD]e[PAD] [PAD]s[PAD]va[PAD]k[PAD]a[PAD]k[PAD]o va[PAD]m je[PAD] [PAD]pret[PAD]p[PAD]o[PAD]stavljen p[PAD]o[PAD]z[PAD]n[PAD]a[PAD]t[PAD]o[PAD] d[PAD]a je u ov[PAD]i[PAD]m tre[PAD]nu[PAD]c[PAD]i[PAD]m[PAD]a[PAD] u [PAD]t[PAD]o[PAD]k[PAD]u[PAD] [PAD]s[PAD]j[PAD]e[PAD]dn[PAD]i[PAD]c[PAD]a[PAD] [PAD]v[PAD]l[PAD]a[PAD]d[PAD]e[PAD] [PAD]s[PAD]r[PAD]b[PAD]i[PAD]je [PAD]k[PAD]oja[PAD] [PAD]pri[PAD]pre[PAD]m[PAD]a[PAD]']"
      ]
     },
     "execution_count": 20,
     "metadata": {},
     "output_type": "execute_result"
    }
   ],
   "source": [
    "prediction_ids = torch.argmax(logits, dim=-1)\n",
    "transcription = processor.batch_decode(prediction_ids)\n",
    "transcription"
   ]
  },
  {
   "cell_type": "code",
   "execution_count": null,
   "metadata": {},
   "outputs": [],
   "source": []
  }
 ],
 "metadata": {
  "interpreter": {
   "hash": "7f6f5766036ee03d059e365a942add07f79c17033585e9357ee8157d52fe6bb9"
  },
  "kernelspec": {
   "display_name": "Python 3.8.3 ('base')",
   "language": "python",
   "name": "python3"
  },
  "language_info": {
   "codemirror_mode": {
    "name": "ipython",
    "version": 3
   },
   "file_extension": ".py",
   "mimetype": "text/x-python",
   "name": "python",
   "nbconvert_exporter": "python",
   "pygments_lexer": "ipython3",
   "version": "3.8.3"
  },
  "orig_nbformat": 4
 },
 "nbformat": 4,
 "nbformat_minor": 2
}
