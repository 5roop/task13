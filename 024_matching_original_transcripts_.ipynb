{
 "cells": [
  {
   "cell_type": "code",
   "execution_count": 1,
   "metadata": {},
   "outputs": [],
   "source": [
    "import pandas as pd\n",
    "import numpy as np\n",
    "\n",
    "mer = pd.read_json(\"023_JV_segments_matched_speaker_id_added.jsonl\", orient=\"records\", lines=True)\n",
    "mer = mer[~mer.file.str.contains(\"_BzZf0fGg0E\")]\n",
    "corp = pd.read_json(\"020_JV_with_metadata.jsonl\", orient=\"records\", lines=True)\n",
    "\n",
    "def corpus_handler(s:str) -> str:\n",
    "    \"\"\"For corpus transcripts.\"\"\"\n",
    "    from string import punctuation\n",
    "    for p in punctuation:\n",
    "        s = s.replace(p, \"\")\n",
    "    return \" \".join(\n",
    "        s.replace(\"JV:\", \"\").split()\n",
    "    ).casefold()\n",
    "\n",
    "def segment_handler(s:str) -> str:\n",
    "    return s.replace(\"<anchor_start>\", \"\").replace(\"<anchor_end>\", \"\")\n",
    "\n",
    "def find_optimal_subset(segment, full, step=1, limit = None):\n",
    "    from fuzzywuzzy.fuzz import ratio\n",
    "    from tqdm.auto import tqdm\n",
    "    segment = segment.split()\n",
    "    full = full.split()\n",
    "    best = 0\n",
    "    best_start, best_end = 0, -1\n",
    "    tqdm = lambda x: x\n",
    "    for start in tqdm(range(0, len(full) if not limit else 2*limit, step)):\n",
    "        for end in range(len(full)- 2*limit if limit else start, len(full), step):\n",
    "            try:\n",
    "                subset = full[start:end]\n",
    "                current = ratio(\n",
    "                    segment_handler(\" \".join(segment)),\n",
    "                    corpus_handler(\" \".join(subset))\n",
    "                        )\n",
    "                # print(start, end, current, subset)\n",
    "                if current >= best:\n",
    "                    best_start, best_end = start, end\n",
    "                    best = current\n",
    "            except IndexError:\n",
    "                continue\n",
    "    if step != 1:\n",
    "        best_start = max((best_start - step, 0))\n",
    "        best_end   = min((best_end   + step, len(full)))\n",
    "    return \" \".join(\n",
    "        full[best_start:best_end]\n",
    "    )"
   ]
  },
  {
   "cell_type": "code",
   "execution_count": 2,
   "metadata": {},
   "outputs": [],
   "source": [
    "i = 300\n",
    "segments_file = mer.file.values[i]\n",
    "full_transcript = corp[corp.path == segments_file].transcript.values[0]\n",
    "segments_kaldi_transcript = mer.kaldi_transcript.values[i]"
   ]
  },
  {
   "cell_type": "markdown",
   "metadata": {},
   "source": [
    "It has been found out that the best course of action is to set up a step-down strategy: instead of matching words to words, it is best to do it first on hecto-words and then only identify word level matches when the best candidate string is far shorter.\n",
    "\n",
    "Specifically, when doing 100->1 step down, the execution time drops from 5h to 4s, which is a speed-up of more than 36 dB!\n",
    "\n",
    "Since this was not fast enough, I also implemented a three step version, and the algorithm has been corrected so that after first iteration we only trim the ends of the string."
   ]
  },
  {
   "cell_type": "code",
   "execution_count": 3,
   "metadata": {},
   "outputs": [],
   "source": [
    "coarse = find_optimal_subset(segments_kaldi_transcript, full_transcript, step=100)\n",
    "medium = find_optimal_subset(segments_kaldi_transcript,  coarse, step=10, limit=100)\n",
    "fine = find_optimal_subset(segments_kaldi_transcript,  medium, step=1, limit=10)"
   ]
  },
  {
   "cell_type": "code",
   "execution_count": 4,
   "metadata": {},
   "outputs": [
    {
     "data": {
      "text/plain": [
       "'otklonili te probleme? 364 zdravstvene ustanove postoje u planu mreže u Srbiji. 14 ih ima u Nišu. Ukoliko kupujete 36 olovke, to je po novom zakonu, biće jeftinije nego ako kupujete 1. Isto tako se pokazalo se, pokazalo se i par problema, o kojima ja sada govorim,'"
      ]
     },
     "execution_count": 4,
     "metadata": {},
     "output_type": "execute_result"
    }
   ],
   "source": [
    "fine"
   ]
  },
  {
   "cell_type": "code",
   "execution_count": 5,
   "metadata": {},
   "outputs": [
    {
     "data": {
      "text/plain": [
       "'otklonili te probleme<anchor_end> tristo šezdeset četiri zdravstvene ustanove postoje u planu mreže u srbiji četrnaest ih ima u nišu ukoliko kupujete trideset šest olovke to je po novom zakonu biće jeftinije nego ako kupujete jedan isto tako se pokazalo se pokazalo se i par problema o kojima ja sada govorim'"
      ]
     },
     "execution_count": 5,
     "metadata": {},
     "output_type": "execute_result"
    }
   ],
   "source": [
    "segments_kaldi_transcript"
   ]
  },
  {
   "cell_type": "markdown",
   "metadata": {},
   "source": [
    "# running it full scale"
   ]
  },
  {
   "cell_type": "code",
   "execution_count": 6,
   "metadata": {},
   "outputs": [],
   "source": [
    "\n",
    "\n",
    "\n",
    "def match_kaldi(row):\n",
    "    try:\n",
    "        segments_file = row[\"file\"]\n",
    "        full_transcript = corp[corp.path == segments_file].transcript.values[0]\n",
    "        segments_transcript = row[\"kaldi_transcript\"]\n",
    "\n",
    "        coarse = find_optimal_subset(segments_transcript, full_transcript, step=100)\n",
    "        medium = find_optimal_subset(segments_transcript,  coarse, step=10, limit=100)\n",
    "        fine = find_optimal_subset(segments_transcript,  medium, step=1, limit=10)\n",
    "        return fine\n",
    "    except:\n",
    "        return \"\"\n",
    "\n",
    "from concurrent.futures import ProcessPoolExecutor\n",
    "\n",
    "with ProcessPoolExecutor(max_workers=32) as executor:\n",
    "    results = executor.map(match_kaldi, [row for i, row in mer.iterrows()])\n",
    "mer[\"raw_transcript__matched_on_kaldi\"] = list(results)"
   ]
  },
  {
   "cell_type": "code",
   "execution_count": 7,
   "metadata": {},
   "outputs": [],
   "source": [
    "mer.to_json(\"025_segments_matched_with_raw.jsonl\", orient=\"records\", lines=True)"
   ]
  },
  {
   "cell_type": "code",
   "execution_count": 8,
   "metadata": {},
   "outputs": [],
   "source": [
    "def match_asr(row):\n",
    "    try:\n",
    "        segments_file = row[\"file\"]\n",
    "        full_transcript = corp[corp.path == segments_file].transcript.values[0]\n",
    "        segments_transcript = row[\"asr_transcription\"]\n",
    "\n",
    "        coarse = find_optimal_subset(segments_transcript, full_transcript, step=100)\n",
    "        medium = find_optimal_subset(segments_transcript,  coarse, step=10, limit=100)\n",
    "        fine = find_optimal_subset(segments_transcript,  medium, step=1, limit=10)\n",
    "        return fine\n",
    "    except:\n",
    "        return \"\"\n",
    "\n",
    "\n",
    "from concurrent.futures import ProcessPoolExecutor\n",
    "with ProcessPoolExecutor(max_workers=32) as executor:\n",
    "    results = executor.map(match_asr, [row for i, row in mer.iterrows()])\n",
    "mer[\"raw_transcript__matched_on_asr\"] = list(results)"
   ]
  },
  {
   "cell_type": "code",
   "execution_count": 9,
   "metadata": {},
   "outputs": [],
   "source": [
    "mer.to_json(\"025_segments_matched_with_raw.jsonl\", orient=\"records\", lines=True)"
   ]
  },
  {
   "cell_type": "code",
   "execution_count": 10,
   "metadata": {},
   "outputs": [],
   "source": [
    "import pandas as pd\n",
    "\n",
    "mer = pd.read_json(\"025_segments_matched_with_raw.jsonl\", orient=\"records\", lines=True)"
   ]
  },
  {
   "cell_type": "code",
   "execution_count": 11,
   "metadata": {},
   "outputs": [
    {
     "data": {
      "text/plain": [
       "Index(['file', 'start', 'end', 'asr_transcription', 'kaldi_transcript',\n",
       "       'guest_name', 'guest_description', 'host', 'kaldi_words',\n",
       "       'kaldi_word_starts', 'kaldi_word_ends', 'segment_file',\n",
       "       'average_distance', 'similarity_ratio', 'speaker_breakdown',\n",
       "       'Raw_transcript__matched_on_kaldi', 'Raw_transcript__matched_on_asr'],\n",
       "      dtype='object')"
      ]
     },
     "execution_count": 11,
     "metadata": {},
     "output_type": "execute_result"
    }
   ],
   "source": [
    "mer.columns"
   ]
  },
  {
   "cell_type": "code",
   "execution_count": 13,
   "metadata": {},
   "outputs": [],
   "source": [
    "mer[[\n",
    "'file', \n",
    "'segment_file',\n",
    "'start', \n",
    "'end', \n",
    "'asr_transcription', \n",
    "'kaldi_transcript',\n",
    "'raw_transcript__matched_on_kaldi', \n",
    "'raw_transcript__matched_on_asr',\n",
    "'guest_name', \n",
    "'guest_description', \n",
    "'host', \n",
    "'kaldi_words',\n",
    "'kaldi_word_starts',\n",
    "'kaldi_word_ends', \n",
    "'speaker_breakdown',\n",
    "'average_distance',\n",
    "'similarity_ratio',\n",
    "]].to_json(\"025_segments_matched_with_raw.jsonl\", orient=\"records\", lines=True)"
   ]
  },
  {
   "cell_type": "code",
   "execution_count": null,
   "metadata": {},
   "outputs": [
    {
     "data": {
      "text/html": [
       "<div>\n",
       "<style scoped>\n",
       "    .dataframe tbody tr th:only-of-type {\n",
       "        vertical-align: middle;\n",
       "    }\n",
       "\n",
       "    .dataframe tbody tr th {\n",
       "        vertical-align: top;\n",
       "    }\n",
       "\n",
       "    .dataframe thead th {\n",
       "        text-align: right;\n",
       "    }\n",
       "</style>\n",
       "<table border=\"1\" class=\"dataframe\">\n",
       "  <thead>\n",
       "    <tr style=\"text-align: right;\">\n",
       "      <th></th>\n",
       "      <th>asr_transcription</th>\n",
       "      <th>kaldi_transcript</th>\n",
       "      <th>Raw_transcript__matched_on_kaldi</th>\n",
       "      <th>Raw_transcript__matched_on_asr</th>\n",
       "    </tr>\n",
       "  </thead>\n",
       "  <tbody>\n",
       "    <tr>\n",
       "      <th>3418</th>\n",
       "      <td>moje generacija je odrastala slušajući bajki koji je pričao zijaksokolović palčić trno lužica zl...</td>\n",
       "      <td>moje ime je</td>\n",
       "      <td>broj i misle da će</td>\n",
       "      <td>generacija je odrastala slušajući bajke koje je pričao Zijah Sokolović, Palčić, Trnoružica, Zlat...</td>\n",
       "    </tr>\n",
       "    <tr>\n",
       "      <th>11043</th>\n",
       "      <td>folk svezda svetlana cecera žnatović nastupit će za srpsku novu godinu unišu kakvu poruku ovim v...</td>\n",
       "      <td>folk ne znam da</td>\n",
       "      <td>znao da</td>\n",
       "      <td>Folk zvezda Svetlana Ceca Ražnjatović nastupiće za srpsku novu godinu u Nišu. Kakvu poruku ovim ...</td>\n",
       "    </tr>\n",
       "    <tr>\n",
       "      <th>11461</th>\n",
       "      <td>koliko će još dugo deponija bubanj biti u funkciji kako će se otpad u budućnosti odlagati i šta ...</td>\n",
       "      <td>koliko je ljudi upozoreno i koliko je</td>\n",
       "      <td>ostali mediji, imate sudski proces koji je</td>\n",
       "      <td>Kako će se otpad u budućnosti odlagati i šta će biti sa vanpijačnom prodajom u Nišu? Moje ime je...</td>\n",
       "    </tr>\n",
       "    <tr>\n",
       "      <th>8915</th>\n",
       "      <td>naš današnji gos bio je u svim vladama poslije 20. godine ni u jedno i nije ostop po mandat mlađ...</td>\n",
       "      <td>naš gost moje ime je predrag blagojević bila je</td>\n",
       "      <td>osam od deset pitanja je bilo šta je</td>\n",
       "      <td>današnji gost bio je u svim vladama od 2000. godine i ni u jednoj nije ostao pun mandat, Mlađan ...</td>\n",
       "    </tr>\n",
       "    <tr>\n",
       "      <th>12449</th>\n",
       "      <td>srbiji odavno nije u republitičkom parlamentu predstavljao neko tko koga bar građani ne poznaju ...</td>\n",
       "      <td>srbiji već pita gde će dete da mi ide u</td>\n",
       "      <td>vratiti i da vreme radi samo za Demokratsku</td>\n",
       "      <td>Srbije odavno nije u republičkom parlamentu predstavljao neko koga, bar građani, ne poznaju samo...</td>\n",
       "    </tr>\n",
       "    <tr>\n",
       "      <th>...</th>\n",
       "      <td>...</td>\n",
       "      <td>...</td>\n",
       "      <td>...</td>\n",
       "      <td>...</td>\n",
       "    </tr>\n",
       "    <tr>\n",
       "      <th>11365</th>\n",
       "      <td>mi smo pokušali da preko strukovnih udruženja ukažemo na ovaj problem sva reprezentativna udruže...</td>\n",
       "      <td>mi smo pokušali da preko strukovnih udruženja ukažemo na ovaj problem sva reprezentativna udruže...</td>\n",
       "      <td>Mi smo pokušali da preko strukovnih udruženja ukažemo na ovaj problem. Sva reprezentativna udruž...</td>\n",
       "      <td>Mi smo pokušali da preko strukovnih udruženja ukažemo na ovaj problem. Sva reprezentativna udruž...</td>\n",
       "    </tr>\n",
       "    <tr>\n",
       "      <th>349</th>\n",
       "      <td>mnogo sam godina bio novinar aktivno radio i znam kako je bilo u različitim vremenima</td>\n",
       "      <td>mnogo sam godina bio novinar aktivno radio i znam kako je bilo u različitim vremenima</td>\n",
       "      <td>Mnogo sam godina bio novinar, aktivno radio i znam kako je bilo u različitim vremenima.</td>\n",
       "      <td>Mnogo sam godina bio novinar, aktivno radio i znam kako je bilo u različitim vremenima.</td>\n",
       "    </tr>\n",
       "    <tr>\n",
       "      <th>353</th>\n",
       "      <td>redakcija je uglavnom stajala iza svojih novinara i to je nešto što je jako bitno danas mislim d...</td>\n",
       "      <td>redakcija je uglavnom stajala iza svojih novinara i to je nešto što je jako bitno danas mislim d...</td>\n",
       "      <td>pratim, jednostavno sklapam mozaik iz informacija koje čujem. To nije dobro ali današnje vreme j...</td>\n",
       "      <td>pratim, jednostavno sklapam mozaik iz informacija koje čujem. To nije dobro ali današnje vreme j...</td>\n",
       "    </tr>\n",
       "    <tr>\n",
       "      <th>172</th>\n",
       "      <td>šta je konkretno bio vaš motiv</td>\n",
       "      <td>šta je konkretno bio vaš motiv&lt;anchor_end&gt;</td>\n",
       "      <td>da će možda neko od tih 46 vaših kolegai</td>\n",
       "      <td>da će možda neko od tih 46 vaših kolegai</td>\n",
       "    </tr>\n",
       "    <tr>\n",
       "      <th>554</th>\n",
       "      <td>je u mnogome izvor mnogih problema</td>\n",
       "      <td>je u mnogome izvor mnogih problema</td>\n",
       "      <td>jeste! I mogu da kažem da jeste problem</td>\n",
       "      <td>jeste! I mogu da kažem da jeste problem</td>\n",
       "    </tr>\n",
       "  </tbody>\n",
       "</table>\n",
       "<p>14514 rows × 4 columns</p>\n",
       "</div>"
      ],
      "text/plain": [
       "                                                                                         asr_transcription  \\\n",
       "3418   moje generacija je odrastala slušajući bajki koji je pričao zijaksokolović palčić trno lužica zl...   \n",
       "11043  folk svezda svetlana cecera žnatović nastupit će za srpsku novu godinu unišu kakvu poruku ovim v...   \n",
       "11461  koliko će još dugo deponija bubanj biti u funkciji kako će se otpad u budućnosti odlagati i šta ...   \n",
       "8915   naš današnji gos bio je u svim vladama poslije 20. godine ni u jedno i nije ostop po mandat mlađ...   \n",
       "12449  srbiji odavno nije u republitičkom parlamentu predstavljao neko tko koga bar građani ne poznaju ...   \n",
       "...                                                                                                    ...   \n",
       "11365  mi smo pokušali da preko strukovnih udruženja ukažemo na ovaj problem sva reprezentativna udruže...   \n",
       "349                  mnogo sam godina bio novinar aktivno radio i znam kako je bilo u različitim vremenima   \n",
       "353    redakcija je uglavnom stajala iza svojih novinara i to je nešto što je jako bitno danas mislim d...   \n",
       "172                                                                         šta je konkretno bio vaš motiv   \n",
       "554                                                                     je u mnogome izvor mnogih problema   \n",
       "\n",
       "                                                                                          kaldi_transcript  \\\n",
       "3418                                                                                           moje ime je   \n",
       "11043                                                                                      folk ne znam da   \n",
       "11461                                                                koliko je ljudi upozoreno i koliko je   \n",
       "8915                                                       naš gost moje ime je predrag blagojević bila je   \n",
       "12449                                                              srbiji već pita gde će dete da mi ide u   \n",
       "...                                                                                                    ...   \n",
       "11365  mi smo pokušali da preko strukovnih udruženja ukažemo na ovaj problem sva reprezentativna udruže...   \n",
       "349                  mnogo sam godina bio novinar aktivno radio i znam kako je bilo u različitim vremenima   \n",
       "353    redakcija je uglavnom stajala iza svojih novinara i to je nešto što je jako bitno danas mislim d...   \n",
       "172                                                             šta je konkretno bio vaš motiv<anchor_end>   \n",
       "554                                                                     je u mnogome izvor mnogih problema   \n",
       "\n",
       "                                                                          Raw_transcript__matched_on_kaldi  \\\n",
       "3418                                                                                    broj i misle da će   \n",
       "11043                                                                                              znao da   \n",
       "11461                                                           ostali mediji, imate sudski proces koji je   \n",
       "8915                                                                  osam od deset pitanja je bilo šta je   \n",
       "12449                                                          vratiti i da vreme radi samo za Demokratsku   \n",
       "...                                                                                                    ...   \n",
       "11365  Mi smo pokušali da preko strukovnih udruženja ukažemo na ovaj problem. Sva reprezentativna udruž...   \n",
       "349                Mnogo sam godina bio novinar, aktivno radio i znam kako je bilo u različitim vremenima.   \n",
       "353    pratim, jednostavno sklapam mozaik iz informacija koje čujem. To nije dobro ali današnje vreme j...   \n",
       "172                                                               da će možda neko od tih 46 vaših kolegai   \n",
       "554                                                                jeste! I mogu da kažem da jeste problem   \n",
       "\n",
       "                                                                            Raw_transcript__matched_on_asr  \n",
       "3418   generacija je odrastala slušajući bajke koje je pričao Zijah Sokolović, Palčić, Trnoružica, Zlat...  \n",
       "11043  Folk zvezda Svetlana Ceca Ražnjatović nastupiće za srpsku novu godinu u Nišu. Kakvu poruku ovim ...  \n",
       "11461  Kako će se otpad u budućnosti odlagati i šta će biti sa vanpijačnom prodajom u Nišu? Moje ime je...  \n",
       "8915   današnji gost bio je u svim vladama od 2000. godine i ni u jednoj nije ostao pun mandat, Mlađan ...  \n",
       "12449  Srbije odavno nije u republičkom parlamentu predstavljao neko koga, bar građani, ne poznaju samo...  \n",
       "...                                                                                                    ...  \n",
       "11365  Mi smo pokušali da preko strukovnih udruženja ukažemo na ovaj problem. Sva reprezentativna udruž...  \n",
       "349                Mnogo sam godina bio novinar, aktivno radio i znam kako je bilo u različitim vremenima.  \n",
       "353    pratim, jednostavno sklapam mozaik iz informacija koje čujem. To nije dobro ali današnje vreme j...  \n",
       "172                                                               da će možda neko od tih 46 vaših kolegai  \n",
       "554                                                                jeste! I mogu da kažem da jeste problem  \n",
       "\n",
       "[14514 rows x 4 columns]"
      ]
     },
     "execution_count": 40,
     "metadata": {},
     "output_type": "execute_result"
    }
   ],
   "source": [
    "pd.set_option(\"display.max_colwidth\", 100)\n",
    "mer.sort_values(\"similarity_ratio\")[\"asr_transcription kaldi_transcript Raw_transcript__matched_on_kaldi Raw_transcript__matched_on_asr\".split()]"
   ]
  },
  {
   "cell_type": "code",
   "execution_count": null,
   "metadata": {},
   "outputs": [
    {
     "data": {
      "text/plain": [
       "'je, da kažem, jedna ustanova. Igrom slucaja je dr Radovanović na čelu te ustanove. Tako je. JV: Vi ste donedavno bili i direktor jednog lokalnog javnog preduzeća. Ali ono što vas pitam jeste, prvenstveno, šta ste vi uradili ili planirate da uradite kao narodni poslanici?'"
      ]
     },
     "execution_count": 34,
     "metadata": {},
     "output_type": "execute_result"
    }
   ],
   "source": [
    "mer.Raw_transcript__matched_on_asr.values[8]"
   ]
  },
  {
   "cell_type": "code",
   "execution_count": 16,
   "metadata": {},
   "outputs": [
    {
     "data": {
      "text/html": [
       "<div>\n",
       "<style scoped>\n",
       "    .dataframe tbody tr th:only-of-type {\n",
       "        vertical-align: middle;\n",
       "    }\n",
       "\n",
       "    .dataframe tbody tr th {\n",
       "        vertical-align: top;\n",
       "    }\n",
       "\n",
       "    .dataframe thead th {\n",
       "        text-align: right;\n",
       "    }\n",
       "</style>\n",
       "<table border=\"1\" class=\"dataframe\">\n",
       "  <thead>\n",
       "    <tr style=\"text-align: right;\">\n",
       "      <th></th>\n",
       "      <th>asr_transcription</th>\n",
       "      <th>kaldi_transcript</th>\n",
       "      <th>raw_transcript__matched_on_kaldi</th>\n",
       "    </tr>\n",
       "  </thead>\n",
       "  <tbody>\n",
       "    <tr>\n",
       "      <th>10147</th>\n",
       "      <td>raspoređeni tako da kad jedan do od 250brojnih...</td>\n",
       "      <td>raspoređeni tako da ako jedan broj prođe u nar...</td>\n",
       "      <td>raspoređeni, tako da ako jedan broj prođe u na...</td>\n",
       "    </tr>\n",
       "    <tr>\n",
       "      <th>3723</th>\n",
       "      <td>ukoliko se gledamo kružni tok koji nije sinoli...</td>\n",
       "      <td>ukoliko gledamo kružni tok koji nije signalisa...</td>\n",
       "      <td>Ukoliko gledamo kružni tok koji nije signalisa...</td>\n",
       "    </tr>\n",
       "    <tr>\n",
       "      <th>3005</th>\n",
       "      <td>nije samo to jedini slučaj podsjetio bih recim...</td>\n",
       "      <td>&lt;anchor_start&gt;nije samo to jedini slučaj podse...</td>\n",
       "      <td>samo to jedini slučaj, podsetio bi gledaoce na...</td>\n",
       "    </tr>\n",
       "    <tr>\n",
       "      <th>119</th>\n",
       "      <td>krađana drugih zemalja europa naročito što se ...</td>\n",
       "      <td>građana drugih zemalja evrope naročito što se ...</td>\n",
       "      <td>građana drugih zemalja Evrope. Naročito što se...</td>\n",
       "    </tr>\n",
       "    <tr>\n",
       "      <th>6215</th>\n",
       "      <td>tu su potencijali u velikoj drvnoj masi vo taj...</td>\n",
       "      <td>tu su potencijali u velikoj drvnoj masi taj ši...</td>\n",
       "      <td>Tu su potencijali u velikoj drvnoj masi, taj Š...</td>\n",
       "    </tr>\n",
       "  </tbody>\n",
       "</table>\n",
       "</div>"
      ],
      "text/plain": [
       "                                       asr_transcription  \\\n",
       "10147  raspoređeni tako da kad jedan do od 250brojnih...   \n",
       "3723   ukoliko se gledamo kružni tok koji nije sinoli...   \n",
       "3005   nije samo to jedini slučaj podsjetio bih recim...   \n",
       "119    krađana drugih zemalja europa naročito što se ...   \n",
       "6215   tu su potencijali u velikoj drvnoj masi vo taj...   \n",
       "\n",
       "                                        kaldi_transcript  \\\n",
       "10147  raspoređeni tako da ako jedan broj prođe u nar...   \n",
       "3723   ukoliko gledamo kružni tok koji nije signalisa...   \n",
       "3005   <anchor_start>nije samo to jedini slučaj podse...   \n",
       "119    građana drugih zemalja evrope naročito što se ...   \n",
       "6215   tu su potencijali u velikoj drvnoj masi taj ši...   \n",
       "\n",
       "                        raw_transcript__matched_on_kaldi  \n",
       "10147  raspoređeni, tako da ako jedan broj prođe u na...  \n",
       "3723   Ukoliko gledamo kružni tok koji nije signalisa...  \n",
       "3005   samo to jedini slučaj, podsetio bi gledaoce na...  \n",
       "119    građana drugih zemalja Evrope. Naročito što se...  \n",
       "6215   Tu su potencijali u velikoj drvnoj masi, taj Š...  "
      ]
     },
     "execution_count": 16,
     "metadata": {},
     "output_type": "execute_result"
    }
   ],
   "source": [
    "mer[mer.similarity_ratio > 75].sort_values(\"similarity_ratio\")[\"asr_transcription kaldi_transcript raw_transcript__matched_on_kaldi\".split()].head()"
   ]
  },
  {
   "cell_type": "code",
   "execution_count": 17,
   "metadata": {},
   "outputs": [
    {
     "data": {
      "text/plain": [
       "68.60344444444445"
      ]
     },
     "execution_count": 17,
     "metadata": {},
     "output_type": "execute_result"
    }
   ],
   "source": [
    "ss = mer[mer.similarity_ratio>75]\n",
    "(ss.end-ss.start).sum() / 3600"
   ]
  },
  {
   "cell_type": "code",
   "execution_count": null,
   "metadata": {},
   "outputs": [],
   "source": []
  }
 ],
 "metadata": {
  "kernelspec": {
   "display_name": "Python 3.9.7 ('base')",
   "language": "python",
   "name": "python3"
  },
  "language_info": {
   "codemirror_mode": {
    "name": "ipython",
    "version": 3
   },
   "file_extension": ".py",
   "mimetype": "text/x-python",
   "name": "python",
   "nbconvert_exporter": "python",
   "pygments_lexer": "ipython3",
   "version": "3.9.7"
  },
  "orig_nbformat": 4,
  "vscode": {
   "interpreter": {
    "hash": "2d30c88cb7145d662123f76f8c64609bc18e52940d2861adec2407b68f2e334f"
   }
  }
 },
 "nbformat": 4,
 "nbformat_minor": 2
}
