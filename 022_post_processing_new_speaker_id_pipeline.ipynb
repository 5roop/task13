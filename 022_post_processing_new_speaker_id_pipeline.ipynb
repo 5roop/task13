{
 "cells": [
  {
   "cell_type": "markdown",
   "metadata": {},
   "source": [
    "This notebook builds on notebook 18. The purpose of it is to recalculate the times where the guest or the host are speaking."
   ]
  },
  {
   "cell_type": "code",
   "execution_count": 1,
   "metadata": {},
   "outputs": [],
   "source": [
    "import pandas as pd\n",
    "import numpy as np\n",
    "\n",
    "mer = pd.read_json(\"021_JV_segments_with_metadata.jsonl\", orient=\"records\", lines=True)\n",
    "mer = mer[~mer.file.str.contains(\"_BzZf0fGg0E\")]\n",
    "corp = pd.read_json(\"020_JV_with_metadata.jsonl\", orient=\"records\", lines=True)\n",
    "\n",
    "def lowercase_prune_whitespace(s:str) -> str:\n",
    "    return \" \".join(\n",
    "        s.split()\n",
    "    ).casefold()\n",
    "\n"
   ]
  },
  {
   "cell_type": "code",
   "execution_count": 40,
   "metadata": {},
   "outputs": [
    {
     "data": {
      "text/plain": [
       "[('guest', 62.98, 77.26), ('host', 77.26, 81.79)]"
      ]
     },
     "execution_count": 40,
     "metadata": {},
     "output_type": "execute_result"
    }
   ],
   "source": [
    "from numpy import argmax\n",
    "from fuzzywuzzy.fuzz import partial_ratio\n",
    "i, row = list(mer.iterrows())[3]\n",
    "\n",
    "\n",
    "def breakdown_speakers(row): #-> list[tuple(str, float, float)]\n",
    "    SIMILARITY_LIMIT = 80\n",
    "    file = row[\"file\"]\n",
    "    questions = corp.loc[corp.path == file, \"host_questions\"].tolist()[0]\n",
    "\n",
    "    kaldi_text = row[\"kaldi_transcript\"]\n",
    "    speaker_breakdown = []\n",
    "    is_tagged = \"anchor_\" in kaldi_text\n",
    "    if not is_tagged:\n",
    "        partial_ratios = [partial_ratio(j, kaldi_text) for j in questions]\n",
    "        maximal_partial_ratio = max(partial_ratios)\n",
    "        if maximal_partial_ratio >= SIMILARITY_LIMIT:\n",
    "            speaker_breakdown.append((\n",
    "                \"host\",\n",
    "                min(row[\"kaldi_word_starts\"]),\n",
    "                max(row[\"kaldi_word_ends\"])\n",
    "            ))\n",
    "        else:\n",
    "            speaker_breakdown.append((\n",
    "                \"guest\",\n",
    "                min(row[\"kaldi_word_starts\"]),\n",
    "                max(row[\"kaldi_word_ends\"])\n",
    "            ))\n",
    "    else:\n",
    "        # We have 0 < tags < 6.\n",
    "        words = row[\"kaldi_words\"]\n",
    "        starts = row[\"kaldi_word_starts\"]\n",
    "        ends = row[\"kaldi_word_ends\"]\n",
    "        assert len(words) == len(starts), \"Kaldi Words and Starts are misshapen\"\n",
    "        assert len(words) == len(ends), \"Kaldi Words and Ends are misshapen\"\n",
    "\n",
    "        segment_start = starts[0]\n",
    "        is_host_start = [w.startswith(\"<anchor_start>\") for w in words]\n",
    "        is_host_end = [w.endswith(\"<anchor_end>\") for w in words]\n",
    "        speaking = None\n",
    "        for start, end, is_start, is_end in zip(\n",
    "            starts, ends, is_host_start, is_host_end):\n",
    "            if not (is_start or is_end):\n",
    "                continue\n",
    "            if is_end:\n",
    "                speaking = \"guest\"\n",
    "                speaker_breakdown.append(( \"host\", segment_start, end))\n",
    "                segment_start = end\n",
    "\n",
    "            if is_start:\n",
    "                speaking = \"host\"\n",
    "                speaker_breakdown.append((\"guest\", segment_start, start))\n",
    "                segment_start = start\n",
    "        speaker_breakdown.append((speaking, segment_start, ends[-1]))\n",
    "\n",
    "    return speaker_breakdown\n",
    "\n",
    "breakdown_speakers(row)\n"
   ]
  },
  {
   "cell_type": "code",
   "execution_count": 41,
   "metadata": {},
   "outputs": [
    {
     "data": {
      "application/vnd.jupyter.widget-view+json": {
       "model_id": "1ec5a98531da4f368638e93855218a51",
       "version_major": 2,
       "version_minor": 0
      },
      "text/plain": [
       "0it [00:00, ?it/s]"
      ]
     },
     "metadata": {},
     "output_type": "display_data"
    }
   ],
   "source": [
    "from tqdm.auto import tqdm\n",
    "speaker_breakdowns = [breakdown_speakers(row) for i, row  in tqdm(mer.iterrows())]"
   ]
  },
  {
   "cell_type": "code",
   "execution_count": 42,
   "metadata": {},
   "outputs": [],
   "source": [
    "mer[\"speaker_breakdown\"] = speaker_breakdowns"
   ]
  },
  {
   "cell_type": "code",
   "execution_count": 44,
   "metadata": {},
   "outputs": [],
   "source": [
    "mer.to_json(\"023_JV_segments_matched_speaker_id_added.jsonl\", orient=\"records\", lines=True)"
   ]
  },
  {
   "cell_type": "code",
   "execution_count": 56,
   "metadata": {},
   "outputs": [
    {
     "data": {
      "text/plain": [
       "68.60344444444445"
      ]
     },
     "execution_count": 56,
     "metadata": {},
     "output_type": "execute_result"
    }
   ],
   "source": [
    "c = mer.similarity_ratio > 75\n",
    "sset = mer[c]\n",
    "(sset.end - sset.start).sum()/3600\n"
   ]
  },
  {
   "cell_type": "code",
   "execution_count": 46,
   "metadata": {},
   "outputs": [
    {
     "data": {
      "text/plain": [
       "Index(['file', 'start', 'end', 'asr_transcription', 'kaldi_transcript',\n",
       "       'guest_name', 'guest_description', 'host', 'kaldi_words',\n",
       "       'kaldi_word_starts', 'kaldi_word_ends', 'segment_file',\n",
       "       'average_distance', 'similarity_ratio', 'speaker_breakdown'],\n",
       "      dtype='object')"
      ]
     },
     "execution_count": 46,
     "metadata": {},
     "output_type": "execute_result"
    }
   ],
   "source": [
    "mer.columns"
   ]
  },
  {
   "cell_type": "code",
   "execution_count": 50,
   "metadata": {},
   "outputs": [
    {
     "data": {
      "text/plain": [
       "71.15511111111111"
      ]
     },
     "execution_count": 50,
     "metadata": {},
     "output_type": "execute_result"
    }
   ],
   "source": [
    "(mer.end - mer.start).sum()/3600"
   ]
  },
  {
   "cell_type": "code",
   "execution_count": 52,
   "metadata": {},
   "outputs": [
    {
     "data": {
      "text/plain": [
       "<AxesSubplot:ylabel='Frequency'>"
      ]
     },
     "execution_count": 52,
     "metadata": {},
     "output_type": "execute_result"
    },
    {
     "data": {
      "image/png": "[encoded data removed]",
      "text/plain": [
       "<Figure size 432x288 with 1 Axes>"
      ]
     },
     "metadata": {
      "needs_background": "light"
     },
     "output_type": "display_data"
    }
   ],
   "source": [
    "mer.similarity_ratio.plot.hist(bins=100)"
   ]
  },
  {
   "cell_type": "markdown",
   "metadata": {},
   "source": [
    "# Converting the files to MP3:"
   ]
  },
  {
   "cell_type": "code",
   "execution_count": 16,
   "metadata": {},
   "outputs": [
    {
     "name": "stdout",
     "output_type": "stream",
     "text": [
      "seg_audio/a5xHn6JcDCs__141.8__158.2__.wav\n"
     ]
    }
   ],
   "source": [
    "from pydub import AudioSegment\n",
    "from pathlib import Path\n",
    "from concurrent.futures import ProcessPoolExecutor\n",
    "\n",
    "indir = Path(\"seg_audio\")\n",
    "outdir = Path(\"seg_audio_mp3\")\n",
    "try:\n",
    "    outdir.mkdir()\n",
    "except:\n",
    "    pass\n",
    "for inpath in indir.glob(\"*.wav\"):\n",
    "    print(inpath)\n",
    "    break\n",
    "\n",
    "def convert(inpath):\n",
    "    audio = AudioSegment.from_wav(inpath)\n",
    "    audio.export(str(outdir) + \"/\" + inpath.stem + \".mp3\", format=\"mp3\")\n",
    "\n",
    "with ProcessPoolExecutor(max_workers=300) as executor:\n",
    "    executor.map(convert, list(indir.glob(\"*.wav\")))"
   ]
  },
  {
   "cell_type": "code",
   "execution_count": null,
   "metadata": {},
   "outputs": [],
   "source": []
  }
 ],
 "metadata": {
  "kernelspec": {
   "display_name": "Python 3.9.7 ('base')",
   "language": "python",
   "name": "python3"
  },
  "language_info": {
   "codemirror_mode": {
    "name": "ipython",
    "version": 3
   },
   "file_extension": ".py",
   "mimetype": "text/x-python",
   "name": "python",
   "nbconvert_exporter": "python",
   "pygments_lexer": "ipython3",
   "version": "3.9.7"
  },
  "orig_nbformat": 4,
  "vscode": {
   "interpreter": {
    "hash": "2d30c88cb7145d662123f76f8c64609bc18e52940d2861adec2407b68f2e334f"
   }
  }
 },
 "nbformat": 4,
 "nbformat_minor": 2
}
