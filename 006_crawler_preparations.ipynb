{
 "cells": [
  {
   "cell_type": "markdown",
   "metadata": {},
   "source": [
    "# Pars 1: URL to transcript, yt hash"
   ]
  },
  {
   "cell_type": "code",
   "execution_count": 1,
   "metadata": {},
   "outputs": [],
   "source": [
    "from bs4 import BeautifulSoup\n",
    "import numpy as np\n",
    "\n",
    "import requests\n",
    "\n",
    "url = \"https://www.juznevesti.com/15-minuta/Marko-Nedeljkovic.sr.html\"\n",
    "\n",
    "req = requests.get(url)\n",
    "soup = BeautifulSoup(req.text, \"html.parser\")"
   ]
  },
  {
   "cell_type": "code",
   "execution_count": 2,
   "metadata": {},
   "outputs": [
    {
     "data": {
      "text/plain": [
       "'Sk4JedgwClY'"
      ]
     },
     "execution_count": 2,
     "metadata": {},
     "output_type": "execute_result"
    }
   ],
   "source": [
    "text = \"\"\n",
    "for i in soup.find_all(\"div\"):\n",
    "    current_classes_set = set(i.get(\"class\", list()))\n",
    "    if current_classes_set == {\"bbredbolder\", \"mb20\", \"desc_holder\"}:\n",
    "        for j in i.find_all(\"p\"):\n",
    "            text += j.text + \"\\n\"\n",
    "video_div = soup.find(id=\"video_1\")\n",
    "video_link = video_div.contents[1].get(\"src\")\n",
    "yt_hash = video_link.split(\"/\")[-1]\n",
    "yt_hash\n"
   ]
  },
  {
   "cell_type": "code",
   "execution_count": 3,
   "metadata": {},
   "outputs": [
    {
     "data": {
      "text/plain": [
       "['\\n',\n",
       " <iframe allowfullscreen=\"\" frameborder=\"0\" height=\"265\" src=\"https://www.youtube.com/embed/Sk4JedgwClY\" width=\"470\"></iframe>,\n",
       " '\\n']"
      ]
     },
     "execution_count": 3,
     "metadata": {},
     "output_type": "execute_result"
    }
   ],
   "source": [
    "video_div.contents"
   ]
  },
  {
   "cell_type": "markdown",
   "metadata": {},
   "source": [
    "# Pars 2: generating URLs."
   ]
  },
  {
   "cell_type": "code",
   "execution_count": 4,
   "metadata": {},
   "outputs": [],
   "source": [
    "found_urls = []\n",
    "pagenumber = 2\n",
    "for i in range(1, 29):\n",
    "    url = f\"https://www.juznevesti.com/Tagovi/Intervju-15-minuta.{pagenumber}.sr.html\"\n",
    "    req = requests.get(url)\n",
    "    soup = BeautifulSoup(req.text, \"html.parser\")\n",
    "    divs = soup.find_all(\"div\")\n",
    "    for div in divs:\n",
    "        current_class = div.get(\"class\", [])\n",
    "        if \"t15min-list__item\" in current_class or \"t15min-list__featured\" in current_class:\n",
    "            found_urls.append([i  for i in div.find_all(\"a\") if i.get(\"class\", []) ==[\"db\"]][0].get(\"href\"))\n"
   ]
  },
  {
   "cell_type": "markdown",
   "metadata": {},
   "source": [
    "# Fusion of the two parts"
   ]
  },
  {
   "cell_type": "code",
   "execution_count": 13,
   "metadata": {},
   "outputs": [],
   "source": [
    "transcripts = list()\n",
    "hashes = list()\n",
    "\n",
    "for url in found_urls:\n",
    "    req = requests.get(url)\n",
    "    soup = BeautifulSoup(req.text, \"html.parser\")\n",
    "    current_text = \"\"\n",
    "    for i in soup.find_all(\"div\"):\n",
    "        current_classes_set = set(i.get(\"class\", list()))\n",
    "        if \"desc_holder\" in current_classes_set:\n",
    "            current_text = \"    \".join([j.text + \"\\n\" for j in i.find_all(\"p\")])\n",
    "    video_div = soup.find(id=\"video_1\")\n",
    "    for element in video_div.contents:\n",
    "        try:\n",
    "            video_link = element.get(\"src\", np.nan)\n",
    "            break\n",
    "        except KeyError:\n",
    "            continue\n",
    "    yt_hash = video_link.split(\"/\")[-1]\n",
    "    transcripts.append(current_text)\n",
    "    hashes.append(yt_hash)"
   ]
  },
  {
   "cell_type": "code",
   "execution_count": 14,
   "metadata": {},
   "outputs": [
    {
     "data": {
      "text/plain": [
       "[560, 560, 560]"
      ]
     },
     "execution_count": 14,
     "metadata": {},
     "output_type": "execute_result"
    }
   ],
   "source": [
    "list(map(len, [hashes, transcripts, found_urls]))"
   ]
  },
  {
   "cell_type": "code",
   "execution_count": 15,
   "metadata": {},
   "outputs": [
    {
     "data": {
      "text/html": [
       "<div>\n",
       "<style scoped>\n",
       "    .dataframe tbody tr th:only-of-type {\n",
       "        vertical-align: middle;\n",
       "    }\n",
       "\n",
       "    .dataframe tbody tr th {\n",
       "        vertical-align: top;\n",
       "    }\n",
       "\n",
       "    .dataframe thead th {\n",
       "        text-align: right;\n",
       "    }\n",
       "</style>\n",
       "<table border=\"1\" class=\"dataframe\">\n",
       "  <thead>\n",
       "    <tr style=\"text-align: right;\">\n",
       "      <th></th>\n",
       "      <th>url</th>\n",
       "      <th>yt_hash</th>\n",
       "      <th>transcript</th>\n",
       "    </tr>\n",
       "  </thead>\n",
       "  <tbody>\n",
       "    <tr>\n",
       "      <th>0</th>\n",
       "      <td>https://www.juznevesti.com/Kultura/Price-na-di...</td>\n",
       "      <td>PFSd3XZTvgA</td>\n",
       "      <td>Zbirkom priča Blag reč književnica i novinarka...</td>\n",
       "    </tr>\n",
       "    <tr>\n",
       "      <th>1</th>\n",
       "      <td>https://www.juznevesti.com/Drushtvo/143-godine...</td>\n",
       "      <td>KfKWnocf7Ec</td>\n",
       "      <td>Mnogi sadašnji đaci nastaviće stopama nekada s...</td>\n",
       "    </tr>\n",
       "    <tr>\n",
       "      <th>2</th>\n",
       "      <td>https://www.juznevesti.com/Sport/Piksi-Juzna-p...</td>\n",
       "      <td>FxvpyOsw9eU</td>\n",
       "      <td>Morate da budete pobednik i da se ne predajete...</td>\n",
       "    </tr>\n",
       "    <tr>\n",
       "      <th>3</th>\n",
       "      <td>https://www.juznevesti.com/Kultura/Srdjan-Drag...</td>\n",
       "      <td>x2eOJEf8vUA</td>\n",
       "      <td>Film Nebesa, čija je premijera održana i u Niš...</td>\n",
       "    </tr>\n",
       "    <tr>\n",
       "      <th>4</th>\n",
       "      <td>https://www.juznevesti.com/Politika/Zelenovic-...</td>\n",
       "      <td>SQg4s0P64j8</td>\n",
       "      <td>Zeleno i levo je politika platforme koju okupl...</td>\n",
       "    </tr>\n",
       "    <tr>\n",
       "      <th>...</th>\n",
       "      <td>...</td>\n",
       "      <td>...</td>\n",
       "      <td>...</td>\n",
       "    </tr>\n",
       "    <tr>\n",
       "      <th>555</th>\n",
       "      <td>https://www.juznevesti.com/Drushtvo/Doktor-Dej...</td>\n",
       "      <td>YtiVyNOM05k</td>\n",
       "      <td>Broj zaraženih raste, vakcinacija protiv koron...</td>\n",
       "    </tr>\n",
       "    <tr>\n",
       "      <th>556</th>\n",
       "      <td>https://www.juznevesti.com/Drushtvo/Jova-Radov...</td>\n",
       "      <td>s5CMMcA1Mqc</td>\n",
       "      <td>Šta nedostaje na današnjoj televiziji, zašto n...</td>\n",
       "    </tr>\n",
       "    <tr>\n",
       "      <th>557</th>\n",
       "      <td>https://www.juznevesti.com/Drushtvo/Smrtnost-u...</td>\n",
       "      <td>MwzywjsTT0o</td>\n",
       "      <td>Upoređujući otvorene podatke istraživači Pravo...</td>\n",
       "    </tr>\n",
       "    <tr>\n",
       "      <th>558</th>\n",
       "      <td>https://www.juznevesti.com/Drushtvo/Price-o-lo...</td>\n",
       "      <td>_9zD8JdezlE</td>\n",
       "      <td>Koncentracioni logor koji se tokom Drugog svet...</td>\n",
       "    </tr>\n",
       "    <tr>\n",
       "      <th>559</th>\n",
       "      <td>https://www.juznevesti.com/Drushtvo/Profesorka...</td>\n",
       "      <td>RP4HDmVYmis</td>\n",
       "      <td>Da vremenske neprilike poput grada i udara gro...</td>\n",
       "    </tr>\n",
       "  </tbody>\n",
       "</table>\n",
       "<p>560 rows × 3 columns</p>\n",
       "</div>"
      ],
      "text/plain": [
       "                                                   url      yt_hash  \\\n",
       "0    https://www.juznevesti.com/Kultura/Price-na-di...  PFSd3XZTvgA   \n",
       "1    https://www.juznevesti.com/Drushtvo/143-godine...  KfKWnocf7Ec   \n",
       "2    https://www.juznevesti.com/Sport/Piksi-Juzna-p...  FxvpyOsw9eU   \n",
       "3    https://www.juznevesti.com/Kultura/Srdjan-Drag...  x2eOJEf8vUA   \n",
       "4    https://www.juznevesti.com/Politika/Zelenovic-...  SQg4s0P64j8   \n",
       "..                                                 ...          ...   \n",
       "555  https://www.juznevesti.com/Drushtvo/Doktor-Dej...  YtiVyNOM05k   \n",
       "556  https://www.juznevesti.com/Drushtvo/Jova-Radov...  s5CMMcA1Mqc   \n",
       "557  https://www.juznevesti.com/Drushtvo/Smrtnost-u...  MwzywjsTT0o   \n",
       "558  https://www.juznevesti.com/Drushtvo/Price-o-lo...  _9zD8JdezlE   \n",
       "559  https://www.juznevesti.com/Drushtvo/Profesorka...  RP4HDmVYmis   \n",
       "\n",
       "                                            transcript  \n",
       "0    Zbirkom priča Blag reč književnica i novinarka...  \n",
       "1    Mnogi sadašnji đaci nastaviće stopama nekada s...  \n",
       "2    Morate da budete pobednik i da se ne predajete...  \n",
       "3    Film Nebesa, čija je premijera održana i u Niš...  \n",
       "4    Zeleno i levo je politika platforme koju okupl...  \n",
       "..                                                 ...  \n",
       "555  Broj zaraženih raste, vakcinacija protiv koron...  \n",
       "556  Šta nedostaje na današnjoj televiziji, zašto n...  \n",
       "557  Upoređujući otvorene podatke istraživači Pravo...  \n",
       "558  Koncentracioni logor koji se tokom Drugog svet...  \n",
       "559  Da vremenske neprilike poput grada i udara gro...  \n",
       "\n",
       "[560 rows x 3 columns]"
      ]
     },
     "execution_count": 15,
     "metadata": {},
     "output_type": "execute_result"
    }
   ],
   "source": [
    "\n",
    "import pandas as pd\n",
    "df = pd.DataFrame(data={\n",
    "\n",
    "    \"url\": found_urls,\n",
    "    \"yt_hash\": hashes,\n",
    "    \"transcript\": transcripts,\n",
    "})\n",
    "\n",
    "df"
   ]
  },
  {
   "cell_type": "code",
   "execution_count": 16,
   "metadata": {},
   "outputs": [
    {
     "data": {
      "text/plain": [
       "url           0\n",
       "yt_hash       0\n",
       "transcript    0\n",
       "dtype: int64"
      ]
     },
     "execution_count": 16,
     "metadata": {},
     "output_type": "execute_result"
    }
   ],
   "source": [
    "df.isna().sum(axis=0)"
   ]
  },
  {
   "cell_type": "code",
   "execution_count": 18,
   "metadata": {},
   "outputs": [],
   "source": [
    "df.to_csv(\"006_crawling_juznevesti.csv\", index=False)"
   ]
  },
  {
   "cell_type": "code",
   "execution_count": null,
   "metadata": {},
   "outputs": [],
   "source": []
  }
 ],
 "metadata": {
  "interpreter": {
   "hash": "7f6f5766036ee03d059e365a942add07f79c17033585e9357ee8157d52fe6bb9"
  },
  "kernelspec": {
   "display_name": "Python 3.8.3 ('base')",
   "language": "python",
   "name": "python3"
  },
  "language_info": {
   "codemirror_mode": {
    "name": "ipython",
    "version": 3
   },
   "file_extension": ".py",
   "mimetype": "text/x-python",
   "name": "python",
   "nbconvert_exporter": "python",
   "pygments_lexer": "ipython3",
   "version": "3.8.3"
  },
  "orig_nbformat": 4
 },
 "nbformat": 4,
 "nbformat_minor": 2
}
