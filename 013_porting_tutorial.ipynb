{
 "cells": [
  {
   "cell_type": "code",
   "execution_count": 13,
   "metadata": {},
   "outputs": [
    {
     "name": "stdout",
     "output_type": "stream",
     "text": [
      "Skipping 0'th segment because too little words: 6\n",
      "Skipping 0'th segment because too little words: 7\n",
      "ERROR: no candidates found!\n",
      "ERROR: no candidates found!\n",
      "ERROR: no candidates found!\n",
      "ERROR: no candidates found!\n"
     ]
    }
   ],
   "source": [
    "import pandas as pd\n",
    "import json\n",
    "from tempfile import NamedTemporaryFile\n",
    "from pathlib import Path\n",
    "from utils.matching import Matcher, load_segments\n",
    "df = pd.read_csv(\"006_crawling_juznevesti.csv\")\n",
    "segs = pd.read_csv(\"011_segments.csv\").rename(columns={\"predicted\":\"text\"})\n",
    "segs[\"asr_transcription\"] = \"\"\n",
    "segs[\"ratio\"] = \"\"\n",
    "segs[\"webpage_transcript\"] = \"\"\n",
    "for path in segs.file.unique():\n",
    "    try:\n",
    "        cond = segs.file == path\n",
    "        original_transcription = \" \".join(df[df.path==path].transcript)\n",
    "\n",
    "        with NamedTemporaryFile() as f:\n",
    "            asr_file = Path(f.name)\n",
    "            asr_results = segs.loc[cond, :].to_json(asr_file, orient=\"records\", lines=True)\n",
    "            asr_results = load_segments(asr_file)\n",
    "        with NamedTemporaryFile() as g:\n",
    "            transcription_file = Path(g.name)\n",
    "            transcription_file.write_text(original_transcription)\n",
    "            matcher = Matcher(transcription_file)\n",
    "        positions = matcher.match(asr_results)\n",
    "        segs.loc[cond, \"asr_transcription\"] = [\" \".join(i.segment.text) for i in positions]\n",
    "        segs.loc[cond, \"webpage_transcript\"] = [\" \".join(\n",
    "            original_transcription.split()[i.corp_start:i.corp_end+1]\n",
    "        ) for i in positions]\n",
    "        segs.loc[cond, \"ratio\"] = [i.ratio for i in positions]\n",
    "    except AttributeError:\n",
    "        continue\n",
    "segs.to_json(\"013_segments_matched.jsonl\", orient=\"records\", lines=True)"
   ]
  },
  {
   "cell_type": "code",
   "execution_count": 12,
   "metadata": {},
   "outputs": [
    {
     "data": {
      "text/plain": [
       "(293,)"
      ]
     },
     "execution_count": 12,
     "metadata": {},
     "output_type": "execute_result"
    }
   ],
   "source": [
    "import pandas as pd\n",
    "df = pd.read_json(\"013_segments_matched.jsonl\", orient=\"records\", lines=True)\n",
    "df.file.unique().shape"
   ]
  },
  {
   "cell_type": "code",
   "execution_count": 8,
   "metadata": {},
   "outputs": [
    {
     "data": {
      "text/plain": [
       "['Od',\n",
       " 'kada',\n",
       " 'je',\n",
       " '2004.',\n",
       " 'usvojen',\n",
       " 'Zakon',\n",
       " 'o',\n",
       " 'slobodnom',\n",
       " 'pristupu',\n",
       " 'informacijama',\n",
       " 'od',\n",
       " 'javnog',\n",
       " 'značaja',\n",
       " 'postao',\n",
       " 'je',\n",
       " 'nezaobilazan',\n",
       " 'alat',\n",
       " 'za',\n",
       " 'mnoge',\n",
       " 'novinare',\n",
       " 'ali',\n",
       " 'i',\n",
       " 'građanske',\n",
       " 'aktiviste.',\n",
       " 'Poput',\n",
       " 'šale,',\n",
       " 'kada',\n",
       " 'dečak',\n",
       " 'pita',\n",
       " 'roditelje',\n",
       " 'kako',\n",
       " 'ste',\n",
       " 'vi',\n",
       " 'slali',\n",
       " 'emailove',\n",
       " 'pre']"
      ]
     },
     "execution_count": 8,
     "metadata": {},
     "output_type": "execute_result"
    }
   ],
   "source": [
    "original_transcription.split()[19:55]"
   ]
  },
  {
   "cell_type": "code",
   "execution_count": 15,
   "metadata": {},
   "outputs": [
    {
     "data": {
      "text/plain": [
       "Position(corp_start=19, corp_end=55, seg_start=0, seg_end=37, ratio=0.8493150684931506, segment=Segment(file='audio/fTfyE4ZdZqY.wav', start=16.3, end=33.1, text=['od', 'kada', 'je', '2004.', 'usvojen', 'zakon', 'o', 'slobodnom', 'pristupu', 'informacijama', 'od', 'javnog', 'značaja', 'postao', 'je', 'nezaobila', 'za', 'nalad', 'za', 'mnoge', 'novinare', 'ali', 'i', 'građanske', 'aktiviste', 'e', 'sada', 'poput', 'šale', 'kada', 'dečak', 'pita', 'roditelje', 'kako', 'ste', 'vi', 'slali']))"
      ]
     },
     "execution_count": 15,
     "metadata": {},
     "output_type": "execute_result"
    }
   ],
   "source": [
    "positions[0]"
   ]
  },
  {
   "cell_type": "code",
   "execution_count": null,
   "metadata": {},
   "outputs": [],
   "source": []
  }
 ],
 "metadata": {
  "kernelspec": {
   "display_name": "Python 3.8.3 ('base')",
   "language": "python",
   "name": "python3"
  },
  "language_info": {
   "codemirror_mode": {
    "name": "ipython",
    "version": 3
   },
   "file_extension": ".py",
   "mimetype": "text/x-python",
   "name": "python",
   "nbconvert_exporter": "python",
   "pygments_lexer": "ipython3",
   "version": "3.8.3"
  },
  "orig_nbformat": 4,
  "vscode": {
   "interpreter": {
    "hash": "7f6f5766036ee03d059e365a942add07f79c17033585e9357ee8157d52fe6bb9"
   }
  }
 },
 "nbformat": 4,
 "nbformat_minor": 2
}
