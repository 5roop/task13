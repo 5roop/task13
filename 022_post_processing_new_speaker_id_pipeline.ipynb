{
 "cells": [
  {
   "cell_type": "markdown",
   "metadata": {},
   "source": [
    "This notebook builds on notebook 18. The purpose of it is to recalculate the times where the guest or the host are speaking."
   ]
  },
  {
   "cell_type": "code",
   "execution_count": 14,
   "metadata": {},
   "outputs": [],
   "source": [
    "import pandas as pd\n",
    "\n",
    "mer = pd.read_json(\"021_JV_segments_with_metadata.jsonl\", orient=\"records\", lines=True)\n",
    "corp = pd.read_json(\"020_JV_with_metadata.jsonl\", orient=\"records\", lines=True)\n",
    "\n",
    "def lowercase\n"
   ]
  },
  {
   "cell_type": "code",
   "execution_count": 33,
   "metadata": {},
   "outputs": [
    {
     "name": "stdout",
     "output_type": "stream",
     "text": [
      "48  :  znači grad uopšte nije organizovan i mi faktički u gradu nemamo ni jednu jedinu zajedničku želju koju bi trebalo da pokušamo bar da rešimo i da skupštinu iskoristimo za bolji niš i za bolje sutra \n",
      "94  :   ali šta je problem zbog čega vi ne možete da se\n"
     ]
    }
   ],
   "source": [
    "i, row = list(mer.iterrows())[3]\n",
    "SIMILARITY_LIMIT = 80\n",
    "file = row[\"file\"]\n",
    "questions = corp.loc[corp.path == file, \"host_questions\"].tolist()[0]\n",
    "\n",
    "kaldi_text = row[\"kaldi_transcript\"]\n",
    "speaker_breakdown = []\n",
    "is_tagged = \"anchor_\" in kaldi_text\n",
    "from fuzzywuzzy.fuzz import partial_ratio\n",
    "from numpy import argmax\n",
    "if not is_tagged:\n",
    "    partial_ratios = [partial_ratio(j, kaldi_text) for j in questions]\n",
    "    maximal_partial_ratio = max(partial_ratios)\n",
    "\n",
    "    if maximal_partial_ratio >= SIMILARITY_LIMIT:\n",
    "        speaker_breakdown.append((\n",
    "            \"host\",\n",
    "            min(row[\"kaldi_word_starts\"]),\n",
    "            max(row[\"kaldi_word_ends\"])\n",
    "        ))\n",
    "        # return speaker_breakdown\n",
    "else:\n",
    "    # We have 0 < tags < 6. \n",
    "    import re\n",
    "    parts = re.split(r'<anchor_\\w+>',kaldi_text)\n",
    "    # parts = kaldi_text.split(\"<anchor_end>\", \"<anchor_start>\")\n",
    "    maximal_partial_ratios = [\n",
    "        max([\n",
    "            partial_ratio(part, question) for question in questions\n",
    "        ]) for part in parts\n",
    "    ]\n",
    "    for part, m in zip(parts, maximal_partial_ratios):\n",
    "        print(m, \" : \", part)\n",
    "        if m >= SIMILARITY_LIMIT:\n",
    "            "
   ]
  },
  {
   "cell_type": "code",
   "execution_count": 22,
   "metadata": {},
   "outputs": [
    {
     "data": {
      "text/plain": [
       "<AxesSubplot:ylabel='Frequency'>"
      ]
     },
     "execution_count": 22,
     "metadata": {},
     "output_type": "execute_result"
    },
    {
     "data": {
      "image/png": "[encoded data removed]",
      "text/plain": [
       "<Figure size 432x288 with 1 Axes>"
      ]
     },
     "metadata": {
      "needs_background": "light"
     },
     "output_type": "display_data"
    }
   ],
   "source": [
    "mer.kaldi_transcript.str.count(\"anchor_\").plot.hist(bins=6)"
   ]
  },
  {
   "cell_type": "code",
   "execution_count": 31,
   "metadata": {},
   "outputs": [
    {
     "data": {
      "text/plain": [
       "['nikad više',\n",
       " ' niti je iskoristio niti će izgleda iskoristi priliku mislim da je to ',\n",
       " ' šta je problem',\n",
       " ' pa problem je u nama mislim da je problem u gradu nije problem u narodnim poslanicima mi jeste predstavljamo svoje stranke mi nismo birani kao lica mi smo ispred svojih stranaka']"
      ]
     },
     "execution_count": 31,
     "metadata": {},
     "output_type": "execute_result"
    }
   ],
   "source": [
    "import re\n",
    "re.split(r'<anchor_\\w+>',kaldi_text)"
   ]
  },
  {
   "cell_type": "code",
   "execution_count": null,
   "metadata": {},
   "outputs": [],
   "source": []
  }
 ],
 "metadata": {
  "kernelspec": {
   "display_name": "Python 3.9.7 ('base')",
   "language": "python",
   "name": "python3"
  },
  "language_info": {
   "codemirror_mode": {
    "name": "ipython",
    "version": 3
   },
   "file_extension": ".py",
   "mimetype": "text/x-python",
   "name": "python",
   "nbconvert_exporter": "python",
   "pygments_lexer": "ipython3",
   "version": "3.9.7"
  },
  "orig_nbformat": 4,
  "vscode": {
   "interpreter": {
    "hash": "2d30c88cb7145d662123f76f8c64609bc18e52940d2861adec2407b68f2e334f"
   }
  }
 },
 "nbformat": 4,
 "nbformat_minor": 2
}
