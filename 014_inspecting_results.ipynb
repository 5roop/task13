{
 "cells": [
  {
   "cell_type": "code",
   "execution_count": 26,
   "metadata": {},
   "outputs": [
    {
     "data": {
      "text/html": [
       "<div>\n",
       "<style scoped>\n",
       "    .dataframe tbody tr th:only-of-type {\n",
       "        vertical-align: middle;\n",
       "    }\n",
       "\n",
       "    .dataframe tbody tr th {\n",
       "        vertical-align: top;\n",
       "    }\n",
       "\n",
       "    .dataframe thead th {\n",
       "        text-align: right;\n",
       "    }\n",
       "</style>\n",
       "<table border=\"1\" class=\"dataframe\">\n",
       "  <thead>\n",
       "    <tr style=\"text-align: right;\">\n",
       "      <th></th>\n",
       "      <th>file</th>\n",
       "      <th>start</th>\n",
       "      <th>end</th>\n",
       "      <th>text</th>\n",
       "      <th>asr_transcription</th>\n",
       "      <th>ratio</th>\n",
       "      <th>webpage_transcript</th>\n",
       "    </tr>\n",
       "  </thead>\n",
       "  <tbody>\n",
       "    <tr>\n",
       "      <th>0</th>\n",
       "      <td>audio/00DtyZ2sCUM.wav</td>\n",
       "      <td>12.0</td>\n",
       "      <td>27.5</td>\n",
       "      <td>upreko s pričama da srbiji ide sve bolje izgleda da građani to ne osjećaju na svojoj koži o tome koliko su pohvale na račun ekonomije u srbiji realne razgovaramo sa redovnim profesorom ekonomskog fakulteta u nišu boamstejanovićem dobrodošli profesore</td>\n",
       "      <td></td>\n",
       "      <td></td>\n",
       "      <td></td>\n",
       "    </tr>\n",
       "    <tr>\n",
       "      <th>1</th>\n",
       "      <td>audio/00DtyZ2sCUM.wav</td>\n",
       "      <td>27.5</td>\n",
       "      <td>43.4</td>\n",
       "      <td>kada su mediji nedavno prenijeli informaciju gradske uprave za privredu da industrijska proizvodnja unišu beleži konstantni rast ova vezije sudeći bar prema komentarima na društvenim mrežama nasmijela mnoge građane koliko je ta statistika realna</td>\n",
       "      <td></td>\n",
       "      <td></td>\n",
       "      <td></td>\n",
       "    </tr>\n",
       "    <tr>\n",
       "      <th>2</th>\n",
       "      <td>audio/00DtyZ2sCUM.wav</td>\n",
       "      <td>43.5</td>\n",
       "      <td>65.0</td>\n",
       "      <td>pa kažu da statistika kao i bikini otkriva pokazuje sve a ne otkriva ono ključno radi se o metodologiji najvjerojatnije obračuna određenih veličina problematično je recimo podatak da pada nezaposlenost na 16 sa 24 je ogroman pad i bilo bi dobro da je tako</td>\n",
       "      <td></td>\n",
       "      <td></td>\n",
       "      <td></td>\n",
       "    </tr>\n",
       "    <tr>\n",
       "      <th>3</th>\n",
       "      <td>audio/00DtyZ2sCUM.wav</td>\n",
       "      <td>65.0</td>\n",
       "      <td>79.5</td>\n",
       "      <td>ali mnogi naravno i analitičari izražavaju sumnju u takav način dolaženja do podataka ali najvjerojatnije se radi o metodologiji promijenjenoj po kojoj je to moguće ja isto mislim da izražam sumnju i skeptiksa mislim</td>\n",
       "      <td></td>\n",
       "      <td></td>\n",
       "      <td></td>\n",
       "    </tr>\n",
       "    <tr>\n",
       "      <th>4</th>\n",
       "      <td>audio/00DtyZ2sCUM.wav</td>\n",
       "      <td>79.5</td>\n",
       "      <td>97.2</td>\n",
       "      <td>očigledno nam porastu društvenog bruto proizvoda po svim drugim podacima situacija nije takva a kada govorimo i o statistici i o zapošljavanju ukoliko podatak da 64 h0d ljudi unišu radi koliko je on dobar povoljan ili nepovoljan za grad veličineniše</td>\n",
       "      <td></td>\n",
       "      <td></td>\n",
       "      <td></td>\n",
       "    </tr>\n",
       "  </tbody>\n",
       "</table>\n",
       "</div>"
      ],
      "text/plain": [
       "                    file  start   end  \\\n",
       "0  audio/00DtyZ2sCUM.wav   12.0  27.5   \n",
       "1  audio/00DtyZ2sCUM.wav   27.5  43.4   \n",
       "2  audio/00DtyZ2sCUM.wav   43.5  65.0   \n",
       "3  audio/00DtyZ2sCUM.wav   65.0  79.5   \n",
       "4  audio/00DtyZ2sCUM.wav   79.5  97.2   \n",
       "\n",
       "                                                                                                                                                                                                                                                              text  \\\n",
       "0       upreko s pričama da srbiji ide sve bolje izgleda da građani to ne osjećaju na svojoj koži o tome koliko su pohvale na račun ekonomije u srbiji realne razgovaramo sa redovnim profesorom ekonomskog fakulteta u nišu boamstejanovićem dobrodošli profesore   \n",
       "1            kada su mediji nedavno prenijeli informaciju gradske uprave za privredu da industrijska proizvodnja unišu beleži konstantni rast ova vezije sudeći bar prema komentarima na društvenim mrežama nasmijela mnoge građane koliko je ta statistika realna   \n",
       "2  pa kažu da statistika kao i bikini otkriva pokazuje sve a ne otkriva ono ključno radi se o metodologiji najvjerojatnije obračuna određenih veličina problematično je recimo podatak da pada nezaposlenost na 16 sa 24 je ogroman pad i bilo bi dobro da je tako   \n",
       "3                                         ali mnogi naravno i analitičari izražavaju sumnju u takav način dolaženja do podataka ali najvjerojatnije se radi o metodologiji promijenjenoj po kojoj je to moguće ja isto mislim da izražam sumnju i skeptiksa mislim   \n",
       "4        očigledno nam porastu društvenog bruto proizvoda po svim drugim podacima situacija nije takva a kada govorimo i o statistici i o zapošljavanju ukoliko podatak da 64 h0d ljudi unišu radi koliko je on dobar povoljan ili nepovoljan za grad veličineniše   \n",
       "\n",
       "  asr_transcription ratio webpage_transcript  \n",
       "0                                             \n",
       "1                                             \n",
       "2                                             \n",
       "3                                             \n",
       "4                                             "
      ]
     },
     "execution_count": 26,
     "metadata": {},
     "output_type": "execute_result"
    }
   ],
   "source": [
    "import pandas as pd\n",
    "\n",
    "df = pd.read_json(\"013_segments_matched.jsonl\", orient=\"records\", lines=True)\n",
    "df.head()"
   ]
  },
  {
   "cell_type": "code",
   "execution_count": 27,
   "metadata": {},
   "outputs": [
    {
     "data": {
      "text/plain": [
       "<AxesSubplot:ylabel='Frequency'>"
      ]
     },
     "execution_count": 27,
     "metadata": {},
     "output_type": "execute_result"
    },
    {
     "data": {
      "image/png": "[encoded data removed]",
      "text/plain": [
       "<Figure size 432x288 with 1 Axes>"
      ]
     },
     "metadata": {
      "needs_background": "light"
     },
     "output_type": "display_data"
    }
   ],
   "source": [
    "df.text.dropna().apply(len).plot.hist(bins=100)"
   ]
  },
  {
   "cell_type": "code",
   "execution_count": 28,
   "metadata": {},
   "outputs": [
    {
     "data": {
      "text/plain": [
       "count     16747\n",
       "unique    16528\n",
       "top            \n",
       "freq        214\n",
       "Name: asr_transcription, dtype: object"
      ]
     },
     "execution_count": 28,
     "metadata": {},
     "output_type": "execute_result"
    }
   ],
   "source": [
    "df.asr_transcription.describe()"
   ]
  },
  {
   "cell_type": "code",
   "execution_count": 37,
   "metadata": {},
   "outputs": [
    {
     "data": {
      "text/plain": [
       "0.012778408073087718"
      ]
     },
     "execution_count": 37,
     "metadata": {},
     "output_type": "execute_result"
    }
   ],
   "source": [
    "(df.asr_transcription==\"\").sum()/df.shape[0]"
   ]
  },
  {
   "cell_type": "code",
   "execution_count": 30,
   "metadata": {},
   "outputs": [
    {
     "data": {
      "text/plain": [
       "289"
      ]
     },
     "execution_count": 30,
     "metadata": {},
     "output_type": "execute_result"
    }
   ],
   "source": [
    "c_empty_asr = df.asr_transcription==\"\"\n",
    "\n",
    "df[~c_empty_asr].file.unique().shape[0]"
   ]
  },
  {
   "cell_type": "markdown",
   "metadata": {},
   "source": [
    "# Implementing filtering"
   ]
  },
  {
   "cell_type": "code",
   "execution_count": 35,
   "metadata": {},
   "outputs": [
    {
     "data": {
      "text/plain": [
       "289"
      ]
     },
     "execution_count": 35,
     "metadata": {},
     "output_type": "execute_result"
    }
   ],
   "source": [
    "c_empty_asr = df.asr_transcription==\"\"\n",
    "c_empty_text = df.text.isna()\n",
    "\n",
    "\n",
    "final_df = df[(~c_empty_asr) & (~c_empty_text)].reset_index(drop=True)\n",
    "final_df[\"webpage_transcript\"] = final_df.webpage_transcript.str.replace(\"JV:\", \"\")\n",
    "final_df.file.unique().shape[0]"
   ]
  },
  {
   "cell_type": "code",
   "execution_count": 36,
   "metadata": {},
   "outputs": [],
   "source": [
    "final_df[\"file\tstart\tend\t asr_transcription\twebpage_transcript ratio\".split()].to_json(\"014_filtered_df.json\", orient=\"records\", lines=True)"
   ]
  },
  {
   "cell_type": "code",
   "execution_count": 41,
   "metadata": {},
   "outputs": [
    {
     "data": {
      "text/html": [
       "<div>\n",
       "<style scoped>\n",
       "    .dataframe tbody tr th:only-of-type {\n",
       "        vertical-align: middle;\n",
       "    }\n",
       "\n",
       "    .dataframe tbody tr th {\n",
       "        vertical-align: top;\n",
       "    }\n",
       "\n",
       "    .dataframe thead th {\n",
       "        text-align: right;\n",
       "    }\n",
       "</style>\n",
       "<table border=\"1\" class=\"dataframe\">\n",
       "  <thead>\n",
       "    <tr style=\"text-align: right;\">\n",
       "      <th></th>\n",
       "      <th>file</th>\n",
       "      <th>start</th>\n",
       "      <th>end</th>\n",
       "      <th>asr_transcription</th>\n",
       "      <th>webpage_transcript</th>\n",
       "      <th>ratio</th>\n",
       "    </tr>\n",
       "  </thead>\n",
       "  <tbody>\n",
       "    <tr>\n",
       "      <th>0</th>\n",
       "      <td>audio/58xZSVbpgkk.wav</td>\n",
       "      <td>12.0</td>\n",
       "      <td>31.0</td>\n",
       "      <td>nekoliko puta smo ponavljali da nišo od uvođenja više stranačja nije ni kad imao veći broj narodnih poslanika u skupštini srbiji razgovaramo sa slavoljebom vlajkovićem poslanikom socijalistički partije srbije gospodine vlajkoviću kakav je vaš utesak da li je niž iskoristio to što ili koristi to što ima 12 poslanika</td>\n",
       "      <td>Nekoliko puta smo ponavljali da Niš od uvođenja višestranačja nijenikada imao veći broj poslanika u Skupštini Srbije. Razgovaramo sa Slavoljubom Vlajkovićem, narodnim poslanikom Socijalističke partije Srbije. Gospodine Vlajkoviću, kakav je vaš utisak, da li je Niš iskoristio to što ili koristi to što ima 12 poslanika -</td>\n",
       "      <td>0.757895</td>\n",
       "    </tr>\n",
       "    <tr>\n",
       "      <th>1</th>\n",
       "      <td>audio/58xZSVbpgkk.wav</td>\n",
       "      <td>31.0</td>\n",
       "      <td>47.0</td>\n",
       "      <td>nikad više pa niti iskoristio niti će izgledati iskoristi tu priliku što mislim da je to pa problem je u nama mislim da je problem u gradu a nije problem u narodnim a mi jeste prestavo u svojo stranke i mi nismo bjereni kao lica mi smo ispred svojih stranaka iz</td>\n",
       "      <td>- nikad više?’ Niti je iskoristio, niti će izgleda iskoristi priliku. Mislim da je to..  Šta je problem? Pa problem je u nama! Mislim da je problem u gradu, nije problem u narodnim poslanicima! Mi, jeste, predstavljamo svoje stranke! Mi nismo birani kao lica, mi smo ispred svojih stranaka</td>\n",
       "      <td>0.78</td>\n",
       "    </tr>\n",
       "    <tr>\n",
       "      <th>2</th>\n",
       "      <td>audio/58xZSVbpgkk.wav</td>\n",
       "      <td>47.0</td>\n",
       "      <td>62.5</td>\n",
       "      <td>dobrani i znate da e svaka stranka od polih predloži 200 kandidata slučaj tako te o da smo svi bili na tim visokim brojevima da smo ušli u parlament ali mislim da je problem narodnih poslavnika ovdje u gradu</td>\n",
       "      <td>Vi znate da svaka stranka otprilike predloži 250 kandidata . Slučaj je tako hteo da smo svi bili na tim visokim brojevima, da smo ušli u parlament. Ali mislim da je problem narodnih poslanika ovde u gradu!</td>\n",
       "      <td>0.773333</td>\n",
       "    </tr>\n",
       "    <tr>\n",
       "      <th>3</th>\n",
       "      <td>audio/58xZSVbpgkk.wav</td>\n",
       "      <td>62.5</td>\n",
       "      <td>82.1</td>\n",
       "      <td>znači grad uopštenije organizvan i mi faktički u gradu nemamo i jednu jedinu zajedničku želju koju bi trebali da pokušamo bar da rješimo i da skupštini iskoristimo za bolji niš i za bolje sud ta je problem zbog čega vi nemožete se a jesam</td>\n",
       "      <td>gradu! Znači, grad uopšte nije organizovan i mi faktički u gradu nemamo ni jednu jedinu zajedničku želju koju bi trebalo da pokušamo bar da rešimo i da Skupštinu iskoristimo za bolji Niš i za bolje sutra.  Ali šta je problem? Zbog čega vi ne možete da se</td>\n",
       "      <td>0.725275</td>\n",
       "    </tr>\n",
       "    <tr>\n",
       "      <th>4</th>\n",
       "      <td>audio/58xZSVbpgkk.wav</td>\n",
       "      <td>82.1</td>\n",
       "      <td>98.4</td>\n",
       "      <td>pa iima ali ja kažem da bi trebao grada kažem is to ja mogu individualno tako e socijalistička partije srvi ima najveći broj poslonika tu ste i zrano radovanović ivana dinić pa što se tiče nas kao socijaliste mislim da to radimo perfektno</td>\n",
       "      <td>ja jesam... Pa ima, ali ja kažem da bi trebalo grad da kaže, nisu to.. Ja mogu individualno, ali tako mogu u ime svoje partije...  Ali vi imate, Socijalistička partija ima najveći broj poslanika: tu ste vi, Zoran Radovanović i Ivana Dinić. Tako je! Pa, što se tiče nas socijalista, mislim da to</td>\n",
       "      <td>0.604167</td>\n",
       "    </tr>\n",
       "    <tr>\n",
       "      <th>...</th>\n",
       "      <td>...</td>\n",
       "      <td>...</td>\n",
       "      <td>...</td>\n",
       "      <td>...</td>\n",
       "      <td>...</td>\n",
       "      <td>...</td>\n",
       "    </tr>\n",
       "    <tr>\n",
       "      <th>16528</th>\n",
       "      <td>audio/fTfyE4ZdZqY.wav</td>\n",
       "      <td>1139.2</td>\n",
       "      <td>1144.6</td>\n",
       "      <td>poziciju povrenika ako hoćete da se kandidute za gradonačelnika beograda</td>\n",
       "      <td>bio najobičniji politikanski trik. Saša Janković je bio u potpuno drugoj</td>\n",
       "      <td>0.8</td>\n",
       "    </tr>\n",
       "    <tr>\n",
       "      <th>16529</th>\n",
       "      <td>audio/fTfyE4ZdZqY.wav</td>\n",
       "      <td>1144.6</td>\n",
       "      <td>1170.2</td>\n",
       "      <td>slične su poruke bile upućivane i tadašnjem ombusmanu s bio naobični politikanski tri saš jedan koji je bio u potpuno ruši poziciji i kada je najavio političku emdaturu podnaju ostavku dakle ja sam onaj iz meni potpuno nerazumljivih razloga politikantskig razloga dakle iskoristila moj odgovor na pitanje novinaru da li je bilo sugestije prijedloga da se kandeto zagreboačilika rekao da bilo je i istovremeno izričito je rekao da to</td>\n",
       "      <td>drugoj poziciji kada je najavio političku kandidaturu podneo je ostavku. Ona po meni iz potpuno nerazumljivih razloga, politikanskih razloga iskoristila moj odgovor na pitanje novinaru. Da li je bilo predloga i sugestija da s ekandidujete za gradonačelnika rekao da, bilo je i istovremeno rekao da to nije realno, da o toj opciji ne razmišljam. Sve preko toga je neukusno. Sada pozivati preko toga preko skupštinske govornice poverenika da podnosi ostavku</td>\n",
       "      <td>0.608696</td>\n",
       "    </tr>\n",
       "    <tr>\n",
       "      <th>16530</th>\n",
       "      <td>audio/fTfyE4ZdZqY.wav</td>\n",
       "      <td>1170.2</td>\n",
       "      <td>1188.3</td>\n",
       "      <td>nije realno da li to je op razmišljam dakle sve preko toga je neukusno i sada pozivati ponodom toga posebno sa skuštini govornice povjerenika da podnosi ostavku je ponavljam neodgovoran politikantski proces utoliko pre što je predsjednicelj skukštine bila ne samo u poziciji nego u obavezi da stavi na dnevni red</td>\n",
       "      <td>potez. Utoliko pre što je predsednica Skupštine bila ne samo u poziciji, nego u obavezi da stavi na dnevni red izveštaj poverenika, pa da onda vidimo da li je poverenik politikand i kako radi svoj posao. 3 godinu za redom i</td>\n",
       "      <td>0.703297</td>\n",
       "    </tr>\n",
       "    <tr>\n",
       "      <th>16531</th>\n",
       "      <td>audio/fTfyE4ZdZqY.wav</td>\n",
       "      <td>1188.3</td>\n",
       "      <td>1202.4</td>\n",
       "      <td>izvrštaj povjerenika pa da onda vidimo da li je povjerenik politikanti kako on to radi svoj posao treću godinu za redom iako je to zakonska obaveza i poslovnička obaveza skupština ne razmatrate izvješte to je puno ozbiljnija stvar od ovakvih loskola</td>\n",
       "      <td>je to zakonska obaveza i poslovnička obaveza Skupština ne razmatra taj izveštaj. To je puno ozbiljnija stvar od ovakvih floskula.  Hvala vam što ste bili gost Južnih vesti. Hvala vama.  Bila je ovo još jedna emisija 15 minuta,</td>\n",
       "      <td>0.75</td>\n",
       "    </tr>\n",
       "    <tr>\n",
       "      <th>16532</th>\n",
       "      <td>audio/fTfyE4ZdZqY.wav</td>\n",
       "      <td>1202.4</td>\n",
       "      <td>1209.8</td>\n",
       "      <td>hvala što se bili gosti južnih vesti bili ovo žena emisije 15 minuta razgovarali smo sa rodoljuvom šabićem moime e predreg blagojević prijel</td>\n",
       "      <td></td>\n",
       "      <td>0</td>\n",
       "    </tr>\n",
       "  </tbody>\n",
       "</table>\n",
       "<p>16533 rows × 6 columns</p>\n",
       "</div>"
      ],
      "text/plain": [
       "                        file   start     end  \\\n",
       "0      audio/58xZSVbpgkk.wav    12.0    31.0   \n",
       "1      audio/58xZSVbpgkk.wav    31.0    47.0   \n",
       "2      audio/58xZSVbpgkk.wav    47.0    62.5   \n",
       "3      audio/58xZSVbpgkk.wav    62.5    82.1   \n",
       "4      audio/58xZSVbpgkk.wav    82.1    98.4   \n",
       "...                      ...     ...     ...   \n",
       "16528  audio/fTfyE4ZdZqY.wav  1139.2  1144.6   \n",
       "16529  audio/fTfyE4ZdZqY.wav  1144.6  1170.2   \n",
       "16530  audio/fTfyE4ZdZqY.wav  1170.2  1188.3   \n",
       "16531  audio/fTfyE4ZdZqY.wav  1188.3  1202.4   \n",
       "16532  audio/fTfyE4ZdZqY.wav  1202.4  1209.8   \n",
       "\n",
       "                                                                                                                                                                                                                                                                                                                                                                                                                                      asr_transcription  \\\n",
       "0                                                                                                                          nekoliko puta smo ponavljali da nišo od uvođenja više stranačja nije ni kad imao veći broj narodnih poslanika u skupštini srbiji razgovaramo sa slavoljebom vlajkovićem poslanikom socijalistički partije srbije gospodine vlajkoviću kakav je vaš utesak da li je niž iskoristio to što ili koristi to što ima 12 poslanika   \n",
       "1                                                                                                                                                                                 nikad više pa niti iskoristio niti će izgledati iskoristi tu priliku što mislim da je to pa problem je u nama mislim da je problem u gradu a nije problem u narodnim a mi jeste prestavo u svojo stranke i mi nismo bjereni kao lica mi smo ispred svojih stranaka iz   \n",
       "2                                                                                                                                                                                                                                       dobrani i znate da e svaka stranka od polih predloži 200 kandidata slučaj tako te o da smo svi bili na tim visokim brojevima da smo ušli u parlament ali mislim da je problem narodnih poslavnika ovdje u gradu   \n",
       "3                                                                                                                                                                                                        znači grad uopštenije organizvan i mi faktički u gradu nemamo i jednu jedinu zajedničku želju koju bi trebali da pokušamo bar da rješimo i da skupštini iskoristimo za bolji niš i za bolje sud ta je problem zbog čega vi nemožete se a jesam   \n",
       "4                                                                                                                                                                                                        pa iima ali ja kažem da bi trebao grada kažem is to ja mogu individualno tako e socijalistička partije srvi ima najveći broj poslonika tu ste i zrano radovanović ivana dinić pa što se tiče nas kao socijaliste mislim da to radimo perfektno   \n",
       "...                                                                                                                                                                                                                                                                                                                                                                                                                                                 ...   \n",
       "16528                                                                                                                                                                                                                                                                                                                                                                          poziciju povrenika ako hoćete da se kandidute za gradonačelnika beograda   \n",
       "16529  slične su poruke bile upućivane i tadašnjem ombusmanu s bio naobični politikanski tri saš jedan koji je bio u potpuno ruši poziciji i kada je najavio političku emdaturu podnaju ostavku dakle ja sam onaj iz meni potpuno nerazumljivih razloga politikantskig razloga dakle iskoristila moj odgovor na pitanje novinaru da li je bilo sugestije prijedloga da se kandeto zagreboačilika rekao da bilo je i istovremeno izričito je rekao da to   \n",
       "16530                                                                                                                          nije realno da li to je op razmišljam dakle sve preko toga je neukusno i sada pozivati ponodom toga posebno sa skuštini govornice povjerenika da podnosi ostavku je ponavljam neodgovoran politikantski proces utoliko pre što je predsjednicelj skukštine bila ne samo u poziciji nego u obavezi da stavi na dnevni red   \n",
       "16531                                                                                                                                                                                         izvrštaj povjerenika pa da onda vidimo da li je povjerenik politikanti kako on to radi svoj posao treću godinu za redom iako je to zakonska obaveza i poslovnička obaveza skupština ne razmatrate izvješte to je puno ozbiljnija stvar od ovakvih loskola   \n",
       "16532                                                                                                                                                                                                                                                                                                      hvala što se bili gosti južnih vesti bili ovo žena emisije 15 minuta razgovarali smo sa rodoljuvom šabićem moime e predreg blagojević prijel   \n",
       "\n",
       "                                                                                                                                                                                                                                                                                                                                                                                                                                                            webpage_transcript  \\\n",
       "0                                                                                                                                             Nekoliko puta smo ponavljali da Niš od uvođenja višestranačja nijenikada imao veći broj poslanika u Skupštini Srbije. Razgovaramo sa Slavoljubom Vlajkovićem, narodnim poslanikom Socijalističke partije Srbije. Gospodine Vlajkoviću, kakav je vaš utisak, da li je Niš iskoristio to što ili koristi to što ima 12 poslanika -   \n",
       "1                                                                                                                                                                            - nikad više?’ Niti je iskoristio, niti će izgleda iskoristi priliku. Mislim da je to..  Šta je problem? Pa problem je u nama! Mislim da je problem u gradu, nije problem u narodnim poslanicima! Mi, jeste, predstavljamo svoje stranke! Mi nismo birani kao lica, mi smo ispred svojih stranaka   \n",
       "2                                                                                                                                                                                                                                                                Vi znate da svaka stranka otprilike predloži 250 kandidata . Slučaj je tako hteo da smo svi bili na tim visokim brojevima, da smo ušli u parlament. Ali mislim da je problem narodnih poslanika ovde u gradu!   \n",
       "3                                                                                                                                                                                                               gradu! Znači, grad uopšte nije organizovan i mi faktički u gradu nemamo ni jednu jedinu zajedničku želju koju bi trebalo da pokušamo bar da rešimo i da Skupštinu iskoristimo za bolji Niš i za bolje sutra.  Ali šta je problem? Zbog čega vi ne možete da se   \n",
       "4                                                                                                                                                                       ja jesam... Pa ima, ali ja kažem da bi trebalo grad da kaže, nisu to.. Ja mogu individualno, ali tako mogu u ime svoje partije...  Ali vi imate, Socijalistička partija ima najveći broj poslanika: tu ste vi, Zoran Radovanović i Ivana Dinić. Tako je! Pa, što se tiče nas socijalista, mislim da to   \n",
       "...                                                                                                                                                                                                                                                                                                                                                                                                                                                                        ...   \n",
       "16528                                                                                                                                                                                                                                                                                                                                                                                                 bio najobičniji politikanski trik. Saša Janković je bio u potpuno drugoj   \n",
       "16529  drugoj poziciji kada je najavio političku kandidaturu podneo je ostavku. Ona po meni iz potpuno nerazumljivih razloga, politikanskih razloga iskoristila moj odgovor na pitanje novinaru. Da li je bilo predloga i sugestija da s ekandidujete za gradonačelnika rekao da, bilo je i istovremeno rekao da to nije realno, da o toj opciji ne razmišljam. Sve preko toga je neukusno. Sada pozivati preko toga preko skupštinske govornice poverenika da podnosi ostavku   \n",
       "16530                                                                                                                                                                                                                                          potez. Utoliko pre što je predsednica Skupštine bila ne samo u poziciji, nego u obavezi da stavi na dnevni red izveštaj poverenika, pa da onda vidimo da li je poverenik politikand i kako radi svoj posao. 3 godinu za redom i   \n",
       "16531                                                                                                                                                                                                                                       je to zakonska obaveza i poslovnička obaveza Skupština ne razmatra taj izveštaj. To je puno ozbiljnija stvar od ovakvih floskula.  Hvala vam što ste bili gost Južnih vesti. Hvala vama.  Bila je ovo još jedna emisija 15 minuta,   \n",
       "16532                                                                                                                                                                                                                                                                                                                                                                                                                                                                            \n",
       "\n",
       "          ratio  \n",
       "0      0.757895  \n",
       "1          0.78  \n",
       "2      0.773333  \n",
       "3      0.725275  \n",
       "4      0.604167  \n",
       "...         ...  \n",
       "16528       0.8  \n",
       "16529  0.608696  \n",
       "16530  0.703297  \n",
       "16531      0.75  \n",
       "16532         0  \n",
       "\n",
       "[16533 rows x 6 columns]"
      ]
     },
     "execution_count": 41,
     "metadata": {},
     "output_type": "execute_result"
    }
   ],
   "source": [
    "pd.set_option('max_colwidth', 1000)\n",
    "final_df[\"file\tstart\tend\t asr_transcription\twebpage_transcript ratio\".split()]"
   ]
  },
  {
   "cell_type": "code",
   "execution_count": 39,
   "metadata": {},
   "outputs": [
    {
     "data": {
      "text/plain": [
       "(289, 16533)"
      ]
     },
     "execution_count": 39,
     "metadata": {},
     "output_type": "execute_result"
    }
   ],
   "source": [
    "final_df.file.unique().shape[0], final_df.shape[0]"
   ]
  },
  {
   "cell_type": "code",
   "execution_count": 40,
   "metadata": {},
   "outputs": [
    {
     "data": {
      "text/plain": [
       "80.60816666666668"
      ]
     },
     "execution_count": 40,
     "metadata": {},
     "output_type": "execute_result"
    }
   ],
   "source": [
    "(final_df.end-final_df.start).sum()/3600"
   ]
  },
  {
   "cell_type": "code",
   "execution_count": null,
   "metadata": {},
   "outputs": [],
   "source": []
  }
 ],
 "metadata": {
  "kernelspec": {
   "display_name": "Python 3.8.3 ('base')",
   "language": "python",
   "name": "python3"
  },
  "language_info": {
   "codemirror_mode": {
    "name": "ipython",
    "version": 3
   },
   "file_extension": ".py",
   "mimetype": "text/x-python",
   "name": "python",
   "nbconvert_exporter": "python",
   "pygments_lexer": "ipython3",
   "version": "3.8.3"
  },
  "orig_nbformat": 4,
  "vscode": {
   "interpreter": {
    "hash": "7f6f5766036ee03d059e365a942add07f79c17033585e9357ee8157d52fe6bb9"
   }
  }
 },
 "nbformat": 4,
 "nbformat_minor": 2
}
