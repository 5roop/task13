{
  "cells": [
    {
      "cell_type": "markdown",
      "metadata": {
        "colab_type": "text",
        "id": "view-in-github"
      },
      "source": [
        "<a href=\"https://colab.research.google.com/github/danijel3/CroatianSpeech/blob/main/Matching.ipynb\" target=\"_parent\"><img src=\"https://colab.research.google.com/assets/colab-badge.svg\" alt=\"Open In Colab\"/></a>"
      ]
    },
    {
      "cell_type": "markdown",
      "metadata": {
        "id": "wpXkL-1-6912"
      },
      "source": [
        "# Automatic close matching\n",
        "\n",
        "This is an attempt to match ASR output with long sequences of text automatically. The ASR output is obviously not very accurate (nor is the reference text), but we give our best to match the text as good as possible.\n",
        "\n",
        "Here we download 3 files:\n",
        "* char-level ASR output in `output.json`\n",
        "* LM corrected ASR output in `output_lm.json`\n",
        "* reference text in `ParlaMint...txt `"
      ]
    },
    {
      "cell_type": "code",
      "execution_count": 1,
      "metadata": {
        "colab": {
          "base_uri": "https://localhost:8080/"
        },
        "id": "kCrucxedWO2t",
        "outputId": "04cf2957-30c3-49dd-9997-1cf9bf7026d8"
      },
      "outputs": [
        {
          "name": "stdout",
          "output_type": "stream",
          "text": [
            "--2022-06-13 10:50:01--  https://github.com/danijel3/CroatianSpeech/raw/main/output.json\n",
            "Resolving www-proxy.ijs.si (www-proxy.ijs.si)... 2001:1470:ff80::3128:1, 193.2.4.4\n",
            "Connecting to www-proxy.ijs.si (www-proxy.ijs.si)|2001:1470:ff80::3128:1|:8080... connected.\n",
            "Proxy request sent, awaiting response... 302 Found\n",
            "Location: https://raw.githubusercontent.com/danijel3/CroatianSpeech/main/output.json [following]\n",
            "--2022-06-13 10:50:01--  https://raw.githubusercontent.com/danijel3/CroatianSpeech/main/output.json\n",
            "Connecting to www-proxy.ijs.si (www-proxy.ijs.si)|2001:1470:ff80::3128:1|:8080... connected.\n",
            "Proxy request sent, awaiting response... 200 OK\n",
            "Length: 11513 (11K) [text/plain]\n",
            "Saving to: ‘output.json.2’\n",
            "\n",
            "output.json.2       100%[===================>]  11.24K  --.-KB/s    in 0s      \n",
            "\n",
            "2022-06-13 10:50:01 (41.1 MB/s) - ‘output.json.2’ saved [11513/11513]\n",
            "\n",
            "--2022-06-13 10:50:01--  https://github.com/danijel3/CroatianSpeech/raw/main/output_lm.json\n",
            "Resolving www-proxy.ijs.si (www-proxy.ijs.si)... 2001:1470:ff80::3128:1, 193.2.4.4\n",
            "Connecting to www-proxy.ijs.si (www-proxy.ijs.si)|2001:1470:ff80::3128:1|:8080... connected.\n",
            "Proxy request sent, awaiting response... 302 Found\n",
            "Location: https://raw.githubusercontent.com/danijel3/CroatianSpeech/main/output_lm.json [following]\n",
            "--2022-06-13 10:50:02--  https://raw.githubusercontent.com/danijel3/CroatianSpeech/main/output_lm.json\n",
            "Connecting to www-proxy.ijs.si (www-proxy.ijs.si)|2001:1470:ff80::3128:1|:8080... connected.\n",
            "Proxy request sent, awaiting response... 200 OK\n",
            "Length: 11534 (11K) [text/plain]\n",
            "Saving to: ‘output_lm.json.2’\n",
            "\n",
            "output_lm.json.2    100%[===================>]  11.26K  --.-KB/s    in 0s      \n",
            "\n",
            "2022-06-13 10:50:02 (42.7 MB/s) - ‘output_lm.json.2’ saved [11534/11534]\n",
            "\n",
            "--2022-06-13 10:50:02--  https://github.com/danijel3/CroatianSpeech/raw/main/ParlaMint-HR_S01.text.txt\n",
            "Resolving www-proxy.ijs.si (www-proxy.ijs.si)... 2001:1470:ff80::3128:1, 193.2.4.4\n",
            "Connecting to www-proxy.ijs.si (www-proxy.ijs.si)|2001:1470:ff80::3128:1|:8080... connected.\n",
            "Proxy request sent, awaiting response... 302 Found\n",
            "Location: https://raw.githubusercontent.com/danijel3/CroatianSpeech/main/ParlaMint-HR_S01.text.txt [following]\n",
            "--2022-06-13 10:50:02--  https://raw.githubusercontent.com/danijel3/CroatianSpeech/main/ParlaMint-HR_S01.text.txt\n",
            "Connecting to www-proxy.ijs.si (www-proxy.ijs.si)|2001:1470:ff80::3128:1|:8080... connected.\n",
            "Proxy request sent, awaiting response... 200 OK\n",
            "Length: 4012131 (3.8M) [text/plain]\n",
            "Saving to: ‘ParlaMint-HR_S01.text.txt.1’\n",
            "\n",
            "ParlaMint-HR_S01.te 100%[===================>]   3.83M  --.-KB/s    in 0.1s    \n",
            "\n",
            "2022-06-13 10:50:03 (38.9 MB/s) - ‘ParlaMint-HR_S01.text.txt.1’ saved [4012131/4012131]\n",
            "\n"
          ]
        }
      ],
      "source": [
        "!wget https://github.com/danijel3/CroatianSpeech/raw/main/output.json\n",
        "!wget https://github.com/danijel3/CroatianSpeech/raw/main/output_lm.json\n",
        "!wget https://github.com/danijel3/CroatianSpeech/raw/main/ParlaMint-HR_S01.text.txt"
      ]
    },
    {
      "cell_type": "markdown",
      "metadata": {
        "id": "niSRHtkz7ptK"
      },
      "source": [
        "Next we also download some normalization code. The ASR output is normalized, so the reference text also has to be normalized to be able to match anything."
      ]
    },
    {
      "cell_type": "code",
      "execution_count": 3,
      "metadata": {
        "colab": {
          "base_uri": "https://localhost:8080/"
        },
        "id": "D8QRy3ZL95NL",
        "outputId": "f74bacd4-b4c2-4347-f8af-7f02085f6f10"
      },
      "outputs": [
        {
          "name": "stdout",
          "output_type": "stream",
          "text": [
            "--2021-12-26 21:18:55--  https://github.com/danijel3/TextNormalize/raw/master/hrvatski.py\n",
            "Resolving github.com (github.com)... 13.114.40.48\n",
            "Connecting to github.com (github.com)|13.114.40.48|:443... connected.\n",
            "HTTP request sent, awaiting response... 302 Found\n",
            "Location: https://raw.githubusercontent.com/danijel3/TextNormalize/master/hrvatski.py [following]\n",
            "--2021-12-26 21:18:56--  https://raw.githubusercontent.com/danijel3/TextNormalize/master/hrvatski.py\n",
            "Resolving raw.githubusercontent.com (raw.githubusercontent.com)... 185.199.111.133, 185.199.108.133, 185.199.110.133, ...\n",
            "Connecting to raw.githubusercontent.com (raw.githubusercontent.com)|185.199.111.133|:443... connected.\n",
            "HTTP request sent, awaiting response... 200 OK\n",
            "Length: 5761 (5.6K) [text/plain]\n",
            "Saving to: ‘hrvatski.py’\n",
            "\n",
            "hrvatski.py         100%[===================>]   5.63K  --.-KB/s    in 0s      \n",
            "\n",
            "2021-12-26 21:18:56 (55.9 MB/s) - ‘hrvatski.py’ saved [5761/5761]\n",
            "\n",
            "--2021-12-26 21:18:56--  https://github.com/danijel3/TextNormalize/raw/master/strings_hr.py\n",
            "Resolving github.com (github.com)... 140.82.112.4\n",
            "Connecting to github.com (github.com)|140.82.112.4|:443... connected.\n",
            "HTTP request sent, awaiting response... 302 Found\n",
            "Location: https://raw.githubusercontent.com/danijel3/TextNormalize/master/strings_hr.py [following]\n",
            "--2021-12-26 21:18:56--  https://raw.githubusercontent.com/danijel3/TextNormalize/master/strings_hr.py\n",
            "Resolving raw.githubusercontent.com (raw.githubusercontent.com)... 185.199.110.133, 185.199.111.133, 185.199.109.133, ...\n",
            "Connecting to raw.githubusercontent.com (raw.githubusercontent.com)|185.199.110.133|:443... connected.\n",
            "HTTP request sent, awaiting response... 200 OK\n",
            "Length: 5119 (5.0K) [text/plain]\n",
            "Saving to: ‘strings_hr.py’\n",
            "\n",
            "strings_hr.py       100%[===================>]   5.00K  --.-KB/s    in 0s      \n",
            "\n",
            "2021-12-26 21:18:57 (65.8 MB/s) - ‘strings_hr.py’ saved [5119/5119]\n",
            "\n"
          ]
        }
      ],
      "source": [
        "!wget https://github.com/danijel3/TextNormalize/raw/master/hrvatski.py\n",
        "!wget https://github.com/danijel3/TextNormalize/raw/master/strings_hr.py"
      ]
    },
    {
      "cell_type": "markdown",
      "metadata": {
        "id": "HKmiIpC975h8"
      },
      "source": [
        "Below we define a class for the reference text dictionary. We replace all words with integer IDs to make the whole task faster and more robust. We also define a function to load the reference file - this creates the dictionary and automatically converts the reference to integer IDs."
      ]
    },
    {
      "cell_type": "code",
      "execution_count": 1,
      "metadata": {
        "id": "7O1NYRMY7kiM"
      },
      "outputs": [],
      "source": [
        "from hrvatski import normalize\n",
        "from dataclasses import dataclass,field\n",
        "from typing import Dict,Set,List,Tuple\n",
        "\n",
        "@dataclass\n",
        "class Dictionary:\n",
        "  word2id:Dict[str,int]=field(default_factory=lambda:{})\n",
        "  id2word:Dict[int,str]=field(default_factory=lambda:{})\n",
        "  oov_token:str='<unk>'\n",
        "\n",
        "  def put(self, words:Set):\n",
        "    for id,word in enumerate(sorted(list(words))):\n",
        "      self.word2id[word]=id\n",
        "      self.id2word[id]=word\n",
        "\n",
        "  def get_id(self,word:str,warn_oov:bool=False)->int:\n",
        "    if word not in self.word2id:\n",
        "      if warn_oov:\n",
        "        print(f'WARN: missing word \"{word}\"')\n",
        "      return -1\n",
        "    return self.word2id[word]\n",
        "  \n",
        "  def get_word(self,id:int)->str:\n",
        "    if id==-1:\n",
        "      return self.oov_token\n",
        "    return self.id2word[id]\n",
        "\n",
        "  def get_text(self,ids:List[int])->str:\n",
        "    return ' '.join([self.get_word(x) for x in ids])\n",
        "  \n",
        "  def get_ids(self,text:str,warn_oov:bool=False)->List[int]:\n",
        "    return [self.get_id(x,warn_oov) for x in text.strip().split()]\n",
        "\n",
        "\n",
        "def load_ref(file):\n",
        "  lines=[]\n",
        "  text=[]\n",
        "  words=set()\n",
        "  vocab=Dictionary()\n",
        "  with open(file) as f:\n",
        "    for l in f:\n",
        "      tok=normalize(l.strip()).strip().split()\n",
        "      lines.append(tok)\n",
        "      words.update(tok)\n",
        "    vocab.put(words)\n",
        "    for l in lines:\n",
        "      for w in l:\n",
        "        text.append(vocab.get_id(w))\n",
        "  return text,vocab"
      ]
    },
    {
      "cell_type": "markdown",
      "metadata": {
        "id": "2Vuaw97D8ZgK"
      },
      "source": [
        "Here we use the above method to load the reference:"
      ]
    },
    {
      "cell_type": "code",
      "execution_count": 2,
      "metadata": {
        "id": "lvED1OdjQVR_"
      },
      "outputs": [],
      "source": [
        "text,vocab=load_ref('ParlaMint-HR_S01.text.txt')"
      ]
    },
    {
      "cell_type": "markdown",
      "metadata": {
        "id": "mtirqosD8dmc"
      },
      "source": [
        "Looking at first couple of words:"
      ]
    },
    {
      "cell_type": "code",
      "execution_count": 3,
      "metadata": {
        "colab": {
          "base_uri": "https://localhost:8080/"
        },
        "id": "nzPNtDMmTTo4",
        "outputId": "04f00c71-d13a-4226-94e8-5df6ae0ee6a4"
      },
      "outputs": [
        {
          "name": "stdout",
          "output_type": "stream",
          "text": [
            "[1937, 5788, 6501, 5783, 30234, 36700, 36530, 29594, 4281, 21203]\n",
            "cijenjene gospođe i gospodo sukladno članku četiri stavak dva poslovnika\n"
          ]
        }
      ],
      "source": [
        "print(text[:10])\n",
        "print(vocab.get_text(text[:10]))"
      ]
    },
    {
      "cell_type": "markdown",
      "metadata": {
        "id": "MZPnHD-H8iFf"
      },
      "source": [
        "Next we load the ASR output:"
      ]
    },
    {
      "cell_type": "code",
      "execution_count": 4,
      "metadata": {
        "id": "0hvVSKAfGljo"
      },
      "outputs": [],
      "source": [
        "import json\n",
        "with open('output.json') as f:\n",
        "  output=json.load(f)"
      ]
    },
    {
      "cell_type": "markdown",
      "metadata": {
        "id": "NK2HVfx98nRL"
      },
      "source": [
        "And the LM corrected version:"
      ]
    },
    {
      "cell_type": "code",
      "execution_count": 5,
      "metadata": {
        "id": "W3IT2YC677Nl"
      },
      "outputs": [],
      "source": [
        "import json\n",
        "with open('output_lm.json') as f:\n",
        "  output_lm=json.load(f)"
      ]
    },
    {
      "cell_type": "markdown",
      "metadata": {
        "id": "keoFAxiE8qC2"
      },
      "source": [
        "This is what the ASR text output looks like. We can also convert it to IDs if neccessary."
      ]
    },
    {
      "cell_type": "code",
      "execution_count": 6,
      "metadata": {
        "colab": {
          "base_uri": "https://localhost:8080/"
        },
        "id": "fwMr1A9_L70O",
        "outputId": "5ebcf290-4d0f-4d51-96f8-c40d6e7d2a51"
      },
      "outputs": [
        {
          "name": "stdout",
          "output_type": "stream",
          "text": [
            "poooooovoe potpredsjedniče poštovane kolegice i kolege ovo je još jedan od zakona koje raspravljamo ovih dana ili ćemo raspravljati narednih dana koji su možda imali dobar motiv da budu upućeni hrvatskom saboru aliiiao\n",
            "WARN: missing word \"poooooovoe\"\n",
            "WARN: missing word \"aliiiao\"\n",
            "[-1, 21617, 22179, 9837, 6501, 9833, 18701, 8899, 9107, 8901, 16637, 35299, 9800, 25836, 18664, 2180, 6624, 36406, 25844, 14112, 2180, 9809, 30076, 13050, 6648, 3058, 13009, 2105, 1731, 32899, 6431, 27303, -1]\n"
          ]
        }
      ],
      "source": [
        "print(output[0]['text'])\n",
        "print(vocab.get_ids(output[0]['text'],True))"
      ]
    },
    {
      "cell_type": "markdown",
      "metadata": {
        "id": "7THqgFgL81uI"
      },
      "source": [
        "## Main method\n",
        "\n",
        "This is the main method for finding the closely matching word sequences. The althorithm is as follows:\n",
        "1. first find all the occurences of the first word from the ASR sequence in the reference sequence\n",
        "2. this is usually anything from a few to a few hundred words; if none aer found, then try looking for the second, third, and so on, until you find more than 0 matches\n",
        "3. next use the SequenceMatcher to calculate the levenshtein-like ratio between each of the sequences from the previous step\n",
        "4. find the sequence with the best ratio\n",
        "5. usually this will yield one result; if none are found then print an error, if more are found then this means that the ASR output occurrs several times in the reference output\n",
        "6. finally, determine the length within the reference sequence by creating another SequenceMatcher object and finding the end of the last matching block"
      ]
    },
    {
      "cell_type": "code",
      "execution_count": 7,
      "metadata": {
        "id": "lRVvZXLasf7n"
      },
      "outputs": [],
      "source": [
        "from sys import int_info\n",
        "from difflib import SequenceMatcher\n",
        "\n",
        "def findall(id, sequence):\n",
        "  ret=[]\n",
        "  off=0\n",
        "  N=len(sequence)\n",
        "  while off<N:\n",
        "    try:\n",
        "      pos=sequence.index(id,off)\n",
        "      ret.append(pos)\n",
        "      off=pos+1\n",
        "    except ValueError:\n",
        "      break\n",
        "  return ret\n",
        "\n",
        "def close_match(ids:List[int],text:List[int])->Tuple[int,int]:\n",
        "  N=len(ids)\n",
        "  p1=findall(ids[0],text)\n",
        "  poff=1\n",
        "  while len(p1)==0 and poff<N:\n",
        "    p2=findall(ids[poff],text)\n",
        "    p1=[x-poff for x in p2]\n",
        "    poff+=1\n",
        "  max_r=0\n",
        "  pf=[]\n",
        "  for p in p1:\n",
        "    sm=SequenceMatcher(a=ids,b=text[p:p+N],autojunk=False)\n",
        "    r=sm.ratio()\n",
        "    if r>max_r:\n",
        "      max_r=r\n",
        "      pf=[p]\n",
        "    elif r==max_r:\n",
        "      pf.append(p)\n",
        "\n",
        "  if len(pf)==0:\n",
        "    print('ERROR: no candidates found!')\n",
        "    return None\n",
        "  elif len(pf)>1:\n",
        "    print('WARNING: multiple candidates found!')\n",
        "\n",
        "  pf=pf[0]\n",
        "\n",
        "  mb=SequenceMatcher(a=ids,b=text[pf:pf+N+10],autojunk=False).get_matching_blocks()\n",
        "  m=mb[-2]\n",
        "  M=m.b+m.size\n",
        "\n",
        "  return pf,pf+M"
      ]
    },
    {
      "cell_type": "markdown",
      "metadata": {
        "id": "xKhSS-_h-fS3"
      },
      "source": [
        "We can test this on all ASR outputs:"
      ]
    },
    {
      "cell_type": "code",
      "execution_count": 8,
      "metadata": {
        "colab": {
          "base_uri": "https://localhost:8080/"
        },
        "id": "pH_TiwYxzQqT",
        "outputId": "3e9cdcf8-2b2a-40ab-9655-cdb57a0c3c92"
      },
      "outputs": [
        {
          "name": "stdout",
          "output_type": "stream",
          "text": [
            "ASR: poooooovoe potpredsjedniče poštovane kolegice i kolege ovo je još jedan od zakona koje raspravljamo ovih dana ili ćemo raspravljati narednih dana koji su možda imali dobar motiv da budu upućeni hrvatskom saboru aliiiao\n",
            "REF: poštovani potpredsjedniče poštovane kolegice i kolege ovo je još jedan od zakona koji raspravljamo ovih dana ili ćemo raspravljati narednih dana koji su možda imali dobar motiv da budu upućeni hrvatskom saboru\n",
            "ASR: oblik u kojem su došli u hrvatski sabor prijedlog za rješenje problema ili motiva koji je naš i kolege motivirao da to upute u hrvatski sabor nažalost nije takav i bojimo se da će stvoriti mnogo više teškoća nego li što će donijeti rješenja sa sobomto je ujedno iskustvo\n",
            "REF: oblik u kojem su došli u hrvatski sabor prijedlog za rješenje problema ili motiva koji je naše kolege motivirao da to upute u hrvatski sabor nažalost nije takav i bojimo se da će stvoriti mnogo više teškoća nego li što će donijeti rješenja sa sobom to je ujedno iskustvo\n",
            "ASR: nadam se da se to vidi i po raspravama koje se vode na odborima a ja kao član odbora za ustav i poslovnik to mogu posvjedočiti nakon rasprava koju vodimo na tim odborima da se na ovakav način zakoni više ne bi smjeli upućivati u hratsku sab ovo nisu uzgotovljeni zakoni oni nisu prodiskutirani zakoni i ovo su zakoni koji su napravljeni po osnovi kompromisa\n",
            "REF: nadam se da se to vidi i po raspravama koje se vode na odborima a ja kao član odbora za ustav i poslovnik to mogu posvjedočiti nakon rasprava koje vodimo na tim odborima da se na ovakav način zakoni više ne bi smjeli upućivati u hrvatski sabor ovo nisu zgotovljeni zakoni ovo nisu prodiskutirani zakoni i ovo su zakoni koji su napravljeni po osnovi kompromisa\n",
            "ASR: da se napravi da se umanji šteta ali ne da se dođe do valjanog rješenja to vrijedi i za ovaj zakon o hrtu dakle prvo što se tiče inicijalne ideje predlagatelja da se naknade pristojbe mjesečne za hrt smanje sa 80 na 60t i koliko kuna dobro je da do toga nije došla\n",
            "REF: da se napravi da se umanji šteta ali ne i da se dođe do valjanog rješenja to vrijedi i za ovaj zakon o haerteu dakle prvo što se tiče inicijalne ideje predlagatelja da se naknade pristojbe mjesečne za haerte smanje sa osamdeset na šezdeset i koliko kuna dobro je da do toga nije\n",
            "ASR: zbog toga što bi to ugrozilo financijsku stabilnost javnog servisa hrt koji je onako vrlo lošem stanju i što zbog poslovanja što zbog drugih razloga o čemu bismo mi kao hrvatski sabor morali ozbiljno raspraviti i posvetiti tome jednu ozbiljnu sjednicu ovoga doma drugo dobro je\n",
            "REF: zbog toga što bi to ugrozilo financijsku stabilnost javnog servisa hrvatske radiotelevizije koji je ionako u vrlo lošem stanju i što zbog poslovanja što zbog drugih razloga o čemu bismo mi kao hrvatski sabor morali ozbiljno raspraviti i posvetiti tome jednu ozbiljnu sjednicu ovoga doma drugo dobro je\n",
            "ASR: da je predlagatelj došo do kompromisnog rješenja koje ide u cilju da se smanje nameti koji idu na štetu građana i koji idu na štetu hrt i ovaj prijedlog to sadrži i moj kolega horvat u svojoj replici kolegi bulju je pokazao u čemu je struktura tih nameta i zašto je dobro da su oni ovim prijedlogom smanjeni međutim\n",
            "REF: da je predlagatelj došao do kompromisnog rješenja koje ide u cilju da se smanje nameti koji idu na štetu građana i koji idu na štetu haertea i ovaj prijedlog to sadrži i moj kolega horvat u svojoj replici kolegi bulju je pokazao u čemu je struktura tih nameta i zašto je dobro da su oni ovim prijedlogom smanjeni međutim\n",
            "ASR: sve u vezi sa tim kako će se to rješavati sa nametima je nažalost upitno upitno je zbog toga što se a neće pomoći najugroženijim kategorijama koje iz različitih razloga zbog veoma niskih primanja\n",
            "REF: sve u vezi sa tim kako će se to rješavati sa nametima je nažalost upitno upitno je zbog toga što se a neće pomoći najugroženijim kategorijama koje iz različitih razloga zbog veoma niskih primanja\n",
            "ASR: i zbog slabe naplate i prakse naplate pristojbi zapravo ne plaćaju pristojbe dakle postoji taj faktor da ljudi nemaju s čim platiti a s druge strane i postoji faktor da je to inercija iz vremena kada su se stvari poput struje vode komunalija televizije telefona zapravo se nisu plaćali i dok se u ovim stvarima\n",
            "REF: i zbog slabe naplate i prakse naplate pristojbi zapravo ne plaćaju pristojbe dakle postoji taj faktor da ljudi nemaju s čime platiti a s druge strane i postoji faktor da je to inercija iz vremena kada su se stvari poput struje vode komunalija televizije telefona zapravo se nisu plaćale i dok se u ovim stvarima\n",
            "ASR: prethodnima struja voda i telefonija zaveo koliko toliki red ovdje ko televizije to nije slučajno i zato nije slučajno što kolega hreljak kaže da najuredniji platiši supenzioneri zašto pa oni su zadržali dio kulture plaćanja kakva je nekada postojalo a mnogi tu kulturu nažalost nisu u ovom vremenu stekli ili misle da je ne trebaju imati i iz tog razloga\n",
            "REF: prethodnima struja voda i telefonija zaveo u koliko toliki red ovdje kod televizije to nije slučaj i zato nije slučajno što kolega hrelja kaže da najuredniji platiše su penzioneri zašto pa oni su zadržali dio kulture plaćanja kakva je nekada postojala a mnogi tu kulturi nažalost nisu u ovom vremenu stekli ili misle da je ne trebaju imati i iz tog razloga\n",
            "ASR: se sa ovim prijedlogom zakona neće riješiti niti pitanje najugroženijih kategorija a niti će se povećati naplata pristojbe ono što će se postići i to jeste za pohvalu jeste da će se ukupan trošak naplate smanjiti sa 800 kuna smanjiti će se na znatno manjei\n",
            "REF: se sa ovim prijedlogom zakona neće riješiti niti pitanje najugroženijih kategorija a niti će se povećati naplata pristojbi ono što će se postići i to jeste za pohvalu jeste da će se ukupan trošak naplate smanjiti sa osamsto kuna smanjiti će se na znatno\n",
            "ASR: drugo je pitanje je da li će to uzrokovati dva problema o kojima ću kasnije govoriti a da se vratimo na ovo prvo ako želimo riješiti pitanje najugroženijih kategorija onda treba iznaći način kako da se to riješi subvencijama kao što je to riješeno znpr struju za električnu energiju za najugroženije kategorije što je sabor izglasao pod krajem mandata vlade li evoga centra sdpa hnsa i ostalih\n",
            "REF: drugo je pitanje da li će to uzrokovati dva problema o kojima ću kasnije govoriti a da se vratimo na ovo prvo ako želimo riješiti pitanje najugroženijih kategorija onda treba iznaći način kako da se to riješi subvencijama kao što je to riješeno za naprimjer struju za električnu energiju za najugroženije kategorije što je sabor izglasao pod kraj mandata vlade lijevoga centra esdepea haenesa i ostalih\n",
            "ASR: prema tome ako je zato postoja mogućnost subvencioniranja ovdje u sklopu onoga što inače država daje hrtu kroz proračun je moguće osigurati da se najugroženije kategorije subvencioniraju kad su posrijedi troškovi i to predlažem predlagateljima da do drugoga čitanja zajedno sa ostalima razmotre mogućnost kako će se to uraditi što se tiče\n",
            "REF: prema tome ako je zato postojala mogućnost subvencioniranja ovdje u sklopu onoga što inače država daje haerteu kroz proračun je moguće osigurati da se najugroženije kategorije subvencioniraju kada su po srijedi troškovi i to predlažem predlagateljima da do drugoga čitanje zajedno sa ostalima razmotre mogućnost kako će se to uraditi što se tiče\n",
            "ASR: naplate naknada odnosno pristojbi model koji se ovdje predlaže a na koji je već upozoreno a to je da će hrvatska javnateva postati tijelo sa javnim ovlastima i preuzeti ovlasti sudova to im mi ovim zakonom ne možemo dati i to će se srušiti\n",
            "REF: naplate naknada odnosno pristojbi model koji se ovdje predlaže a na koji je već upozoreno a to je da će haerte postati tijelo sa javnim ovlastima i preuzeti ovlasti sudova to im mi ovim zakonom ne možemo dati i to će se srušiti\n",
            "ASR: to će pasti na ustavnom sudu ili će pasti na nekom drugom sudu koji je za to nadležnan hrvatska javna televiija nema ovlasti napu te platnim nalozima nema bez obzira što im mi ovim zakonom to dali ali drugi zakoni koji su važni stariji od ovoga zakona im to ne daju zapravo ii\n",
            "REF: to će pasti na ustavnom sudu ili će pasti na nekom drugom sudu koji je za to nadležan hrvatska javna televizija nema ovlasti naplate platnim nalozima nema bez obzira što im mi ovim zakonom to dali ali i drugi zakoni koji su važniji i stariji od ovoga zakona im to ne daju\n",
            "ASR: i to je inače problem neka mi ne zamjeruje naši kolege koji su ovo predložili sa prijedlozima zakona što se nema u vidu cjelina zakonodavnog sistema koja zemlja imaii\n",
            "REF: i to je inače problem neka mi ne zamjere naši kolege koji su ovo predložili sa prijedlozima zakona što se nema u vidu cjelina zakonodavnog sistema koja zemlja\n",
            "ASR: a ko je treba promijeniti ja pretpostavljam da je to s jedne strane dobra volja a s druge strane želja da se to što prije napravi i pokazuje se ni djeca se na brzinu ne radi a zakon je nikojer zakoni se uvijek dio zakonskog sistema neke zemlje a\n",
            "REF: a koje treba promijeniti ja pretpostavljam da je to s jedne strane dobra volja a s druge strane želja da se to što prije napravi i pokazuje se i djeca se na brzinu ne rade a zakon je nikakav jer zakoni su uvijek dio zakonskog sistema neke zemlje\n",
            "ASR: i uvijek povlače pitanje važenja u odnosu na drugi zakon tako i sa ovim zakonom ovo će doći u sukob sa ovršnim zakonom nprimjeriu\n",
            "REF: i uvijek povlače pitanje važenja u odnosu na drugi zakon tako i sa ovim zakonom ovo će doći u sukob sa ovršnim zakonom\n",
            "ASR: prema tome kao što je pitanje zakona o pravima državnih dužnosnika u koliziji sa zakonom o sukobu interesa kako smo ga bili predloželi i sve to treba ozbiljno razmotriti i do sljedećeg čitanja bez posebne žurbe sagledati i onda izaći sa konačnim rješenjima jer ova žurba nam treba biti pouka\n",
            "REF: prema tome kao što je pitanje zakona o pravima državnih dužnosnika u koliziji sa zakonom o sukobu interesa kako smo ga bili predložili i sve to treba ozbiljno razmotriti i do sljedećeg čitanja bez posebne žurbe sagledati i onda izaći sa konačnim rješenjima jer ova žurba nam treba biti pouka\n",
            "ASR: da više na način na koji smo u nju išli da jo više ne nastavljamo jer nećemo dobro napraviti i onda ćemo onima za koje mislimo da ćemo sa ovim zakonom netko je govorio o monopolu da ćemo ih razriješiti monopolske pozicije nećemoi\n",
            "REF: da više na način na koji smo u nju išli da je više ne nastavljamo jer nećemo dobro napraviti i onda ćemo onima za koje mislimo da ćemo sa ovim zakonom netko je govorio o monopolu da ćemo ih razriješiti monopolske pozicije\n",
            "ASR: samo će i dati priliku da na nadležnim sudovima sruše ovaj zakon iz tog razloga mi se čini da je važno da se zakon dobro pripremi ponovit ću još jedanput ja mislim da je dobro da se traži rješenje u pravcu u kojem ste krenuli veoma dobroii\n",
            "REF: samo ćemo im dati priliku da na nadležnim sudovima sruše ovaj zakon iz tog razloga mi se čini da je važno da se zakon dobro pripremi ponovit ću još jedanput ja mislim da je dobro da se traži rješenje u pravcu u kojem ste krenuli veoma\n",
            "ASR: i drugu stvar koju bih htio reći za one koji to ne znaju svake godine doduše sa zakašnjenjima od najmanje godinu dana ravnatelji hrta kojega mi doduše nemamo u ovom trenutku podnose izvještaj o programskomo izvještaj o programu realizaciji programa\n",
            "REF: i drugu stvar koju bih htio reći za one koji to ne znaju svake godine doduše sa zakašnjenjima od najmanje godinu dana ravnatelji haertea kojega mi doduše nemamo u ovom trenutku podnose izvještaj o programskom izvještaj o programu realizaciji programa\n",
            "ASR: i o financijskom poslovanju to je prilika da se postavi pitanje zašto se ovaj dio posla dao nekome izvan hrt i kako se dao i tko je donio tu odluku i ako je napravio protivno propismu pa mi smo ti u saboru\n",
            "REF: i o financijskom poslovanju to je prilika da se postavi pitanje zašto se ovaj dio posla dao nekome izvan haertea i kako se dao i tko je donio tu odluku i ako je napravio protivno propisu pa mi smo ti u saboru\n",
            "ASR: po svojim zakonskim ovlaštenjima koji možemo razriješiti nekoga koliko je napravio loše zato već imamo zakonske ovlasti ukoliko je nekome pogodovao ukoliko va nekome omogućio monopol ili ukoliko je našteti o televiziji ili korisnicima ili potrošačima i opteretijo ih većim davanjima nego što je to nužno i potrebno iii\n",
            "REF: po svojim zakonskim ovlaštenjima koji možemo razriješiti nekoga ukoliko je napravio loše za to već imamo zakonske ovlasti ukoliko je nekome pogodovao ukoliko je nekome omogućio monopol ili ukoliko je naštetio televiziji ili korisnicima ili potrošačima i opteretio ih većim davanjima nego što je to nužno i potrebno\n",
            "ASR: i pozivam vas da to gledamo kao način kako možemo stvar riješiti zadnja stvar koju želim kazati neće se povećati naplata potraživanja jer ni od ovih 100tis0a većina nije naplaćena ali ovi u lancu su imali svoju dobit i svoju zaradu neovisno o tome da li je to naplaćeno ili nijei\n",
            "REF: i pozivamo vas da to gledamo kao način kako možemo stvar riješiti zadnja stvar koju želim kazati neće se povećati naplata potraživanja jer ni od ovih sto tisuća većina nije naplaćena ali ovi u lancu su imali svoju dobit i svoju zaradu neovisno o tome da li je to naplaćeno ili\n",
            "ASR: i zato bi trebalo razmotriti način prvo da se plate nalozi izbjegnu ali istovremeno da se pronađe neki drugi način nekad smo imali ljude koji su to radili za proviziju koji su bili neka vrsta inkasatora danas su u vrijeme iznimne nezaposlenosti iznimno loših i niskih mirovina trebalo bi tražiti način da se ljudima pruži prilika da to rade  i\n",
            "REF: i zato bi trebalo razmotriti način prvo da se platni nalozi izbjegnu ali istovremeno da se pronađe neki drugi način nekad smo imali ljude koji su to radili za proviziju koji su bili neka vrsta inkasatora danas u vrijeme iznimne nezaposlenosti iznimno loših i niskih mirovina trebalo bi tražiti načina da se ljudima pruži prilika da to rade\n",
            "ASR: nije sve loše zato što je bilo zato što je podznakom neke vrste ideološke ili političke solucije ideološke ili političke vrijednosti nijei\n",
            "REF: nije sve loše zato što je bilo zato što je pod znakom neke vrste ideološke ili političke solucije ideološke ili političke vrijednosti\n",
            "ASR: prema tome naš je prijedlog sljedeći predlagateljima da prijedloge uzmu u najboljoj vjeri da primjedbe i kritike koje su iznesene u najboljoj vjeri da ne žure sa drugim čitanjem nego da se svi oni razmotre\n",
            "REF: prema tome naš je prijedlog sljedeći predlagateljima da prijedloge uzmu u najboljoj vjeri da primjedbe i kritike koje su iznesene u najboljoj vjeri da ne žure sa drugim čitanjem nego da se svi oni razmotre\n",
            "WARNING: multiple candidates found!\n",
            "ASR: ide se na nadležnim saborskim tijelima rasprave kako bi onda što je moguće kvalitetnije rješenje kao konačan tekst prijedloga zakona došlo pred nas na raspravu i na glasanje ovako kako je sada došlo ovo je još uvijek sirovmaterijal hvala vam\n",
            "REF: ide u tom smjeru bi trebalo naići na našu podršku no međutim ono što je problem da i kad su najbolje namjere može se dogoditi neke pogreške prilikom izrade zakona mi smo danas na odboru za zakonodavstvo imali primjedbe i mislim da su kolege iz mosta to prihvatili bitna je\n"
          ]
        }
      ],
      "source": [
        "for seg in output:\n",
        "  ids=vocab.get_ids(seg['text'])\n",
        "  ps,pe=close_match(ids,text)\n",
        "  print('ASR: '+seg['text'])\n",
        "  print('REF: '+vocab.get_text(text[ps:pe]))"
      ]
    },
    {
      "cell_type": "markdown",
      "metadata": {
        "id": "zYwga15v-uRl"
      },
      "source": [
        "And the LM corrected output (which is generally simpler):"
      ]
    },
    {
      "cell_type": "code",
      "execution_count": 9,
      "metadata": {
        "colab": {
          "base_uri": "https://localhost:8080/"
        },
        "id": "jrQr3SWm6jrw",
        "outputId": "13420bf9-9806-44e2-951d-eb8f40e7f289"
      },
      "outputs": [
        {
          "name": "stdout",
          "output_type": "stream",
          "text": [
            "ASR: poštovani potpredsjedniče poštovane kolegice i kolege ovo je još jedan od zakona koje raspravljamo ovih dana ili ćemo raspravljati narednih dana koji su možda imali dobar motiv da budu upućeni hrvatskom saboru ali\n",
            "REF: poštovani potpredsjedniče poštovane kolegice i kolege ovo je još jedan od zakona koji raspravljamo ovih dana ili ćemo raspravljati narednih dana koji su možda imali dobar motiv da budu upućeni hrvatskom saboru ali\n",
            "ASR: oblik u kojem su došli u hrvatski sabor prijedlog za rješenje problema ili motiva koji je naš i kolege motivirao da to upute u hrvatski sabor nažalost nije takav i bojimo se da će stvoriti mnogo više teškoća nego li što će donijeti rješenja sa sobom to je ujedno iskustvo\n",
            "REF: oblik u kojem su došli u hrvatski sabor prijedlog za rješenje problema ili motiva koji je naše kolege motivirao da to upute u hrvatski sabor nažalost nije takav i bojimo se da će stvoriti mnogo više teškoća nego li što će donijeti rješenja sa sobom to je ujedno iskustvo\n",
            "ASR: nadam se da se to vidi i po raspravama koje se vode na odborima a ja kao član odbora za ustav i poslovnik to mogu posvjedočiti nakon rasprava koje vodimo na tim odborima da se na ovakav način zakoni više ne bi smjeli upućivati u hrvatski sabor ovo nisu zgotovljeni zakoni oni nisu prodiskutirani zakoni i ovo su zakoni koji su napravljeni po osnovi kompromisa\n",
            "REF: nadam se da se to vidi i po raspravama koje se vode na odborima a ja kao član odbora za ustav i poslovnik to mogu posvjedočiti nakon rasprava koje vodimo na tim odborima da se na ovakav način zakoni više ne bi smjeli upućivati u hrvatski sabor ovo nisu zgotovljeni zakoni ovo nisu prodiskutirani zakoni i ovo su zakoni koji su napravljeni po osnovi kompromisa\n",
            "ASR: da se napravi da se umanji šteta ali ne da se dođe do valjanog rješenja to vrijedi i za ovaj zakon o hrtu dakle prvo što se tiče inicijalne ideje predlagatelja da se naknade pristojbe mjesečne za hrt smanje sa 80 na 60 i koliko kuna dobro je da do toga nije došlo\n",
            "REF: da se napravi da se umanji šteta ali ne i da se dođe do valjanog rješenja to vrijedi i za ovaj zakon o haerteu dakle prvo što se tiče inicijalne ideje predlagatelja da se naknade pristojbe mjesečne za haerte smanje sa osamdeset na šezdeset i koliko kuna dobro je da do toga nije došlo\n",
            "ASR: zbog toga što bi to ugrozilo financijsku stabilnost javnog servisa hrta koji je onako vrlo lošem stanju i što zbog poslovanja što zbog drugih razloga o čemu bismo mi kao hrvatski sabor morali ozbiljno raspraviti i posvetiti tome jednu ozbiljnu sjednicu ovoga doma drugo dobro je\n",
            "REF: zbog toga što bi to ugrozilo financijsku stabilnost javnog servisa hrvatske radiotelevizije koji je ionako u vrlo lošem stanju i što zbog poslovanja što zbog drugih razloga o čemu bismo mi kao hrvatski sabor morali ozbiljno raspraviti i posvetiti tome jednu ozbiljnu sjednicu ovoga doma drugo dobro je\n",
            "ASR: da je predlagatelj došao do kompromisnog rješenja koje ide u cilju da se smanje nameti koji idu na štetu građana i koji idu na štetu hrta i ovaj prijedlog to sadrži i moj kolega horvat u svojoj replici kolegi bulju je pokazao u čemu je struktura tih nameta i zašto je dobro da su oni ovim prijedlogom smanjeni međutim\n",
            "REF: da je predlagatelj došao do kompromisnog rješenja koje ide u cilju da se smanje nameti koji idu na štetu građana i koji idu na štetu haertea i ovaj prijedlog to sadrži i moj kolega horvat u svojoj replici kolegi bulju je pokazao u čemu je struktura tih nameta i zašto je dobro da su oni ovim prijedlogom smanjeni međutim\n",
            "ASR: sve u vezi sa tim kako će se to rješavati sa nametima je nažalost upitno upitno je zbog toga što se a neće pomoći najugroženijim kategorijama koje iz različitih razloga zbog veoma niskih primanja\n",
            "REF: sve u vezi sa tim kako će se to rješavati sa nametima je nažalost upitno upitno je zbog toga što se a neće pomoći najugroženijim kategorijama koje iz različitih razloga zbog veoma niskih primanja\n",
            "ASR: i zbog slabe naplate i prakse naplate pristojbi zapravo ne plaćaju pristojbe dakle postoji taj faktor da ljudi nemaju s čim platiti a s druge strane i postoji faktor da je to inercija iz vremena kada su se stvari poput struje vode komunalija televizije telefona zapravo se nisu plaćali i dok se u ovim stvarima\n",
            "REF: i zbog slabe naplate i prakse naplate pristojbi zapravo ne plaćaju pristojbe dakle postoji taj faktor da ljudi nemaju s čime platiti a s druge strane i postoji faktor da je to inercija iz vremena kada su se stvari poput struje vode komunalija televizije telefona zapravo se nisu plaćale i dok se u ovim stvarima\n",
            "ASR: prethodnima struja voda i telefonija zaveo koliko toliki red ovdje kod televizije to nije slučajno i zato nije slučajno što kolega hrelja kaže da najuredniji platiše supenzioneri zašto pa oni su zadržali dio kulture plaćanja kakva je nekada postojala a mnogi tu kulturu nažalost nisu u ovom vremenu stekli ili misle da je ne trebaju imati i iz tog razloga\n",
            "REF: prethodnima struja voda i telefonija zaveo u koliko toliki red ovdje kod televizije to nije slučaj i zato nije slučajno što kolega hrelja kaže da najuredniji platiše su penzioneri zašto pa oni su zadržali dio kulture plaćanja kakva je nekada postojala a mnogi tu kulturi nažalost nisu u ovom vremenu stekli ili misle da je ne trebaju imati i iz tog razloga\n",
            "ASR: se sa ovim prijedlogom zakona neće riješiti niti pitanje najugroženijih kategorija a niti će se povećati naplata pristojbe ono što će se postići i to jeste za pohvalu jeste da će se ukupan trošak naplate smanjiti sa 800 kuna smanjiti će se na znatno manje\n",
            "REF: se sa ovim prijedlogom zakona neće riješiti niti pitanje najugroženijih kategorija a niti će se povećati naplata pristojbi ono što će se postići i to jeste za pohvalu jeste da će se ukupan trošak naplate smanjiti sa osamsto kuna smanjiti će se na znatno\n",
            "ASR: drugo je pitanje je da li će to uzrokovati dva problema o kojima ću kasnije govoriti a da se vratimo na ovo prvo ako želimo riješiti pitanje najugroženijih kategorija onda treba iznaći način kako da se to riješi subvencijama kao što je to riješeno npr struju za električnu energiju za najugroženije kategorije što je sabor izglasao pod krajem mandata vlade lijevoga centra sdpa hnsa i ostalih\n",
            "REF: drugo je pitanje da li će to uzrokovati dva problema o kojima ću kasnije govoriti a da se vratimo na ovo prvo ako želimo riješiti pitanje najugroženijih kategorija onda treba iznaći način kako da se to riješi subvencijama kao što je to riješeno za naprimjer struju za električnu energiju za najugroženije kategorije što je sabor izglasao pod kraj mandata vlade lijevoga centra esdepea haenesa i ostalih\n",
            "ASR: prema tome ako je zato postoji mogućnost subvencioniranja ovdje u sklopu onoga što inače država daje hrtu kroz proračun je moguće osigurati da se najugroženije kategorije subvencioniraju kada su posrijedi troškovi i to predlažem predlagateljima da do drugoga čitanja zajedno sa ostalima razmotre mogućnost kako će se to uraditi što se tiče\n",
            "REF: prema tome ako je zato postojala mogućnost subvencioniranja ovdje u sklopu onoga što inače država daje haerteu kroz proračun je moguće osigurati da se najugroženije kategorije subvencioniraju kada su po srijedi troškovi i to predlažem predlagateljima da do drugoga čitanje zajedno sa ostalima razmotre mogućnost kako će se to uraditi što se tiče\n",
            "ASR: naplate naknada odnosno pristojbi model koji se ovdje predlaže a na koji je već upozoreno a to je da će hrvatska javna postati tijelo sa javnim ovlastima i preuzeti ovlasti sudova to im mi ovim zakonom ne možemo dati i to će se srušiti\n",
            "REF: naplate naknada odnosno pristojbi model koji se ovdje predlaže a na koji je već upozoreno a to je da će haerte postati tijelo sa javnim ovlastima i preuzeti ovlasti sudova to im mi ovim zakonom ne možemo dati i to će se srušiti\n",
            "ASR: to će pasti na ustavnom sudu ili će pasti na nekom drugom sudu koji je za to nadležan hrvatska javna televizija nema ovlasti naplate platnim nalozima nema bez obzira što im mi ovim zakonom to dali ali drugi zakoni koji su važni i stariji od ovoga zakona im to ne daju za pravo i\n",
            "REF: to će pasti na ustavnom sudu ili će pasti na nekom drugom sudu koji je za to nadležan hrvatska javna televizija nema ovlasti naplate platnim nalozima nema bez obzira što im mi ovim zakonom to dali ali i drugi zakoni koji su važniji i stariji od ovoga zakona im to ne daju za pravo i\n",
            "ASR: i to je inače problem neka mi ne zamjere naši kolege koji su ovo predložili sa prijedlozima zakona što se nema u vidu cjelina zakonodavnog sistema koja zemlja ima i\n",
            "REF: i to je inače problem neka mi ne zamjere naši kolege koji su ovo predložili sa prijedlozima zakona što se nema u vidu cjelina zakonodavnog sistema koja zemlja ima\n",
            "ASR: a ko je treba promijeniti ja pretpostavljam da je to s jedne strane dobra volja a s druge strane želja da se to što prije napravi i pokazuje se ni djeca se na brzinu ne radi a zakon je niko jer zakoni se uvijek dio zakonskog sistema neke zemlje\n",
            "REF: a koje treba promijeniti ja pretpostavljam da je to s jedne strane dobra volja a s druge strane želja da se to što prije napravi i pokazuje se i djeca se na brzinu ne rade a zakon je nikakav jer zakoni su uvijek dio zakonskog sistema neke zemlje\n",
            "ASR: i uvijek povlače pitanje važenja u odnosu na drugi zakon tako i sa ovim zakonom ovo će doći u sukob sa ovršnim zakonom na primjer i\n",
            "REF: i uvijek povlače pitanje važenja u odnosu na drugi zakon tako i sa ovim zakonom ovo će doći u sukob sa ovršnim zakonom na primjer\n",
            "ASR: prema tome kao što je pitanje zakona o pravima državnih dužnosnika u koliziji sa zakonom o sukobu interesa kako smo ga bili predloženi i sve to treba ozbiljno razmotriti i do sljedećeg čitanja bez posebne žurbe sagledati i onda izaći sa konačnim rješenjima jer ova žurba nam treba biti pouka\n",
            "REF: prema tome kao što je pitanje zakona o pravima državnih dužnosnika u koliziji sa zakonom o sukobu interesa kako smo ga bili predložili i sve to treba ozbiljno razmotriti i do sljedećeg čitanja bez posebne žurbe sagledati i onda izaći sa konačnim rješenjima jer ova žurba nam treba biti pouka\n",
            "ASR: da više na način na koji smo u nju išli da ju više ne nastavljamo jer nećemo dobro napraviti i onda ćemo onima za koje mislimo da ćemo sa ovim zakonom netko je govorio o monopolu da ćemo ih razriješiti monopolske pozicije nećemo\n",
            "REF: da više na način na koji smo u nju išli da je više ne nastavljamo jer nećemo dobro napraviti i onda ćemo onima za koje mislimo da ćemo sa ovim zakonom netko je govorio o monopolu da ćemo ih razriješiti monopolske pozicije nećemo\n",
            "ASR: samo će im dati priliku da na nadležnim sudovima sruše ovaj zakon iz tog razloga mi se čini da je važno da se zakon dobro pripremi ponovit ću još jedanput ja mislim da je dobro da se traži rješenje u pravcu u kojem ste krenuli veoma dobro\n",
            "REF: samo ćemo im dati priliku da na nadležnim sudovima sruše ovaj zakon iz tog razloga mi se čini da je važno da se zakon dobro pripremi ponovit ću još jedanput ja mislim da je dobro da se traži rješenje u pravcu u kojem ste krenuli veoma dobro\n",
            "ASR: i drugu stvar koju bih htio reći za one koji to ne znaju svake godine doduše sa zakašnjenjima od najmanje godinu dana ravnatelji hrta kojega mi doduše nemamo u ovom trenutku podnose izvještaj o programskom izvještaj o programu realizaciji programa\n",
            "REF: i drugu stvar koju bih htio reći za one koji to ne znaju svake godine doduše sa zakašnjenjima od najmanje godinu dana ravnatelji haertea kojega mi doduše nemamo u ovom trenutku podnose izvještaj o programskom izvještaj o programu realizaciji programa\n",
            "ASR: i o financijskom poslovanju to je prilika da se postavi pitanje zašto se ovaj dio posla dao nekome izvan hrta i kako se dao i tko je donio tu odluku i ako je napravio protivno propisu pa mi smo ti u saboru\n",
            "REF: i o financijskom poslovanju to je prilika da se postavi pitanje zašto se ovaj dio posla dao nekome izvan haertea i kako se dao i tko je donio tu odluku i ako je napravio protivno propisu pa mi smo ti u saboru\n",
            "ASR: po svojim zakonskim ovlaštenjima koji možemo razriješiti nekoga koliko je napravio loše zato već imamo zakonske ovlasti ukoliko je nekome pogodovao ukoliko je nekome omogućio monopol ili ukoliko je našteti o televiziji ili korisnicima ili potrošačima i opteretio ih većim davanjima nego što je to nužno i potrebno i\n",
            "REF: po svojim zakonskim ovlaštenjima koji možemo razriješiti nekoga ukoliko je napravio loše za to već imamo zakonske ovlasti ukoliko je nekome pogodovao ukoliko je nekome omogućio monopol ili ukoliko je naštetio televiziji ili korisnicima ili potrošačima i opteretio ih većim davanjima nego što je to nužno i potrebno i\n",
            "ASR: i pozivam vas da to gledamo kao način kako možemo stvar riješiti zadnja stvar koju želim kazati neće se povećati naplata potraživanja jer ni od ovih 100 tisuća većina nije naplaćena ali ovi u lancu su imali svoju dobit i svoju zaradu neovisno o tome da li je to naplaćeno ili nije\n",
            "REF: i pozivamo vas da to gledamo kao način kako možemo stvar riješiti zadnja stvar koju želim kazati neće se povećati naplata potraživanja jer ni od ovih sto tisuća većina nije naplaćena ali ovi u lancu su imali svoju dobit i svoju zaradu neovisno o tome da li je to naplaćeno ili nije\n",
            "ASR: i zato bi trebalo razmotriti način prvo da se platni nalozi izbjegnu ali istovremeno da se pronađe neki drugi način nekad smo imali ljude koji su to radili za proviziju koji su bili neka vrsta inkasatora danas su u vrijeme iznimne nezaposlenosti iznimno loših i niskih mirovina trebalo bi tražiti način da se ljudima pruži prilika da to rade i\n",
            "REF: i zato bi trebalo razmotriti način prvo da se platni nalozi izbjegnu ali istovremeno da se pronađe neki drugi način nekad smo imali ljude koji su to radili za proviziju koji su bili neka vrsta inkasatora danas u vrijeme iznimne nezaposlenosti iznimno loših i niskih mirovina trebalo bi tražiti načina da se ljudima pruži prilika da to rade\n",
            "ASR: nije sve loše zato što je bilo zato što je pod znakom neke vrste ideološke ili političke solucije ideološke ili političke vrijednosti nije\n",
            "REF: nije sve loše zato što je bilo zato što je pod znakom neke vrste ideološke ili političke solucije ideološke ili političke vrijednosti nije\n",
            "ASR: prema tome naš je prijedlog sljedeći predlagateljima da prijedloge uzmu u najboljoj vjeri da primjedbe i kritike koje su iznesene u najboljoj vjeri da ne žure sa drugim čitanjem nego da se svi oni razmotre\n",
            "REF: prema tome naš je prijedlog sljedeći predlagateljima da prijedloge uzmu u najboljoj vjeri da primjedbe i kritike koje su iznesene u najboljoj vjeri da ne žure sa drugim čitanjem nego da se svi oni razmotre\n",
            "WARNING: multiple candidates found!\n",
            "ASR: ide se na nadležnim saborskim tijelima rasprave kako bi onda što je moguće kvalitetnije rješenje kao konačan tekst prijedloga zakona došlo pred nas na raspravu i na glasanje ovako kako je sada došlo ovo je još uvijek sirovmaterijal hvala vam\n",
            "REF: ide u tom smjeru bi trebalo naići na našu podršku no međutim ono što je problem da i kad su najbolje namjere može se dogoditi neke pogreške prilikom izrade zakona mi smo danas na odboru za zakonodavstvo imali primjedbe i mislim da su kolege iz mosta to prihvatili bitna je\n"
          ]
        }
      ],
      "source": [
        "for seg in output_lm:\n",
        "  ids=vocab.get_ids(seg['text'])\n",
        "  ps,pe=close_match(ids,text)\n",
        "  print('ASR: '+seg['text'])\n",
        "  print('REF: '+vocab.get_text(text[ps:pe]))"
      ]
    },
    {
      "cell_type": "code",
      "execution_count": null,
      "metadata": {},
      "outputs": [],
      "source": []
    }
  ],
  "metadata": {
    "colab": {
      "authorship_tag": "ABX9TyO9gj715HFEAYG15otH6mvz",
      "include_colab_link": true,
      "name": "Matching.ipynb",
      "provenance": []
    },
    "interpreter": {
      "hash": "7f6f5766036ee03d059e365a942add07f79c17033585e9357ee8157d52fe6bb9"
    },
    "kernelspec": {
      "display_name": "Python 3.8.3 ('base')",
      "language": "python",
      "name": "python3"
    },
    "language_info": {
      "codemirror_mode": {
        "name": "ipython",
        "version": 3
      },
      "file_extension": ".py",
      "mimetype": "text/x-python",
      "name": "python",
      "nbconvert_exporter": "python",
      "pygments_lexer": "ipython3",
      "version": "3.8.3"
    }
  },
  "nbformat": 4,
  "nbformat_minor": 0
}
