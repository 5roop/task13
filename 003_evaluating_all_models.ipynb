{
 "cells": [
  {
   "cell_type": "code",
   "execution_count": 1,
   "metadata": {},
   "outputs": [],
   "source": [
    "from pathlib import Path\n",
    "import pandas as pd\n",
    "import string\n",
    "raw = Path(\"transcript_raw.txt\").read_text()"
   ]
  },
  {
   "cell_type": "markdown",
   "metadata": {},
   "source": [
    "preprocess raw: delete newlines and reporters' names, delete excess whitespace and all punctuation:"
   ]
  },
  {
   "cell_type": "code",
   "execution_count": 2,
   "metadata": {},
   "outputs": [],
   "source": [
    "raw = raw.replace(\"\\nVekarić:\", \" \").replace(\"\\nB92:\", \" \").replace(\"\\n\", \" \").lower()\n",
    "for l in string.punctuation:\n",
    "    raw = raw.replace(l, \"\")\n",
    "raw = \" \".join(raw.split())"
   ]
  },
  {
   "cell_type": "code",
   "execution_count": 3,
   "metadata": {},
   "outputs": [
    {
     "data": {
      "text/html": [
       "<div>\n",
       "<style scoped>\n",
       "    .dataframe tbody tr th:only-of-type {\n",
       "        vertical-align: middle;\n",
       "    }\n",
       "\n",
       "    .dataframe tbody tr th {\n",
       "        vertical-align: top;\n",
       "    }\n",
       "\n",
       "    .dataframe thead th {\n",
       "        text-align: right;\n",
       "    }\n",
       "</style>\n",
       "<table border=\"1\" class=\"dataframe\">\n",
       "  <thead>\n",
       "    <tr style=\"text-align: right;\">\n",
       "      <th></th>\n",
       "      <th>model</th>\n",
       "      <th>transcription</th>\n",
       "    </tr>\n",
       "  </thead>\n",
       "  <tbody>\n",
       "    <tr>\n",
       "      <th>0</th>\n",
       "      <td>classla/wav2vec2-xls-r-parlaspeech-hr-lm</td>\n",
       "      <td>ukoliko ste i teevziejsupravo završene svakako...</td>\n",
       "    </tr>\n",
       "    <tr>\n",
       "      <th>1</th>\n",
       "      <td>classla/wav2vec2-xls-r-parlaspeech-hr</td>\n",
       "      <td>ukoliko ste  ti televzije bkoji su upravo zavr...</td>\n",
       "    </tr>\n",
       "    <tr>\n",
       "      <th>2</th>\n",
       "      <td>classla/wav2vec2-large-slavic-parlaspeech-hr</td>\n",
       "      <td>&lt;pad&gt;u&lt;pad&gt;kol&lt;pad&gt;i&lt;pad&gt;ko s&lt;pad&gt;te&lt;pad&gt; &lt;pad...</td>\n",
       "    </tr>\n",
       "    <tr>\n",
       "      <th>3</th>\n",
       "      <td>classla/wav2vec2-large-slavic-parlaspeech-hr-lm</td>\n",
       "      <td>ukoliko ste 92 koji su upravo svakako vam je d...</td>\n",
       "    </tr>\n",
       "  </tbody>\n",
       "</table>\n",
       "</div>"
      ],
      "text/plain": [
       "                                             model  \\\n",
       "0         classla/wav2vec2-xls-r-parlaspeech-hr-lm   \n",
       "1            classla/wav2vec2-xls-r-parlaspeech-hr   \n",
       "2     classla/wav2vec2-large-slavic-parlaspeech-hr   \n",
       "3  classla/wav2vec2-large-slavic-parlaspeech-hr-lm   \n",
       "\n",
       "                                       transcription  \n",
       "0  ukoliko ste i teevziejsupravo završene svakako...  \n",
       "1  ukoliko ste  ti televzije bkoji su upravo zavr...  \n",
       "2  <pad>u<pad>kol<pad>i<pad>ko s<pad>te<pad> <pad...  \n",
       "3  ukoliko ste 92 koji su upravo svakako vam je d...  "
      ]
     },
     "execution_count": 3,
     "metadata": {},
     "output_type": "execute_result"
    }
   ],
   "source": [
    "df = pd.read_csv(\"003_all_models_transcriptions.csv\")\n",
    "df.head()"
   ]
  },
  {
   "cell_type": "code",
   "execution_count": 4,
   "metadata": {},
   "outputs": [],
   "source": [
    "def generate_differ_content(pred:str) -> str:\n",
    "    \"\"\"Generate comparatively pretty diff from input predictions\n",
    "    against global raw.\n",
    "\n",
    "    Args:\n",
    "        pred (str): Predictions to be compared\n",
    "\n",
    "    Returns:\n",
    "        str: Newline delimited diff.\n",
    "    \"\"\"\n",
    "    from difflib import Differ\n",
    "    differ_content = \"\"\n",
    "    for diff in list(Differ().compare(raw.split(), pred.split()))[:500]:\n",
    "        differ_content += diff + \"\\n\"\n",
    "    return differ_content"
   ]
  },
  {
   "cell_type": "code",
   "execution_count": 6,
   "metadata": {},
   "outputs": [],
   "source": [
    "for i, row in df.iterrows():\n",
    "    modelname = row[\"model\"]\n",
    "    pred = row[\"transcription\"].replace(\"<pad>\", \"\")\n",
    "    from datasets import load_metric\n",
    "\n",
    "    wer = load_metric(\"wer\")\n",
    "    cer = load_metric(\"cer\")\n",
    "\n",
    "    c = cer.compute(predictions = [pred], references = [raw])\n",
    "    w = wer.compute(predictions = [pred], references = [raw])\n",
    "\n",
    "    content = generate_differ_content(pred=pred)\n",
    "    fname = f\"\"\"003_{modelname.replace(\"/\", \"--\")}.txt\"\"\"\n",
    "    p = Path(\"./diffs\") / fname\n",
    "    header = f\"\"\"Model: {modelname},\\ncer: {c}, \\nwer: {w}\\n\\n\\n\"\"\"\n",
    "    p.write_text(header + content)\n"
   ]
  },
  {
   "cell_type": "code",
   "execution_count": null,
   "metadata": {},
   "outputs": [],
   "source": []
  }
 ],
 "metadata": {
  "interpreter": {
   "hash": "7f6f5766036ee03d059e365a942add07f79c17033585e9357ee8157d52fe6bb9"
  },
  "kernelspec": {
   "display_name": "Python 3.8.3 ('base')",
   "language": "python",
   "name": "python3"
  },
  "language_info": {
   "codemirror_mode": {
    "name": "ipython",
    "version": 3
   },
   "file_extension": ".py",
   "mimetype": "text/x-python",
   "name": "python",
   "nbconvert_exporter": "python",
   "pygments_lexer": "ipython3",
   "version": "3.8.3"
  },
  "orig_nbformat": 4
 },
 "nbformat": 4,
 "nbformat_minor": 2
}
