{
 "cells": [
  {
   "cell_type": "markdown",
   "metadata": {},
   "source": [
    "# Pars 1: URL to transcript, yt hash"
   ]
  },
  {
   "cell_type": "code",
   "execution_count": 2,
   "metadata": {},
   "outputs": [],
   "source": [
    "from bs4 import BeautifulSoup\n",
    "import numpy as np\n",
    "\n",
    "import requests\n",
    "\n",
    "url = \"https://www.juznevesti.com/15-minuta/Marko-Nedeljkovic.sr.html\"\n",
    "\n",
    "req = requests.get(url)\n",
    "soup = BeautifulSoup(req.text, \"html.parser\")"
   ]
  },
  {
   "cell_type": "code",
   "execution_count": 3,
   "metadata": {},
   "outputs": [
    {
     "data": {
      "text/plain": [
       "'Sk4JedgwClY'"
      ]
     },
     "execution_count": 3,
     "metadata": {},
     "output_type": "execute_result"
    }
   ],
   "source": [
    "text = \"\"\n",
    "for i in soup.find_all(\"div\"):\n",
    "    current_classes_set = set(i.get(\"class\", list()))\n",
    "    if current_classes_set == {\"bbredbolder\", \"mb20\", \"desc_holder\"}:\n",
    "        for j in i.find_all(\"p\"):\n",
    "            text += j.text + \"\\n\"\n",
    "video_div = soup.find(id=\"video_1\")\n",
    "video_link = video_div.contents[1].get(\"src\")\n",
    "yt_hash = video_link.split(\"/\")[-1]\n",
    "yt_hash\n"
   ]
  },
  {
   "cell_type": "code",
   "execution_count": 4,
   "metadata": {},
   "outputs": [
    {
     "data": {
      "text/plain": [
       "['\\n',\n",
       " <iframe allowfullscreen=\"\" frameborder=\"0\" height=\"265\" src=\"https://www.youtube.com/embed/Sk4JedgwClY\" width=\"470\"></iframe>,\n",
       " '\\n']"
      ]
     },
     "execution_count": 4,
     "metadata": {},
     "output_type": "execute_result"
    }
   ],
   "source": [
    "video_div.contents"
   ]
  },
  {
   "cell_type": "markdown",
   "metadata": {},
   "source": [
    "# Pars 2: generating URLs."
   ]
  },
  {
   "cell_type": "code",
   "execution_count": 19,
   "metadata": {},
   "outputs": [],
   "source": [
    "found_urls = []\n",
    "for pagenumber in range(1, 16):\n",
    "    \n",
    "    url = f\"https://www.juznevesti.com/15-minuta/index.{pagenumber}.sr.html\"\n",
    "    req = requests.get(url)\n",
    "    soup = BeautifulSoup(req.text, \"html.parser\")\n",
    "    h3s = soup.find_all(\"h3\")\n",
    "    h3s_filtered = [i for i in h3s if \"title--2\" in i.get(\"class\")]\n",
    "    found_urls.extend(\n",
    "        [i.a[\"href\"] for i in h3s_filtered]\n",
    "    )\n",
    "found_urls = list(set(found_urls))"
   ]
  },
  {
   "cell_type": "code",
   "execution_count": 20,
   "metadata": {},
   "outputs": [
    {
     "data": {
      "text/plain": [
       "300"
      ]
     },
     "execution_count": 20,
     "metadata": {},
     "output_type": "execute_result"
    }
   ],
   "source": [
    "len(found_urls)"
   ]
  },
  {
   "cell_type": "markdown",
   "metadata": {},
   "source": [
    "# Fusion of the two parts"
   ]
  },
  {
   "cell_type": "code",
   "execution_count": 21,
   "metadata": {},
   "outputs": [],
   "source": [
    "transcripts = list()\n",
    "hashes = list()\n",
    "\n",
    "for url in found_urls:\n",
    "    req = requests.get(url)\n",
    "    soup = BeautifulSoup(req.text, \"html.parser\")\n",
    "    current_text = \"\"\n",
    "    for i in soup.find_all(\"div\"):\n",
    "        current_classes_set = set(i.get(\"class\", list()))\n",
    "        if \"desc_holder\" in current_classes_set:\n",
    "            current_text = \"    \".join([j.text + \"\\n\" for j in i.find_all(\"p\")])\n",
    "    # video_div = soup.find(id=\"video_1\")\n",
    "    # for element in video_div.contents:\n",
    "    #     try:\n",
    "    #         video_link = element.get(\"src\", np.nan)\n",
    "    #         break\n",
    "    #     except:\n",
    "    #         continue\n",
    "    iframes = soup.find_all(\"iframe\")\n",
    "\n",
    "    video_link = [i.get(\"src\") for i in iframes  if \"youtube.com\" in i.get(\"src\")][0]\n",
    "    yt_hash = video_link.split(\"/\")[-1]\n",
    "    transcripts.append(current_text)\n",
    "    hashes.append(yt_hash)"
   ]
  },
  {
   "cell_type": "code",
   "execution_count": 22,
   "metadata": {},
   "outputs": [
    {
     "data": {
      "text/plain": [
       "[300, 300, 300]"
      ]
     },
     "execution_count": 22,
     "metadata": {},
     "output_type": "execute_result"
    }
   ],
   "source": [
    "list(map(len, [hashes, transcripts, found_urls]))"
   ]
  },
  {
   "cell_type": "code",
   "execution_count": 23,
   "metadata": {},
   "outputs": [
    {
     "data": {
      "text/html": [
       "<div>\n",
       "<style scoped>\n",
       "    .dataframe tbody tr th:only-of-type {\n",
       "        vertical-align: middle;\n",
       "    }\n",
       "\n",
       "    .dataframe tbody tr th {\n",
       "        vertical-align: top;\n",
       "    }\n",
       "\n",
       "    .dataframe thead th {\n",
       "        text-align: right;\n",
       "    }\n",
       "</style>\n",
       "<table border=\"1\" class=\"dataframe\">\n",
       "  <thead>\n",
       "    <tr style=\"text-align: right;\">\n",
       "      <th></th>\n",
       "      <th>url</th>\n",
       "      <th>yt_hash</th>\n",
       "      <th>transcript</th>\n",
       "    </tr>\n",
       "  </thead>\n",
       "  <tbody>\n",
       "    <tr>\n",
       "      <th>0</th>\n",
       "      <td>https://www.juznevesti.com/15-minuta/Boban-Sto...</td>\n",
       "      <td>00DtyZ2sCUM</td>\n",
       "      <td>Gost: Boban Stojanović, redovni profesor Ekono...</td>\n",
       "    </tr>\n",
       "    <tr>\n",
       "      <th>1</th>\n",
       "      <td>https://www.juznevesti.com/15-minuta/Slavoljub...</td>\n",
       "      <td>58xZSVbpgkk</td>\n",
       "      <td>Gost: Slavoljub Vlajković, narodni poslanik SP...</td>\n",
       "    </tr>\n",
       "    <tr>\n",
       "      <th>2</th>\n",
       "      <td>https://www.juznevesti.com/15-minuta/Zoran-Ziv...</td>\n",
       "      <td>YKAqDCyINz4</td>\n",
       "      <td>Gost: Zoran Žuvković, predsednik Nove stranke\\...</td>\n",
       "    </tr>\n",
       "    <tr>\n",
       "      <th>3</th>\n",
       "      <td>https://www.juznevesti.com/15-minuta/Majkl-Dev...</td>\n",
       "      <td>2QShGnPuVjQ</td>\n",
       "      <td>Gost: Majkl Devenport, Šef Delegacije EU u Srb...</td>\n",
       "    </tr>\n",
       "    <tr>\n",
       "      <th>4</th>\n",
       "      <td>https://www.juznevesti.com/15-minuta/Jelena-Dj...</td>\n",
       "      <td>khEIELaXKwI</td>\n",
       "      <td>Gost: Jelena Đorđević, Odbornica u Skupštini g...</td>\n",
       "    </tr>\n",
       "    <tr>\n",
       "      <th>...</th>\n",
       "      <td>...</td>\n",
       "      <td>...</td>\n",
       "      <td>...</td>\n",
       "    </tr>\n",
       "    <tr>\n",
       "      <th>295</th>\n",
       "      <td>https://www.juznevesti.com/15-minuta/Dragan-Pe...</td>\n",
       "      <td>a1cN7-Y29_g</td>\n",
       "      <td>Gost: Dragan Petković, savetnik za evropske in...</td>\n",
       "    </tr>\n",
       "    <tr>\n",
       "      <th>296</th>\n",
       "      <td>https://www.juznevesti.com/15-minuta/Vladica-D...</td>\n",
       "      <td>6CTWDc4amzU</td>\n",
       "      <td>Gost: Vladica Dimitrov, narodni poslanik SNS i...</td>\n",
       "    </tr>\n",
       "    <tr>\n",
       "      <th>297</th>\n",
       "      <td>https://www.juznevesti.com/15-minuta/Spasoje-M...</td>\n",
       "      <td>IUIKV9XlWEM</td>\n",
       "      <td>Gost: Spasoje Milovanović, direktor Narodnog p...</td>\n",
       "    </tr>\n",
       "    <tr>\n",
       "      <th>298</th>\n",
       "      <td>https://www.juznevesti.com/15-minuta/Vukosava-...</td>\n",
       "      <td>2-F5yoHSn5k</td>\n",
       "      <td>Gosti: Vukosava Crnjanski i Jovana Đurbabić\\n ...</td>\n",
       "    </tr>\n",
       "    <tr>\n",
       "      <th>299</th>\n",
       "      <td>https://www.juznevesti.com/15-minuta/Rodoljub-...</td>\n",
       "      <td>fTfyE4ZdZqY</td>\n",
       "      <td>Gost: Rodoljub Šabić, Poverenik za informacije...</td>\n",
       "    </tr>\n",
       "  </tbody>\n",
       "</table>\n",
       "<p>300 rows × 3 columns</p>\n",
       "</div>"
      ],
      "text/plain": [
       "                                                   url      yt_hash  \\\n",
       "0    https://www.juznevesti.com/15-minuta/Boban-Sto...  00DtyZ2sCUM   \n",
       "1    https://www.juznevesti.com/15-minuta/Slavoljub...  58xZSVbpgkk   \n",
       "2    https://www.juznevesti.com/15-minuta/Zoran-Ziv...  YKAqDCyINz4   \n",
       "3    https://www.juznevesti.com/15-minuta/Majkl-Dev...  2QShGnPuVjQ   \n",
       "4    https://www.juznevesti.com/15-minuta/Jelena-Dj...  khEIELaXKwI   \n",
       "..                                                 ...          ...   \n",
       "295  https://www.juznevesti.com/15-minuta/Dragan-Pe...  a1cN7-Y29_g   \n",
       "296  https://www.juznevesti.com/15-minuta/Vladica-D...  6CTWDc4amzU   \n",
       "297  https://www.juznevesti.com/15-minuta/Spasoje-M...  IUIKV9XlWEM   \n",
       "298  https://www.juznevesti.com/15-minuta/Vukosava-...  2-F5yoHSn5k   \n",
       "299  https://www.juznevesti.com/15-minuta/Rodoljub-...  fTfyE4ZdZqY   \n",
       "\n",
       "                                            transcript  \n",
       "0    Gost: Boban Stojanović, redovni profesor Ekono...  \n",
       "1    Gost: Slavoljub Vlajković, narodni poslanik SP...  \n",
       "2    Gost: Zoran Žuvković, predsednik Nove stranke\\...  \n",
       "3    Gost: Majkl Devenport, Šef Delegacije EU u Srb...  \n",
       "4    Gost: Jelena Đorđević, Odbornica u Skupštini g...  \n",
       "..                                                 ...  \n",
       "295  Gost: Dragan Petković, savetnik za evropske in...  \n",
       "296  Gost: Vladica Dimitrov, narodni poslanik SNS i...  \n",
       "297  Gost: Spasoje Milovanović, direktor Narodnog p...  \n",
       "298  Gosti: Vukosava Crnjanski i Jovana Đurbabić\\n ...  \n",
       "299  Gost: Rodoljub Šabić, Poverenik za informacije...  \n",
       "\n",
       "[300 rows x 3 columns]"
      ]
     },
     "execution_count": 23,
     "metadata": {},
     "output_type": "execute_result"
    }
   ],
   "source": [
    "\n",
    "import pandas as pd\n",
    "df = pd.DataFrame(data={\n",
    "\n",
    "    \"url\": found_urls,\n",
    "    \"yt_hash\": hashes,\n",
    "    \"transcript\": transcripts,\n",
    "})\n",
    "\n",
    "df"
   ]
  },
  {
   "cell_type": "code",
   "execution_count": 24,
   "metadata": {},
   "outputs": [
    {
     "data": {
      "text/plain": [
       "url           0\n",
       "yt_hash       0\n",
       "transcript    0\n",
       "dtype: int64"
      ]
     },
     "execution_count": 24,
     "metadata": {},
     "output_type": "execute_result"
    }
   ],
   "source": [
    "df.isna().sum(axis=0)"
   ]
  },
  {
   "cell_type": "code",
   "execution_count": 25,
   "metadata": {},
   "outputs": [],
   "source": [
    "df.to_csv(\"006_crawling_juznevesti.csv\", index=False)"
   ]
  },
  {
   "cell_type": "code",
   "execution_count": null,
   "metadata": {},
   "outputs": [],
   "source": []
  }
 ],
 "metadata": {
  "interpreter": {
   "hash": "7f6f5766036ee03d059e365a942add07f79c17033585e9357ee8157d52fe6bb9"
  },
  "kernelspec": {
   "display_name": "Python 3.8.3 ('base')",
   "language": "python",
   "name": "python3"
  },
  "language_info": {
   "codemirror_mode": {
    "name": "ipython",
    "version": 3
   },
   "file_extension": ".py",
   "mimetype": "text/x-python",
   "name": "python",
   "nbconvert_exporter": "python",
   "pygments_lexer": "ipython3",
   "version": "3.8.3"
  },
  "orig_nbformat": 4
 },
 "nbformat": 4,
 "nbformat_minor": 2
}
