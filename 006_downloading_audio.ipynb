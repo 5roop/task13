{
 "cells": [
  {
   "cell_type": "code",
   "execution_count": 1,
   "metadata": {},
   "outputs": [
    {
     "data": {
      "text/html": [
       "<div>\n",
       "<style scoped>\n",
       "    .dataframe tbody tr th:only-of-type {\n",
       "        vertical-align: middle;\n",
       "    }\n",
       "\n",
       "    .dataframe tbody tr th {\n",
       "        vertical-align: top;\n",
       "    }\n",
       "\n",
       "    .dataframe thead th {\n",
       "        text-align: right;\n",
       "    }\n",
       "</style>\n",
       "<table border=\"1\" class=\"dataframe\">\n",
       "  <thead>\n",
       "    <tr style=\"text-align: right;\">\n",
       "      <th></th>\n",
       "      <th>url</th>\n",
       "      <th>yt_hash</th>\n",
       "      <th>transcript</th>\n",
       "    </tr>\n",
       "  </thead>\n",
       "  <tbody>\n",
       "    <tr>\n",
       "      <th>0</th>\n",
       "      <td>https://www.juznevesti.com/15-minuta/Boban-Sto...</td>\n",
       "      <td>00DtyZ2sCUM</td>\n",
       "      <td>Gost: Boban Stojanović, redovni profesor Ekono...</td>\n",
       "    </tr>\n",
       "    <tr>\n",
       "      <th>1</th>\n",
       "      <td>https://www.juznevesti.com/15-minuta/Slavoljub...</td>\n",
       "      <td>58xZSVbpgkk</td>\n",
       "      <td>Gost: Slavoljub Vlajković, narodni poslanik SP...</td>\n",
       "    </tr>\n",
       "    <tr>\n",
       "      <th>2</th>\n",
       "      <td>https://www.juznevesti.com/15-minuta/Zoran-Ziv...</td>\n",
       "      <td>YKAqDCyINz4</td>\n",
       "      <td>Gost: Zoran Žuvković, predsednik Nove stranke\\...</td>\n",
       "    </tr>\n",
       "    <tr>\n",
       "      <th>3</th>\n",
       "      <td>https://www.juznevesti.com/15-minuta/Majkl-Dev...</td>\n",
       "      <td>2QShGnPuVjQ</td>\n",
       "      <td>Gost: Majkl Devenport, Šef Delegacije EU u Srb...</td>\n",
       "    </tr>\n",
       "    <tr>\n",
       "      <th>4</th>\n",
       "      <td>https://www.juznevesti.com/15-minuta/Jelena-Dj...</td>\n",
       "      <td>khEIELaXKwI</td>\n",
       "      <td>Gost: Jelena Đorđević, Odbornica u Skupštini g...</td>\n",
       "    </tr>\n",
       "    <tr>\n",
       "      <th>...</th>\n",
       "      <td>...</td>\n",
       "      <td>...</td>\n",
       "      <td>...</td>\n",
       "    </tr>\n",
       "    <tr>\n",
       "      <th>295</th>\n",
       "      <td>https://www.juznevesti.com/15-minuta/Dragan-Pe...</td>\n",
       "      <td>a1cN7-Y29_g</td>\n",
       "      <td>Gost: Dragan Petković, savetnik za evropske in...</td>\n",
       "    </tr>\n",
       "    <tr>\n",
       "      <th>296</th>\n",
       "      <td>https://www.juznevesti.com/15-minuta/Vladica-D...</td>\n",
       "      <td>6CTWDc4amzU</td>\n",
       "      <td>Gost: Vladica Dimitrov, narodni poslanik SNS i...</td>\n",
       "    </tr>\n",
       "    <tr>\n",
       "      <th>297</th>\n",
       "      <td>https://www.juznevesti.com/15-minuta/Spasoje-M...</td>\n",
       "      <td>IUIKV9XlWEM</td>\n",
       "      <td>Gost: Spasoje Milovanović, direktor Narodnog p...</td>\n",
       "    </tr>\n",
       "    <tr>\n",
       "      <th>298</th>\n",
       "      <td>https://www.juznevesti.com/15-minuta/Vukosava-...</td>\n",
       "      <td>2-F5yoHSn5k</td>\n",
       "      <td>Gosti: Vukosava Crnjanski i Jovana Đurbabić\\n ...</td>\n",
       "    </tr>\n",
       "    <tr>\n",
       "      <th>299</th>\n",
       "      <td>https://www.juznevesti.com/15-minuta/Rodoljub-...</td>\n",
       "      <td>fTfyE4ZdZqY</td>\n",
       "      <td>Gost: Rodoljub Šabić, Poverenik za informacije...</td>\n",
       "    </tr>\n",
       "  </tbody>\n",
       "</table>\n",
       "<p>300 rows × 3 columns</p>\n",
       "</div>"
      ],
      "text/plain": [
       "                                                   url      yt_hash  \\\n",
       "0    https://www.juznevesti.com/15-minuta/Boban-Sto...  00DtyZ2sCUM   \n",
       "1    https://www.juznevesti.com/15-minuta/Slavoljub...  58xZSVbpgkk   \n",
       "2    https://www.juznevesti.com/15-minuta/Zoran-Ziv...  YKAqDCyINz4   \n",
       "3    https://www.juznevesti.com/15-minuta/Majkl-Dev...  2QShGnPuVjQ   \n",
       "4    https://www.juznevesti.com/15-minuta/Jelena-Dj...  khEIELaXKwI   \n",
       "..                                                 ...          ...   \n",
       "295  https://www.juznevesti.com/15-minuta/Dragan-Pe...  a1cN7-Y29_g   \n",
       "296  https://www.juznevesti.com/15-minuta/Vladica-D...  6CTWDc4amzU   \n",
       "297  https://www.juznevesti.com/15-minuta/Spasoje-M...  IUIKV9XlWEM   \n",
       "298  https://www.juznevesti.com/15-minuta/Vukosava-...  2-F5yoHSn5k   \n",
       "299  https://www.juznevesti.com/15-minuta/Rodoljub-...  fTfyE4ZdZqY   \n",
       "\n",
       "                                            transcript  \n",
       "0    Gost: Boban Stojanović, redovni profesor Ekono...  \n",
       "1    Gost: Slavoljub Vlajković, narodni poslanik SP...  \n",
       "2    Gost: Zoran Žuvković, predsednik Nove stranke\\...  \n",
       "3    Gost: Majkl Devenport, Šef Delegacije EU u Srb...  \n",
       "4    Gost: Jelena Đorđević, Odbornica u Skupštini g...  \n",
       "..                                                 ...  \n",
       "295  Gost: Dragan Petković, savetnik za evropske in...  \n",
       "296  Gost: Vladica Dimitrov, narodni poslanik SNS i...  \n",
       "297  Gost: Spasoje Milovanović, direktor Narodnog p...  \n",
       "298  Gosti: Vukosava Crnjanski i Jovana Đurbabić\\n ...  \n",
       "299  Gost: Rodoljub Šabić, Poverenik za informacije...  \n",
       "\n",
       "[300 rows x 3 columns]"
      ]
     },
     "execution_count": 1,
     "metadata": {},
     "output_type": "execute_result"
    }
   ],
   "source": [
    "import pandas as pd\n",
    "df = pd.read_csv(\"006_crawling_juznevesti.csv\")\n",
    "df"
   ]
  },
  {
   "cell_type": "code",
   "execution_count": 6,
   "metadata": {},
   "outputs": [
    {
     "data": {
      "application/vnd.jupyter.widget-view+json": {
       "model_id": "53f710c568294243b964019824d52a8c",
       "version_major": 2,
       "version_minor": 0
      },
      "text/plain": [
       "  0%|          | 0/300 [00:00<?, ?it/s]"
      ]
     },
     "metadata": {},
     "output_type": "display_data"
    },
    {
     "name": "stdout",
     "output_type": "stream",
     "text": [
      "[youtube] 00DtyZ2sCUM: Downloading webpage\n",
      "[download] Destination: /tmp/tmpjbkwvwkg.wav\n",
      "[download]  13.7% of 15.09MiB at 63.60KiB/s ETA 03:29:37"
     ]
    }
   ],
   "source": [
    "from tqdm.auto import tqdm\n",
    "import os\n",
    "import tempfile\n",
    "from pathlib import Path\n",
    "\n",
    "audiodir = Path(\"audio\")\n",
    "def download_sound(yt_hash):\n",
    "    with tempfile.NamedTemporaryFile() as f:\n",
    "        cmd = f\"youtube-dl {yt_hash} -x --audio-format wav -o {f.name}.wav\"\n",
    "        os.system(cmd)\n",
    "\n",
    "        cmd = f\"ffmpeg -i {f.name}.wav -ac 1 -ar 16000 audio/{yt_hash}.wav\"\n",
    "        os.system(cmd)\n",
    "\n",
    "from concurrent.futures import ProcessPoolExecutor\n",
    "with ProcessPoolExecutor(max_workers=4) as executor:\n",
    "    executor.map(download_sound, df.yt_hash.values)\n"
   ]
  },
  {
   "cell_type": "code",
   "execution_count": 2,
   "metadata": {},
   "outputs": [],
   "source": [
    "df[\"transcript_length\"] = df.transcript.apply(len)\n"
   ]
  },
  {
   "cell_type": "code",
   "execution_count": 3,
   "metadata": {},
   "outputs": [
    {
     "data": {
      "text/plain": [
       "<AxesSubplot:ylabel='Frequency'>"
      ]
     },
     "execution_count": 3,
     "metadata": {},
     "output_type": "execute_result"
    },
    {
     "data": {
      "image/png": "[encoded data removed]",
      "text/plain": [
       "<Figure size 432x288 with 1 Axes>"
      ]
     },
     "metadata": {
      "needs_background": "light"
     },
     "output_type": "display_data"
    }
   ],
   "source": [
    "df.transcript_length.plot.hist()"
   ]
  },
  {
   "cell_type": "code",
   "execution_count": 4,
   "metadata": {},
   "outputs": [
    {
     "data": {
      "text/plain": [
       "(300,)"
      ]
     },
     "execution_count": 4,
     "metadata": {},
     "output_type": "execute_result"
    }
   ],
   "source": [
    "df.transcript.unique().shape"
   ]
  },
  {
   "cell_type": "code",
   "execution_count": 5,
   "metadata": {},
   "outputs": [
    {
     "data": {
      "text/plain": [
       "299"
      ]
     },
     "execution_count": 5,
     "metadata": {},
     "output_type": "execute_result"
    }
   ],
   "source": [
    "df.transcript.str.contains(\"JV: \").sum()"
   ]
  },
  {
   "cell_type": "code",
   "execution_count": null,
   "metadata": {},
   "outputs": [],
   "source": []
  }
 ],
 "metadata": {
  "interpreter": {
   "hash": "0a2ef650857c097cc4b789456eae376654e6121eead7baaf4f6a1af0eeae8bb5"
  },
  "kernelspec": {
   "display_name": "Python 3.8.12 ('base')",
   "language": "python",
   "name": "python3"
  },
  "language_info": {
   "codemirror_mode": {
    "name": "ipython",
    "version": 3
   },
   "file_extension": ".py",
   "mimetype": "text/x-python",
   "name": "python",
   "nbconvert_exporter": "python",
   "pygments_lexer": "ipython3",
   "version": "3.8.12"
  },
  "orig_nbformat": 4
 },
 "nbformat": 4,
 "nbformat_minor": 2
}
