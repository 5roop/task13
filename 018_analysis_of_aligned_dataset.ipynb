{
 "cells": [
  {
   "cell_type": "code",
   "execution_count": 23,
   "metadata": {},
   "outputs": [],
   "source": [
    "import pandas as pd\n",
    "pd.set_option('max_colwidth', 1000)\n",
    "df = pd.read_json(\"017_after_kaldi_anchor_separated.jsonl\", lines = True)\n"
   ]
  },
  {
   "cell_type": "code",
   "execution_count": 24,
   "metadata": {},
   "outputs": [
    {
     "data": {
      "text/plain": [
       "Index(['file', 'start', 'end', 'asr_transcription', 'webpage_transcript',\n",
       "       'ratio', 'text', 'kaldi_transcript', 'kaldi_words', 'kaldi_word_starts',\n",
       "       'kaldi_word_ends'],\n",
       "      dtype='object')"
      ]
     },
     "execution_count": 24,
     "metadata": {},
     "output_type": "execute_result"
    }
   ],
   "source": [
    "df.columns"
   ]
  },
  {
   "cell_type": "code",
   "execution_count": 25,
   "metadata": {},
   "outputs": [
    {
     "data": {
      "text/plain": [
       "0.14510373193007922"
      ]
     },
     "execution_count": 25,
     "metadata": {},
     "output_type": "execute_result"
    }
   ],
   "source": [
    "df[df.kaldi_transcript == \"\"].shape[0] / df.shape[0]"
   ]
  },
  {
   "cell_type": "markdown",
   "metadata": {},
   "source": [
    "We have 15% of instances where Kaldi could not find transcriptions"
   ]
  },
  {
   "cell_type": "code",
   "execution_count": 26,
   "metadata": {},
   "outputs": [
    {
     "data": {
      "text/plain": [
       "69.10775000000001"
      ]
     },
     "execution_count": 26,
     "metadata": {},
     "output_type": "execute_result"
    }
   ],
   "source": [
    "c = df[df.kaldi_transcript != \"\"]\n",
    "(c.end - c.start ).sum()/60**2\n"
   ]
  },
  {
   "cell_type": "markdown",
   "metadata": {},
   "source": [
    "The remaining parts make up for 68 hours of data. Let us see how the transcriptions look like and if they are stable:"
   ]
  },
  {
   "cell_type": "code",
   "execution_count": 33,
   "metadata": {},
   "outputs": [
    {
     "data": {
      "text/html": [
       "<div>\n",
       "<style scoped>\n",
       "    .dataframe tbody tr th:only-of-type {\n",
       "        vertical-align: middle;\n",
       "    }\n",
       "\n",
       "    .dataframe tbody tr th {\n",
       "        vertical-align: top;\n",
       "    }\n",
       "\n",
       "    .dataframe thead th {\n",
       "        text-align: right;\n",
       "    }\n",
       "</style>\n",
       "<table border=\"1\" class=\"dataframe\">\n",
       "  <thead>\n",
       "    <tr style=\"text-align: right;\">\n",
       "      <th></th>\n",
       "      <th>file</th>\n",
       "      <th>asr_transcription</th>\n",
       "      <th>kaldi_transcript</th>\n",
       "    </tr>\n",
       "  </thead>\n",
       "  <tbody>\n",
       "    <tr>\n",
       "      <th>12366</th>\n",
       "      <td>audio/umlLa_kFcjk.wav</td>\n",
       "      <td>pa ja sam imao prilike a razgovorim sa svima dakle sješit ću sa mojim partnerima sa ljudima koji me dugo godina podržavaju sa nekim manjim grupama građenima koji su oko nas sa nevladinim organizacijama dakle čuti ću mišljenja pa ću vidjeti šta ljudi mislile da je najbolje zabiro pirot je jedn od rjetkih opština u kojoj je srpska napredna stranka opozicija sli vi ako kažete da se rađujete sa njima i pak su oni u poziciji i na lokalnom nivou često kritikuju vlast kako se rađujete sa njima kako se snalazite u taj situaciji</td>\n",
       "      <td>kimππ ja sam imao prilike da razgovaram sa svima sešću sa svojim partnerima sa ljudima koji me dugo godina podržavaju sa nekim manjim grupama građana koje su oko nas sa nevladinim organizacijama čuću mišljenja pa ću videti šta ljudi misle da je najbolje za pirotpi pirot je jedna od retkih opština u kojoj je sns opozicija iako kažete da sarađujete sa njima ipak su oni u opoziciji i na lokalnom nivou često kritikuju vlast kako sarađujete sa njima i kako sarađujete u toj situacijiππ</td>\n",
       "    </tr>\n",
       "    <tr>\n",
       "      <th>5828</th>\n",
       "      <td>audio/akVJcU0gZ7A.wav</td>\n",
       "      <td>kupanju u bezeni imaju klorzaisadobar jagdenseficijent da je hiv izuzetno osjetljiv upodešnjoj sredini da ne može ubodom odnosno ujednom hemotofakog insekta znači to je nešto što je ostalo</td>\n",
       "      <td>kupanjem u bazenima jer je hlor zaista dobar i jak dezificijent hiv je izuzetno osetljiv u spoljašnjoj sredini da ne može ubodom odnosno ujedom insekta to je nešto što je ostalo</td>\n",
       "    </tr>\n",
       "  </tbody>\n",
       "</table>\n",
       "</div>"
      ],
      "text/plain": [
       "                        file  \\\n",
       "12366  audio/umlLa_kFcjk.wav   \n",
       "5828   audio/akVJcU0gZ7A.wav   \n",
       "\n",
       "                                                                                                                                                                                                                                                                                                                                                                                                                                                                                                                                   asr_transcription  \\\n",
       "12366  pa ja sam imao prilike a razgovorim sa svima dakle sješit ću sa mojim partnerima sa ljudima koji me dugo godina podržavaju sa nekim manjim grupama građenima koji su oko nas sa nevladinim organizacijama dakle čuti ću mišljenja pa ću vidjeti šta ljudi mislile da je najbolje zabiro pirot je jedn od rjetkih opština u kojoj je srpska napredna stranka opozicija sli vi ako kažete da se rađujete sa njima i pak su oni u poziciji i na lokalnom nivou često kritikuju vlast kako se rađujete sa njima kako se snalazite u taj situaciji   \n",
       "5828                                                                                                                                                                                                                                                                                                                                                    kupanju u bezeni imaju klorzaisadobar jagdenseficijent da je hiv izuzetno osjetljiv upodešnjoj sredini da ne može ubodom odnosno ujednom hemotofakog insekta znači to je nešto što je ostalo   \n",
       "\n",
       "                                                                                                                                                                                                                                                                                                                                                                                                                                                                                           kaldi_transcript  \n",
       "12366  kimππ ja sam imao prilike da razgovaram sa svima sešću sa svojim partnerima sa ljudima koji me dugo godina podržavaju sa nekim manjim grupama građana koje su oko nas sa nevladinim organizacijama čuću mišljenja pa ću videti šta ljudi misle da je najbolje za pirotpi pirot je jedna od retkih opština u kojoj je sns opozicija iako kažete da sarađujete sa njima ipak su oni u opoziciji i na lokalnom nivou često kritikuju vlast kako sarađujete sa njima i kako sarađujete u toj situacijiππ  \n",
       "5828                                                                                                                                                                                                                                                                                                                      kupanjem u bazenima jer je hlor zaista dobar i jak dezificijent hiv je izuzetno osetljiv u spoljašnjoj sredini da ne može ubodom odnosno ujedom insekta to je nešto što je ostalo  "
      ]
     },
     "execution_count": 33,
     "metadata": {},
     "output_type": "execute_result"
    }
   ],
   "source": [
    "df[[\"file\",\"asr_transcription\", \"kaldi_transcript\"]].sample(2)\n"
   ]
  },
  {
   "cell_type": "markdown",
   "metadata": {},
   "source": [
    "Let's check if any files are missing:"
   ]
  },
  {
   "cell_type": "code",
   "execution_count": 28,
   "metadata": {},
   "outputs": [],
   "source": [
    "df[\"segment_file\"] = df.apply(lambda row:\n",
    "    row[\"file\"].replace(\".wav\", \"\").replace(\"audio\", \"seg_audio\") + f'__{row[\"start\"]:.1f}__{row[\"end\"]:.1f}__.wav',\n",
    "    axis=1\n",
    ")\n",
    "\n",
    "for file in df.segment_file:\n",
    "    from pathlib import Path\n",
    "    p = Path(file)\n",
    "    if not p.exists():\n",
    "        print(\"Segment\", p, \"does not exist!\")\n",
    "\n"
   ]
  },
  {
   "cell_type": "markdown",
   "metadata": {},
   "source": [
    "Optional step:\n",
    "\n",
    "delete rows where we have empty kaldi outputs and delete corresponding audio files:"
   ]
  },
  {
   "cell_type": "code",
   "execution_count": 29,
   "metadata": {},
   "outputs": [],
   "source": [
    "filtered_df = df[df.kaldi_transcript != \"\"]\n",
    "\n",
    "loc = Path(\"seg_audio\")\n",
    "for segmentfile in loc.glob(\"*.wav\"):\n",
    "    if str(segmentfile) not in filtered_df[\"segment_file\"]:\n",
    "        # segmentfile.unlink()\n",
    "        continue"
   ]
  },
  {
   "cell_type": "markdown",
   "metadata": {},
   "source": [
    "Let's transform the string representations into something more pythonic:"
   ]
  },
  {
   "cell_type": "code",
   "execution_count": 34,
   "metadata": {},
   "outputs": [
    {
     "name": "stderr",
     "output_type": "stream",
     "text": [
      "/home/rupnik/anaconda3/lib/python3.9/site-packages/pandas/core/indexing.py:1773: SettingWithCopyWarning: \n",
      "A value is trying to be set on a copy of a slice from a DataFrame.\n",
      "Try using .loc[row_indexer,col_indexer] = value instead\n",
      "\n",
      "See the caveats in the documentation: https://pandas.pydata.org/pandas-docs/stable/user_guide/indexing.html#returning-a-view-versus-a-copy\n",
      "  self._setitem_single_column(ilocs[0], value, pi)\n"
     ]
    }
   ],
   "source": [
    "from ast import literal_eval\n",
    "\n",
    "filtered_df.loc[:, \"kaldi_words\"] = filtered_df.kaldi_words.apply(literal_eval)\n",
    "filtered_df.loc[:, \"kaldi_word_ends\"] = filtered_df.kaldi_word_ends.apply(literal_eval)\n",
    "filtered_df.loc[:, \"kaldi_word_starts\"] = filtered_df.kaldi_word_starts.apply(literal_eval)\n",
    "\n",
    "filtered_df.loc[:, \"kaldi_transcript\"] = filtered_df.kaldi_transcript.str.replace(\"ππ\", r\"<\\anchor>\").str.replace(\"π\", r\"<anchor>\")\n"
   ]
  },
  {
   "cell_type": "code",
   "execution_count": 35,
   "metadata": {},
   "outputs": [],
   "source": [
    "filtered_df.to_json(\"018_juzne_vesti_anchor_separated.jsonl\", lines=True, orient=\"records\")"
   ]
  },
  {
   "cell_type": "code",
   "execution_count": 36,
   "metadata": {},
   "outputs": [
    {
     "data": {
      "text/plain": [
       "Index(['file', 'start', 'end', 'asr_transcription', 'webpage_transcript',\n",
       "       'ratio', 'text', 'kaldi_transcript', 'kaldi_words', 'kaldi_word_starts',\n",
       "       'kaldi_word_ends', 'segment_file'],\n",
       "      dtype='object')"
      ]
     },
     "execution_count": 36,
     "metadata": {},
     "output_type": "execute_result"
    }
   ],
   "source": [
    "filtered_df.columns"
   ]
  },
  {
   "cell_type": "code",
   "execution_count": 37,
   "metadata": {},
   "outputs": [
    {
     "data": {
      "text/html": [
       "<div>\n",
       "<style scoped>\n",
       "    .dataframe tbody tr th:only-of-type {\n",
       "        vertical-align: middle;\n",
       "    }\n",
       "\n",
       "    .dataframe tbody tr th {\n",
       "        vertical-align: top;\n",
       "    }\n",
       "\n",
       "    .dataframe thead th {\n",
       "        text-align: right;\n",
       "    }\n",
       "</style>\n",
       "<table border=\"1\" class=\"dataframe\">\n",
       "  <thead>\n",
       "    <tr style=\"text-align: right;\">\n",
       "      <th></th>\n",
       "      <th>file</th>\n",
       "      <th>asr_transcription</th>\n",
       "      <th>webpage_transcript</th>\n",
       "      <th>kaldi_transcript</th>\n",
       "    </tr>\n",
       "  </thead>\n",
       "  <tbody>\n",
       "    <tr>\n",
       "      <th>0</th>\n",
       "      <td>audio/58xZSVbpgkk.wav</td>\n",
       "      <td>nekoliko puta smo ponavljali da nišo od uvođenja više stranačja nije ni kad imao veći broj narodnih poslanika u skupštini srbiji razgovaramo sa slavoljebom vlajkovićem poslanikom socijalistički partije srbije gospodine vlajkoviću kakav je vaš utesak da li je niž iskoristio to što ili koristi to što ima 12 poslanika</td>\n",
       "      <td>Nekoliko puta smo ponavljali da Niš od uvođenja višestranačja nijenikada imao veći broj poslanika u Skupštini Srbije. Razgovaramo sa Slavoljubom Vlajkovićem, narodnim poslanikom Socijalističke partije Srbije. Gospodine Vlajkoviću, kakav je vaš utisak, da li je Niš iskoristio to što ili koristi to što ima 12 poslanika -</td>\n",
       "      <td>nekoliko puta smo ponavljali da niš od uvođenja višestranačja nijenikada imao veći broj poslanika u skupštini srbije razgovaramo sa slavoljubom vlajkovićem narodnim poslanikom socijalističke partije srbije gospodine vlajkoviću kakav je vaš utisak da li je niš iskoristio to što ili koristi to što ima dvanaest poslanika</td>\n",
       "    </tr>\n",
       "    <tr>\n",
       "      <th>1</th>\n",
       "      <td>audio/58xZSVbpgkk.wav</td>\n",
       "      <td>nikad više pa niti iskoristio niti će izgledati iskoristi tu priliku što mislim da je to pa problem je u nama mislim da je problem u gradu a nije problem u narodnim a mi jeste prestavo u svojo stranke i mi nismo bjereni kao lica mi smo ispred svojih stranaka iz</td>\n",
       "      <td>- nikad više?’ Niti je iskoristio, niti će izgleda iskoristi priliku. Mislim da je to..  Šta je problem? Pa problem je u nama! Mislim da je problem u gradu, nije problem u narodnim poslanicima! Mi, jeste, predstavljamo svoje stranke! Mi nismo birani kao lica, mi smo ispred svojih stranaka</td>\n",
       "      <td>nikad više&lt;\u0007nchor&gt; niti je iskoristio niti će izgleda iskoristi priliku mislim da je topi šta je problem&lt;\u0007nchor&gt; pa problem je u nama mislim da je problem u gradu nije problem u narodnim poslanicima mi jeste predstavljamo svoje stranke mi nismo birani kao lica mi smo ispred svojih stranaka</td>\n",
       "    </tr>\n",
       "    <tr>\n",
       "      <th>2</th>\n",
       "      <td>audio/58xZSVbpgkk.wav</td>\n",
       "      <td>dobrani i znate da e svaka stranka od polih predloži 200 kandidata slučaj tako te o da smo svi bili na tim visokim brojevima da smo ušli u parlament ali mislim da je problem narodnih poslavnika ovdje u gradu</td>\n",
       "      <td>Vi znate da svaka stranka otprilike predloži 250 kandidata . Slučaj je tako hteo da smo svi bili na tim visokim brojevima, da smo ušli u parlament. Ali mislim da je problem narodnih poslanika ovde u gradu!</td>\n",
       "      <td>vi znate da svaka stranka otprilike predloži dvijesto pedeset kandidata slučaj je tako hteo da smo svi bili na tim visokim brojevima da smo ušli u parlament ali mislim da je problem narodnih poslanika ovde u gradu</td>\n",
       "    </tr>\n",
       "    <tr>\n",
       "      <th>3</th>\n",
       "      <td>audio/58xZSVbpgkk.wav</td>\n",
       "      <td>znači grad uopštenije organizvan i mi faktički u gradu nemamo i jednu jedinu zajedničku želju koju bi trebali da pokušamo bar da rješimo i da skupštini iskoristimo za bolji niš i za bolje sud ta je problem zbog čega vi nemožete se a jesam</td>\n",
       "      <td>gradu! Znači, grad uopšte nije organizovan i mi faktički u gradu nemamo ni jednu jedinu zajedničku želju koju bi trebalo da pokušamo bar da rešimo i da Skupštinu iskoristimo za bolji Niš i za bolje sutra.  Ali šta je problem? Zbog čega vi ne možete da se</td>\n",
       "      <td>znači grad uopšte nije organizovan i mi faktički u gradu nemamo ni jednu jedinu zajedničku želju koju bi trebalo da pokušamo bar da rešimo i da skupštinu iskoristimo za bolji niš i za bolje sutrapi ali šta je problem zbog čega vi ne možete da se</td>\n",
       "    </tr>\n",
       "    <tr>\n",
       "      <th>4</th>\n",
       "      <td>audio/58xZSVbpgkk.wav</td>\n",
       "      <td>pa iima ali ja kažem da bi trebao grada kažem is to ja mogu individualno tako e socijalistička partije srvi ima najveći broj poslonika tu ste i zrano radovanović ivana dinić pa što se tiče nas kao socijaliste mislim da to radimo perfektno</td>\n",
       "      <td>ja jesam... Pa ima, ali ja kažem da bi trebalo grad da kaže, nisu to.. Ja mogu individualno, ali tako mogu u ime svoje partije...  Ali vi imate, Socijalistička partija ima najveći broj poslanika: tu ste vi, Zoran Radovanović i Ivana Dinić. Tako je! Pa, što se tiče nas socijalista, mislim da to</td>\n",
       "      <td>pa ima ali ja kažem da bi trebalo grad da kaže nisu to ja mogu individualno ali tako mogu u ime svoje partijepi ali vi imate socijalistička partija ima najveći broj poslanika tu ste vi zoran radovanović i ivana dinić&lt;\u0007nchor&gt; tako je pa što se tiče nas socijalista mislim da to radimo perfektno</td>\n",
       "    </tr>\n",
       "    <tr>\n",
       "      <th>5</th>\n",
       "      <td>audio/58xZSVbpgkk.wav</td>\n",
       "      <td>ja ću vam reći rna one funkcije koje ima naprier zona 2 direktor kniničkog centra i mislim da posle vo ja sam skoro slušao neke podatke prvi kninčki centar ači bolnice zilena skoro 100 godina je prošla 80 godina još u vrijeme kraljevine i evo ovih dana treba da se potpiše</td>\n",
       "      <td>radimo perfektno! Ja ću vam reći, bar na one funkcije koje imamo... Na primer, Zoran Radovanović je direktor Kliničkog centra i mislim da posle... Evo, ja sam skoro slušao neke podatke, prvi klinički centar, inače bolnica je zidana, skoro 100 godina je prošlo, 80 godina, još u vreme kraljevine! I, evo, ovih dana treba da se</td>\n",
       "      <td>ja ću vam reći bar na one funkcije koje imamo na primer zoran radovanović je direktor kliničkog centra i mislim da posle evo ja sam skoro slušao neke podatke prvi klinički centar inače bolnica je zidana skoro sto godina je prošlo osamdeset godina još u vreme kraljevine i evo ovih dana treba da se potpiše</td>\n",
       "    </tr>\n",
       "    <tr>\n",
       "      <th>6</th>\n",
       "      <td>audio/58xZSVbpgkk.wav</td>\n",
       "      <td>ugovor za izgradnju novog klinitičkog centra to je zasluga svih nas mišlja o koji smoispred sucilističke partije i od prvog trenutka ači ljudi okoja su scialistička partija na odrađenim funkcijama ostavi ondi svi zajedno radimo i pokušavamo da taj ideol dvaidemo do kraja</td>\n",
       "      <td>se potpiše ugovor za izgradnju novog kliničkog centra! To je zasluga svih nas Nišlija, koji smo ispred Socijalističke partije. I od prvog trenutka, znači, ljudi koje je Socijalistička partija na određenim funkcijama postavila, mi svi zajedno radimo i pokušavamo da taj deo dovedemo do</td>\n",
       "      <td>ugovor za izgradnju novog kliničkog centra to je zasluga svih nas nišlija koji smo ispred socijalističke partije i od prvog trenutka znači ljudi koje je socijalistička partija na određenim funkcijama postavila mi svi zajedno radimo i pokušavamo da taj deo dovedemo do kraja</td>\n",
       "    </tr>\n",
       "    <tr>\n",
       "      <th>7</th>\n",
       "      <td>audio/58xZSVbpgkk.wav</td>\n",
       "      <td>i mislim da je to najveći uspje ad znači to neće dobiti novi klinički centar ni beogredni novi sad što jedinstveno na je što bszahvaljujućipvoi doktoru radovanoviću na čelu teklinike a i svih nas koji to podržavamo u razgovoru sa našim ministrom dobro</td>\n",
       "      <td>do kraja. Mislim da je to najveći uspeh. Eto, inače, to neće dobiti, novi klinički centar, ni Beograd, ni Novi Sad, što je jedinstveno nešto, mislim, zahvaljujući prvo i Zokiju Radovanoviću, na čelu te klinike, a i svih nas koji to podržavamo u razgovoru sa našim ministrom.</td>\n",
       "      <td>mislim da je to najveći uspeh eto inače to neće dobiti novi klinički centar ni beograd ni novi sad što je jedinstveno nešto mislim zahvaljujući prvo i zokiju radovanoviću na čelu te klinike a i svih nas koji to podržavamo u razgovoru sa našim ministrom dobro</td>\n",
       "    </tr>\n",
       "    <tr>\n",
       "      <th>8</th>\n",
       "      <td>audio/58xZSVbpgkk.wav</td>\n",
       "      <td>klijeničkic3 da kažem jedna ustanova iosoko je i dotor radovanović na čelu teak ustanove vi ste do nedavno bili i direktor jednog lokalnog javnog produzeća ali ono što vas pitam je prvenstveno šta ste vi uradili ili planirati duradite kao narodni poslanici</td>\n",
       "      <td>centar je, da kažem, jedna ustanova. Igrom slucaja je dr Radovanović na čelu te ustanove. Tako je.  Vi ste donedavno bili i direktor jednog lokalnog javnog preduzeća. Ali ono što vas pitam jeste, prvenstveno, šta ste vi uradili ili planirate da uradite kao narodni</td>\n",
       "      <td>klinički centar je da kažem jedna ustanova igrom slucaja je dr radovanović na čelu te ustanove tako jepi vi ste donedavno bili i direktor jednog lokalnog javnog preduzeća ali ono što vas pitam jeste prvenstveno šta ste vi uradili ili planirate da uradite kao narodni poslanici</td>\n",
       "    </tr>\n",
       "    <tr>\n",
       "      <th>9</th>\n",
       "      <td>audio/58xZSVbpgkk.wav</td>\n",
       "      <td>znači postoje ti poslanika socijalističke partije i srbije zniša tu je još jedan da kažem iz koalicije okupljane oko vas govorimo o gospodinu milorodu stošiću iz partpenzionera srbije i</td>\n",
       "      <td>narodni poslanici? Znači, postoje tri poslanika SPS iz Niša, tu je još jedan, da kažem, iz koalicije okupljene oko vas. Govorim o gospodinu Miloradu Stošiču</td>\n",
       "      <td>znači postoje tri poslanika sps iz niša tu je još jedan da kažem iz koalicije okupljene oko vas govorim o gospodinu miloradu stošiču iz pupsa</td>\n",
       "    </tr>\n",
       "    <tr>\n",
       "      <th>10</th>\n",
       "      <td>audio/58xZSVbpgkk.wav</td>\n",
       "      <td>da li tu postoji neki dogovor da li se vi dogovarate sednete jednom nedaljnom mesečno vas to je setveoro petoe ili koliko vas i da ppričate šta bi mogli odraditi npr pa evone svako mi sem sako jara vižeo da će evo potrebe za neke posve sastanke sedimofalički jedan do drugog</td>\n",
       "      <td>iz PUPS-a. Da li tu postoji neki dogovor, da li se vi dogovarate, sednete jednom nedeljeno, mesečno, vas troje, četvoro, petoro, ili koliko vas, i da popričate šta bi mogli da radite, na primer? Kako to funkcioniše? Pa, ne! Mi se svakog dana viđamo! Znači, nema potrebe za neke posebne sastanke! Sedimo faktički jedan do</td>\n",
       "      <td>da li tu postoji neki dogovor da li se vi dogovarate sednete jednom nedeljeno mesečno vas troje četvoro petoro ili koliko vas i da popričate šta bi mogli da radite na primer kako to funkcioniše&lt;\u0007nchor&gt; pa ne mi se svakog dana viđamo znači nema potrebe za neke posebne sastanke sedimo faktički jedan do drugog</td>\n",
       "    </tr>\n",
       "    <tr>\n",
       "      <th>11</th>\n",
       "      <td>audio/58xZSVbpgkk.wav</td>\n",
       "      <td>aa tako da smoto kažu nonstov zajedno što se tiče niša još jedan cilj koji imamo zajedno a to je željeznički čvor znači to opokušavamo je sam i javno tamo diskutoao izmještanju pruge</td>\n",
       "      <td>do drugog, tako da smo, što kažu, non - stop zajedno. Što se tiče Niša, još jedan cilj koji imamo zajedno, a to je ovaj železnički čvor! Znači, to pokušavamo, ja sam i javno tamo diskutovao o</td>\n",
       "      <td>tako da smo što kažu non stop zajedno što se tiče niša još jedan cilj koji imamo zajedno a to je ovaj železnički čvor znači to pokušavamo ja sam i javno tamo diskutovao o izmeštanju pruge</td>\n",
       "    </tr>\n",
       "    <tr>\n",
       "      <th>12</th>\n",
       "      <td>audio/58xZSVbpgkk.wav</td>\n",
       "      <td>tako da smatram da je to jedan ni po meni to je čak i najozbiljniji problem grada niše imam obećanje od ministra iz tih nekoliko razgovora i kojiko je to moguće projekte dokumentacije se trenutno radi i mislim da će biti</td>\n",
       "      <td>o izmeštanju pruge. Tako da smatram da je to jedan naj... Po meni, to je čak i najozbiljniji problem Grada Niša! Evo, imamo obećanje od ministra iz tih nekoliko razgovora, koliko je to moguće, projektna dokumentacija se trenutno radi i mislim da</td>\n",
       "      <td>tako da smatram da je to jedan naj po meni to je čak i najozbiljniji problem grada niša evo imamo obećanje od ministra iz tih nekoliko razgovora koliko je to moguće projektna dokumentacija se trenutno radi i mislim da će biti</td>\n",
       "    </tr>\n",
       "    <tr>\n",
       "      <th>13</th>\n",
       "      <td>audio/58xZSVbpgkk.wav</td>\n",
       "      <td>tok jese gotovo projekt na dokumentaciji znači počtiće se onda i sa obilaznicom željezničkog čkvora oko nišato su to na kraju kraja i programski ono što smo kao partija u predlizbenoj kampanji pričili evo pokušavamo</td>\n",
       "      <td>projektna dokumentacija i znači, počeće se onda i sa obilaznicom, ovaj, železničkog čvora oko Niša. To je, na kraju krajeva, i programski, ono što smo kao partija u predizbornoj kampanji pričali!</td>\n",
       "      <td>u toku jeseni biti gotova projektna dokumentacija i znači počeće se onda i sa obilaznicom ovaj železničkog čvora oko niša to je na kraju krajeva i programski ono što smo kao partija u predizbornoj kampanji pričali evo pokušavamo</td>\n",
       "    </tr>\n",
       "    <tr>\n",
       "      <th>14</th>\n",
       "      <td>audio/58xZSVbpgkk.wav</td>\n",
       "      <td>visćipih je sve to što ste zaprovjerili i da je završe što se dešava sa poslaničkom kancelarijom unišu je otvorena poslanička kancelarija međutim upravo narodni poslanik milonra stoši se žalio da ta kancelarija ne funkcionda poslanici o dobro ovog prvog</td>\n",
       "      <td>mislim da ćemo sve to otprilke što smo zaplanirali i da završimo.  Šta se dešava sa poslaničkom kancelarijom? U Nišu je otvorena poslanička kancelarija. Međutim, upravo narodni poslanik Milorad Stošić se žalio da ta kancelrija ne funkcioniše i da poslanici...</td>\n",
       "      <td>i mislim da ćemo sve to otprilke što smo zaplanirali i da završimopi šta se dešava sa poslaničkom kancelarijom u nišu je otvorena poslanička kancelarija međutim upravo narodni poslanik milorad stošić se žalio da ta kancelrija ne funkcioniše i da poslanici&lt;\u0007nchor&gt; pa dobro on prvo</td>\n",
       "    </tr>\n",
       "    <tr>\n",
       "      <th>15</th>\n",
       "      <td>audio/58xZSVbpgkk.wav</td>\n",
       "      <td>ne bi on je to čak lično radio kao nardeposlanik obezbedio j kadcelario mi svijamo ja imam toliko kadcelario kao predsjednik sucličke parktije da je stvaro neman potrebe da idem</td>\n",
       "      <td>dobro, on prvo.. ne bi... On je to, čovek, lično odradio, kao narodni poslanik, obezbedio kancelariju. Mi svi imamo, ja imam toliko kancelarija kao predsednik Socijalističke partije da stvarno nema potrebe</td>\n",
       "      <td>ne bi on je to čovek lično odradio kao narodni poslanik obezbedio kancelariju mi svi imamo ja imam toliko kancelarija kao predsednik socijalističke partije da stvarno nema potrebe da idem</td>\n",
       "    </tr>\n",
       "    <tr>\n",
       "      <th>16</th>\n",
       "      <td>audio/58xZSVbpgkk.wav</td>\n",
       "      <td>ovo svaku ko hoće vi znate da sellevstička partija radi svakog dana tako da ovisa pristal gdje mogu nači građani mene građani mogu nanađi u selističkoj partiji i dolaze građani dolaze ali ne toliko</td>\n",
       "      <td>da idem! Svako ko hoće, vi znate da Socijalistička partija radi svakog dana, tako da uvek sam prisutan!  Gde mogu. znači, građani da vas nađu? Mene građani mogu da nađu u Socijalističkoj partiji.  I jel dolaze građani? Dolaze, ali</td>\n",
       "      <td>svako ko hoće vi znate da socijalistička partija radi svakog dana tako da uvek sam prisutanpi gde mogu znači građani da vas nađu&lt;\u0007nchor&gt; mene građani mogu da nađu u socijalističkoj partijipi i jel dolaze građani&lt;\u0007nchor&gt; dolaze ali ne toliko</td>\n",
       "    </tr>\n",
       "    <tr>\n",
       "      <th>17</th>\n",
       "      <td>audio/58xZSVbpgkk.wav</td>\n",
       "      <td>obično su to neki sporovi koji ne mogu da rešu gradu mnišu a i treba neka pomoć kad j u pititi neko ministarstvo i onda pokušalno j to reši je se čak i nudio pojedinim firmama pojedinim građanima kada tako pričaju kad sdimo na obavezno da pomognem</td>\n",
       "      <td>ali ne toliko. Obično su to neki sporovi koje ne mogu da reše u Gradu Nišu, pa im treba neka pomoć kad je u pitanju neko ministarstvo i onda pokušavamo da to rešimo. Ja sam čak i nudio pojedinim firmama, pojedinim građanima, kad tako pričaju kad sedimo neobavezno, da</td>\n",
       "      <td>obično su to neki sporovi koje ne mogu da reše u gradu nišu pa im treba neka pomoć kad je u pitanju neko ministarstvo i onda pokušavamo da to rešimo ja sam čak i nudio pojedinim firmama pojedinim građanima kad tako pričaju kad sedimo neobavezno da pomognem</td>\n",
       "    </tr>\n",
       "    <tr>\n",
       "      <th>18</th>\n",
       "      <td>audio/58xZSVbpgkk.wav</td>\n",
       "      <td>da li su to putrske firme da li je to je elektronska mašnjinska da li je to zdravstvo nudio sam da te njihove probleme javno iznesen u skupštinu ako hverate nitko nije htedadoći ili neki ljudi od mojih kolega imaju neke jače vezi ili ne znam volje je to prijateljske veze</td>\n",
       "      <td>da pomognem.. Da li su to putarske firme, da li je to Elektronska, Mašinska, da li je to zdravstvo, nudio sam da te njihove probleme javno iznesem u Skupštinu. Ako mi verujete, niko nije hteo da dođe! Ili neki ljudi, od mojih kolega, imaju neke jače veze, ili ne znam, bolje te</td>\n",
       "      <td>da li su to putarske firme da li je to elektronska mašinska da li je to zdravstvo nudio sam da te njihove probleme javno iznesem u skupštinu ako mi verujete niko nije hteo da dođe ili neki ljudi od mojih kolega imaju neke jače veze ili ne znam bolje te prijateljske veze</td>\n",
       "    </tr>\n",
       "    <tr>\n",
       "      <th>19</th>\n",
       "      <td>audio/58xZSVbpgkk.wav</td>\n",
       "      <td>ali eto meljnitko nije dao ni jedno pismo vidim čak neke ljude neke akcije koje smo mi nekada vodili kao socijalistčka partije sa to neke druge partijee ne vi dto nije korektno ljudima koji nisu prisuni</td>\n",
       "      <td>te prijateljske veze, ali, eto, meni niko nije dao nijedno pismo! Vidim čak neke ljude, neke akcije koje smo mi nekad vodili, kao Socijalistička partija, sad to neke druge partije prisvajaju...  Na koje akcije mislite? E, ne bih da... To nije korektno! O ljudima</td>\n",
       "      <td>ali eto meni niko nije dao nijedno pismo vidim čak neke ljude neke akcije koje smo mi nekad vodili kao socijalistička partija sad to neke druge partije prisvajajupi na koje akcije mislite&lt;\u0007nchor&gt; e ne bih da to nije korektno o ljudima koji nisu prisutni</td>\n",
       "    </tr>\n",
       "    <tr>\n",
       "      <th>20</th>\n",
       "      <td>audio/58xZSVbpgkk.wav</td>\n",
       "      <td>ai već nekoliko teme bio u skupštini znači niške teme bne moramo o ljudima o idejama pa dobro mislim da možemo kad svi sedimo sad ja sam sedim ovdje mislim je bio kodr ali šta se dešava prema podacima se sadi otvoreni parlament na</td>\n",
       "      <td>nisu prisutni... Ali već nekoliko tema je bilo u Skupštini! Znači, niške teme su bile...  Dobro, ne moramo o ljudima! O idejama! Pa, dobro.. Milsim da.. Ja kažem, možemo, kad svi sedimo, ali nemojte sad! Ja</td>\n",
       "      <td>ali već nekoliko tema je bilo u skupštini znači niške teme su bilepi dobro ne moramo o ljudima o idejama&lt;\u0007nchor&gt; pa dobro milsim da ja kažem možemo kad svi sedimo ali nemojte sad ja sam sedim ovde i mislim da ne bi bilo korektno alipi dobro a šta se dešava prema podacima sa sajta otvoreni parlament</td>\n",
       "    </tr>\n",
       "    <tr>\n",
       "      <th>21</th>\n",
       "      <td>audio/58xZSVbpgkk.wav</td>\n",
       "      <td>vi ste samo jednom od početka mandata izašli za govornicu s kupštini srbije pa ja sam jednom izašao i to kada su u pitanju zakoni o željeznicia da baš uputum kao što sam rekao ono što je interesant a mislim da</td>\n",
       "      <td>sajta “Otvoreni parlament”, vi ste samo jednom od početka mandata izašli za govornicu u Skupštini Srbije? Pa, ja sam samo jednom izašao i to je kad su bili u pitanju... JV.</td>\n",
       "      <td>vi ste samo jednom od početka mandata izašli za govornicu u skupštini srbije&lt;\u0007nchor&gt; pa ja sam samo jednom izašao i to je kad su bili u pitanjupi jv zakoni o železnici ovde piše&lt;\u0007nchor&gt; da da baš o putevima baš kao što sam rekao ono</td>\n",
       "    </tr>\n",
       "    <tr>\n",
       "      <th>22</th>\n",
       "      <td>audio/58xZSVbpgkk.wav</td>\n",
       "      <td>to jeposle skoro godinu dana ešto je bilo 9. maja ove godine pa dobro ja sam negdje tek i setemro dobro postavljio nisam pr i niste bili ndaliko treba malo vreme pa d e mislim malo to poslavnička grupa siljezačke partije ja mogu na svaku temu u principu da diskute a smatram da</td>\n",
       "      <td>skoro godinu dana! Znači, to je bilo 9. maja ove godine! Pa, dobro, ja sam negde tek i postavljen u spetembur, oktobru... Nisam u prvom krugu!  Da! Vi niste bili na početku. Tako je. Trebalo je malo vremena! Pa, ne, mislim... ovo.. To je poslanička grupa Socijalističke partije... Ja mogu na svaku temu, u principu, da diskutujem.</td>\n",
       "      <td>to je bilo devet maja ove godine&lt;\u0007nchor&gt; pa dobro ja sam negde tek i postavljen u spetembur oktobru nisam u prvom krugupi da vi niste bili na početku&lt;\u0007nchor&gt; tako je trebalo je malo vremena pa ne mislim ovo to je poslanička grupa socijalističke partije ja mogu na svaku temu u principu da diskutujem mada smatram da</td>\n",
       "    </tr>\n",
       "    <tr>\n",
       "      <th>23</th>\n",
       "      <td>audio/58xZSVbpgkk.wav</td>\n",
       "      <td>nisam baš od onih plaćičnih srba koji smatrajo da sve zna da se razumiju u pravosuđe da se razujem u zdravstvo da se razumjem i jasam grizivinac po struci i smatram ono što je vezano za griževinu da tu trebamo svoj doprinos najmujed joče ali vidim pošto novinarii pojavljuje se to već i nekoliko</td>\n",
       "      <td>diskutujem. Mada smatram da... Nisam baš od onih naših Srba koji smatraju da sve znaju, da se razumeju u pravosuđe, da se razumeju u zdravstvo, da se razumeju... Ja sam građevinac po struci i smatram, ono što je vezano za građevinu, da tu treba svoj doprinos najbolji da dam. Inače.. Ali, vidim, pošto novinari.. Pojavljuje se to već</td>\n",
       "      <td>nisam baš od onih naših srba koji smatraju da sve znaju da se razumeju u pravosuđe da se razumeju u zdravstvo da se razumeju ja sam građevinac po struci i smatram ono što je vezano za građevinu da tu treba svoj doprinos najbolji da dam inače ali vidim pošto novinari pojavljuje se to već nekoliko</td>\n",
       "    </tr>\n",
       "    <tr>\n",
       "      <th>24</th>\n",
       "      <td>audio/58xZSVbpgkk.wav</td>\n",
       "      <td>put i u nekim novinama te a ne znam o ovoliko diskutt ja po meni tonema ikakve veze znate šta kad je neka opozicija do jučer je bio nakoji vlast i sada sve kritikuje sve kritiku ja razumjem ako ima čovjek da ponudi neko bolje rješenje</td>\n",
       "      <td>već nekoliko puta i u nekim novinama, te, ne znam... “Ovaj je ovoliko diskutovao”.. Znate šta...  Jel ima to neke veze? Pa, ja... Po meni, to nema nikakve veze! Pa, znate šta, kad je neko opozicija, do juče je bio u nekoj vlasti, i sad sve kritikuje! Sve kritikuje! Ja razumem ako ima čovek da</td>\n",
       "      <td>i u nekim novinama te ne znam ovaj je ovoliko diskutovao znate štapi jel ima to neke veze&lt;\u0007nchor&gt; pa ja po meni to nema nikakve veze pa znate šta kad je neko opozicija do juče je bio u nekoj vlasti i sad sve kritikuje sve kritikuje ja razumem ako ima čovek da ponudi neko bolje rešenje</td>\n",
       "    </tr>\n",
       "    <tr>\n",
       "      <th>25</th>\n",
       "      <td>audio/58xZSVbpgkk.wav</td>\n",
       "      <td>e vi znate ta ministarstvu il neko vlada da neko rješenje i u prilogu tog rješenja koju ponudite nešto bolje značilia vi mislim da su to bila najbolja anisam smatrao da su najbolja čak možda neka nisu ni po meni ni dobra ili su prebrzaza sve zakone ali pa dobro ja govorim</td>\n",
       "      <td>ponudi neko bolje rešenje! Vi znate, tamo, neko ministarstvo, ili neka vlada da neko rešenje i u prilogu tog rešenja ako vi ponudite nešto bolje! Mislim da je to jedna politička...  Znači , vi niste imali! Ili mislite da su to bila najbolja rešenja? Ne! Ja nisam smatrao da su najboolja, čak možda neka nisu po meni ni dobra,</td>\n",
       "      <td>vi znate tamo neko ministarstvo ili neka vlada da neko rešenje i u prilogu tog rešenja ako vi ponudite nešto bolje mislim da je to jedna političkapi znači vi niste imali ili mislite da su to bila najbolja rešenja&lt;\u0007nchor&gt; ne ja nisam smatrao da su najboolja čak možda neka nisu po meni ni dobra ili su prebrza alipi ali glasali ste za sve zakone&lt;\u0007nchor&gt; pa dobro ja govorim</td>\n",
       "    </tr>\n",
       "    <tr>\n",
       "      <th>26</th>\n",
       "      <td>audio/58xZSVbpgkk.wav</td>\n",
       "      <td>agovorim svoje ime čak mislim da su neki prebrza mislim da u kratkom periodu nekoliko godina koliko ja pratim taj parlament iz nisam poštovan profesionalno obveze ne dozvoljavaju baš malo da gledam reviziju ali evo sada slušam uživot sam</td>\n",
       "      <td>Pa, dobro. Ja govorim u svoje ime. Ja mislim da su neka čak i prebrza! Mislim da u kratkom periodu, nekoliko godina, koliko ja pratim taj parlamentarizam... Nisam, pošto mi profesionalne obaveze ne dozvoljavaju, baš mogao da gledam</td>\n",
       "      <td>u svoje ime ja mislim da su neka čak i prebrza mislim da u kratkom periodu nekoliko godina koliko ja pratim taj parlamentarizam nisam pošto mi profesionalne obaveze ne dozvoljavaju baš mogao da gledam televiziju al evo sada slušam uživo sam</td>\n",
       "    </tr>\n",
       "    <tr>\n",
       "      <th>27</th>\n",
       "      <td>audio/58xZSVbpgkk.wav</td>\n",
       "      <td>smatram da neki zakoni prebrži idu ili po ne znam po jednom o dva puta se pojavljuju u proceduri mislim da evo na putu smo ulaska tu u eu iliriključit ćemo se a mislim da treba neke stvari sačekati pa kad jednom nešto radimo dajde e da ne radimo nešto po stoputa nego da ga jednom odradimo onako kako te</td>\n",
       "      <td>evo sada slušam, uživo sam, smatram da neki zakoni prebrže idu ili po ne znam, jednom, dva puta se pojavljaju u proceduri! Milim da, evo, na putu smo ulaska i u tu Evropsku uniju, ili, priključićemo se... Ali mislim da neke stvari treba sačekati, pa kad jednom nešto radimo, daj da ne radimo nešto po 100 puta! Nego da ga</td>\n",
       "      <td>smatram da neki zakoni prebrže idu ili po ne znam jednom dva puta se pojavljaju u proceduri milim da evo na putu smo ulaska i u tu evropsku uniju ili priključićemo se ali mislim da neke stvari treba sačekati pa kad jednom nešto radimo daj da ne radimo nešto po sto puta nego da ga jednom odradimo onako kako</td>\n",
       "    </tr>\n",
       "    <tr>\n",
       "      <th>28</th>\n",
       "      <td>audio/58xZSVbpgkk.wav</td>\n",
       "      <td>kažete da ste previše imali obaveza pisalo se i u medijima je bilo dosta priče o tome da ste imali u jednom trenutku ste bili kako čak i južno vesu pisale manjeviše rekorder po broju funkcija javnih u istom trenutku ste bili</td>\n",
       "      <td>odradimo onako kako treba!  Kažete da ste previše imali obaveza. Pisalo se i u medijima je bilo dosta priča da ste imali, u jednom trenutku ste bili, čak i Južne vesti su pisale, manje - više, rekorder po broju funkcija javnih.</td>\n",
       "      <td>kažete da ste previše imali obaveza pisalo se i u medijima je bilo dosta priča da ste imali u jednom trenutku ste bili čak i južne vesti su pisale manje više rekorder po broju funkcija javnih u istom trenutku ste bili</td>\n",
       "    </tr>\n",
       "    <tr>\n",
       "      <th>31</th>\n",
       "      <td>audio/58xZSVbpgkk.wav</td>\n",
       "      <td>nikako drugačijene bi moglu dasat ako gledamo iz ugla plaćanja</td>\n",
       "      <td></td>\n",
       "      <td>nikako drugačije ne bih mogao da shvatimpi to je ako gledamo iz ugla plaćanja</td>\n",
       "    </tr>\n",
       "  </tbody>\n",
       "</table>\n",
       "</div>"
      ],
      "text/plain": [
       "                     file  \\\n",
       "0   audio/58xZSVbpgkk.wav   \n",
       "1   audio/58xZSVbpgkk.wav   \n",
       "2   audio/58xZSVbpgkk.wav   \n",
       "3   audio/58xZSVbpgkk.wav   \n",
       "4   audio/58xZSVbpgkk.wav   \n",
       "5   audio/58xZSVbpgkk.wav   \n",
       "6   audio/58xZSVbpgkk.wav   \n",
       "7   audio/58xZSVbpgkk.wav   \n",
       "8   audio/58xZSVbpgkk.wav   \n",
       "9   audio/58xZSVbpgkk.wav   \n",
       "10  audio/58xZSVbpgkk.wav   \n",
       "11  audio/58xZSVbpgkk.wav   \n",
       "12  audio/58xZSVbpgkk.wav   \n",
       "13  audio/58xZSVbpgkk.wav   \n",
       "14  audio/58xZSVbpgkk.wav   \n",
       "15  audio/58xZSVbpgkk.wav   \n",
       "16  audio/58xZSVbpgkk.wav   \n",
       "17  audio/58xZSVbpgkk.wav   \n",
       "18  audio/58xZSVbpgkk.wav   \n",
       "19  audio/58xZSVbpgkk.wav   \n",
       "20  audio/58xZSVbpgkk.wav   \n",
       "21  audio/58xZSVbpgkk.wav   \n",
       "22  audio/58xZSVbpgkk.wav   \n",
       "23  audio/58xZSVbpgkk.wav   \n",
       "24  audio/58xZSVbpgkk.wav   \n",
       "25  audio/58xZSVbpgkk.wav   \n",
       "26  audio/58xZSVbpgkk.wav   \n",
       "27  audio/58xZSVbpgkk.wav   \n",
       "28  audio/58xZSVbpgkk.wav   \n",
       "31  audio/58xZSVbpgkk.wav   \n",
       "\n",
       "                                                                                                                                                                                                                                                                                                               asr_transcription  \\\n",
       "0   nekoliko puta smo ponavljali da nišo od uvođenja više stranačja nije ni kad imao veći broj narodnih poslanika u skupštini srbiji razgovaramo sa slavoljebom vlajkovićem poslanikom socijalistički partije srbije gospodine vlajkoviću kakav je vaš utesak da li je niž iskoristio to što ili koristi to što ima 12 poslanika   \n",
       "1                                                          nikad više pa niti iskoristio niti će izgledati iskoristi tu priliku što mislim da je to pa problem je u nama mislim da je problem u gradu a nije problem u narodnim a mi jeste prestavo u svojo stranke i mi nismo bjereni kao lica mi smo ispred svojih stranaka iz   \n",
       "2                                                                                                                dobrani i znate da e svaka stranka od polih predloži 200 kandidata slučaj tako te o da smo svi bili na tim visokim brojevima da smo ušli u parlament ali mislim da je problem narodnih poslavnika ovdje u gradu   \n",
       "3                                                                                 znači grad uopštenije organizvan i mi faktički u gradu nemamo i jednu jedinu zajedničku želju koju bi trebali da pokušamo bar da rješimo i da skupštini iskoristimo za bolji niš i za bolje sud ta je problem zbog čega vi nemožete se a jesam   \n",
       "4                                                                                 pa iima ali ja kažem da bi trebao grada kažem is to ja mogu individualno tako e socijalistička partije srvi ima najveći broj poslonika tu ste i zrano radovanović ivana dinić pa što se tiče nas kao socijaliste mislim da to radimo perfektno   \n",
       "5                                               ja ću vam reći rna one funkcije koje ima naprier zona 2 direktor kniničkog centra i mislim da posle vo ja sam skoro slušao neke podatke prvi kninčki centar ači bolnice zilena skoro 100 godina je prošla 80 godina još u vrijeme kraljevine i evo ovih dana treba da se potpiše   \n",
       "6                                                ugovor za izgradnju novog klinitičkog centra to je zasluga svih nas mišlja o koji smoispred sucilističke partije i od prvog trenutka ači ljudi okoja su scialistička partija na odrađenim funkcijama ostavi ondi svi zajedno radimo i pokušavamo da taj ideol dvaidemo do kraja   \n",
       "7                                                                    i mislim da je to najveći uspje ad znači to neće dobiti novi klinički centar ni beogredni novi sad što jedinstveno na je što bszahvaljujućipvoi doktoru radovanoviću na čelu teklinike a i svih nas koji to podržavamo u razgovoru sa našim ministrom dobro   \n",
       "8                                                               klijeničkic3 da kažem jedna ustanova iosoko je i dotor radovanović na čelu teak ustanove vi ste do nedavno bili i direktor jednog lokalnog javnog produzeća ali ono što vas pitam je prvenstveno šta ste vi uradili ili planirati duradite kao narodni poslanici   \n",
       "9                                                                                                                                      znači postoje ti poslanika socijalističke partije i srbije zniša tu je još jedan da kažem iz koalicije okupljane oko vas govorimo o gospodinu milorodu stošiću iz partpenzionera srbije i   \n",
       "10                                            da li tu postoji neki dogovor da li se vi dogovarate sednete jednom nedaljnom mesečno vas to je setveoro petoe ili koliko vas i da ppričate šta bi mogli odraditi npr pa evone svako mi sem sako jara vižeo da će evo potrebe za neke posve sastanke sedimofalički jedan do drugog   \n",
       "11                                                                                                                                        aa tako da smoto kažu nonstov zajedno što se tiče niša još jedan cilj koji imamo zajedno a to je željeznički čvor znači to opokušavamo je sam i javno tamo diskutoao izmještanju pruge   \n",
       "12                                                                                                  tako da smatram da je to jedan ni po meni to je čak i najozbiljniji problem grada niše imam obećanje od ministra iz tih nekoliko razgovora i kojiko je to moguće projekte dokumentacije se trenutno radi i mislim da će biti   \n",
       "13                                                                                                       tok jese gotovo projekt na dokumentaciji znači počtiće se onda i sa obilaznicom željezničkog čkvora oko nišato su to na kraju kraja i programski ono što smo kao partija u predlizbenoj kampanji pričili evo pokušavamo   \n",
       "14                                                                 visćipih je sve to što ste zaprovjerili i da je završe što se dešava sa poslaničkom kancelarijom unišu je otvorena poslanička kancelarija međutim upravo narodni poslanik milonra stoši se žalio da ta kancelarija ne funkcionda poslanici o dobro ovog prvog   \n",
       "15                                                                                                                                             ne bi on je to čak lično radio kao nardeposlanik obezbedio j kadcelario mi svijamo ja imam toliko kadcelario kao predsjednik sucličke parktije da je stvaro neman potrebe da idem   \n",
       "16                                                                                                                         ovo svaku ko hoće vi znate da sellevstička partija radi svakog dana tako da ovisa pristal gdje mogu nači građani mene građani mogu nanađi u selističkoj partiji i dolaze građani dolaze ali ne toliko   \n",
       "17                                                                       obično su to neki sporovi koji ne mogu da rešu gradu mnišu a i treba neka pomoć kad j u pititi neko ministarstvo i onda pokušalno j to reši je se čak i nudio pojedinim firmama pojedinim građanima kada tako pričaju kad sdimo na obavezno da pomognem   \n",
       "18                                               da li su to putrske firme da li je to je elektronska mašnjinska da li je to zdravstvo nudio sam da te njihove probleme javno iznesen u skupštinu ako hverate nitko nije htedadoći ili neki ljudi od mojih kolega imaju neke jače vezi ili ne znam volje je to prijateljske veze   \n",
       "19                                                                                                                    ali eto meljnitko nije dao ni jedno pismo vidim čak neke ljude neke akcije koje smo mi nekada vodili kao socijalistčka partije sa to neke druge partijee ne vi dto nije korektno ljudima koji nisu prisuni   \n",
       "20                                                                                        ai već nekoliko teme bio u skupštini znači niške teme bne moramo o ljudima o idejama pa dobro mislim da možemo kad svi sedimo sad ja sam sedim ovdje mislim je bio kodr ali šta se dešava prema podacima se sadi otvoreni parlament na   \n",
       "21                                                                                                             vi ste samo jednom od početka mandata izašli za govornicu s kupštini srbije pa ja sam jednom izašao i to kada su u pitanju zakoni o željeznicia da baš uputum kao što sam rekao ono što je interesant a mislim da   \n",
       "22                                         to jeposle skoro godinu dana ešto je bilo 9. maja ove godine pa dobro ja sam negdje tek i setemro dobro postavljio nisam pr i niste bili ndaliko treba malo vreme pa d e mislim malo to poslavnička grupa siljezačke partije ja mogu na svaku temu u principu da diskute a smatram da   \n",
       "23                       nisam baš od onih plaćičnih srba koji smatrajo da sve zna da se razumiju u pravosuđe da se razujem u zdravstvo da se razumjem i jasam grizivinac po struci i smatram ono što je vezano za griževinu da tu trebamo svoj doprinos najmujed joče ali vidim pošto novinarii pojavljuje se to već i nekoliko   \n",
       "24                                                                                    put i u nekim novinama te a ne znam o ovoliko diskutt ja po meni tonema ikakve veze znate šta kad je neka opozicija do jučer je bio nakoji vlast i sada sve kritikuje sve kritiku ja razumjem ako ima čovjek da ponudi neko bolje rješenje   \n",
       "25                                              e vi znate ta ministarstvu il neko vlada da neko rješenje i u prilogu tog rješenja koju ponudite nešto bolje značilia vi mislim da su to bila najbolja anisam smatrao da su najbolja čak možda neka nisu ni po meni ni dobra ili su prebrzaza sve zakone ali pa dobro ja govorim   \n",
       "26                                                                                 agovorim svoje ime čak mislim da su neki prebrza mislim da u kratkom periodu nekoliko godina koliko ja pratim taj parlament iz nisam poštovan profesionalno obveze ne dozvoljavaju baš malo da gledam reviziju ali evo sada slušam uživot sam   \n",
       "27               smatram da neki zakoni prebrži idu ili po ne znam po jednom o dva puta se pojavljuju u proceduri mislim da evo na putu smo ulaska tu u eu iliriključit ćemo se a mislim da treba neke stvari sačekati pa kad jednom nešto radimo dajde e da ne radimo nešto po stoputa nego da ga jednom odradimo onako kako te   \n",
       "28                                                                                              kažete da ste previše imali obaveza pisalo se i u medijima je bilo dosta priče o tome da ste imali u jednom trenutku ste bili kako čak i južno vesu pisale manjeviše rekorder po broju funkcija javnih u istom trenutku ste bili   \n",
       "31                                                                                                                                                                                                                                                                nikako drugačijene bi moglu dasat ako gledamo iz ugla plaćanja   \n",
       "\n",
       "                                                                                                                                                                                                                                                                                                                               webpage_transcript  \\\n",
       "0                Nekoliko puta smo ponavljali da Niš od uvođenja višestranačja nijenikada imao veći broj poslanika u Skupštini Srbije. Razgovaramo sa Slavoljubom Vlajkovićem, narodnim poslanikom Socijalističke partije Srbije. Gospodine Vlajkoviću, kakav je vaš utisak, da li je Niš iskoristio to što ili koristi to što ima 12 poslanika -   \n",
       "1                                               - nikad više?’ Niti je iskoristio, niti će izgleda iskoristi priliku. Mislim da je to..  Šta je problem? Pa problem je u nama! Mislim da je problem u gradu, nije problem u narodnim poslanicima! Mi, jeste, predstavljamo svoje stranke! Mi nismo birani kao lica, mi smo ispred svojih stranaka   \n",
       "2                                                                                                                                   Vi znate da svaka stranka otprilike predloži 250 kandidata . Slučaj je tako hteo da smo svi bili na tim visokim brojevima, da smo ušli u parlament. Ali mislim da je problem narodnih poslanika ovde u gradu!   \n",
       "3                                                                                  gradu! Znači, grad uopšte nije organizovan i mi faktički u gradu nemamo ni jednu jedinu zajedničku želju koju bi trebalo da pokušamo bar da rešimo i da Skupštinu iskoristimo za bolji Niš i za bolje sutra.  Ali šta je problem? Zbog čega vi ne možete da se   \n",
       "4                                          ja jesam... Pa ima, ali ja kažem da bi trebalo grad da kaže, nisu to.. Ja mogu individualno, ali tako mogu u ime svoje partije...  Ali vi imate, Socijalistička partija ima najveći broj poslanika: tu ste vi, Zoran Radovanović i Ivana Dinić. Tako je! Pa, što se tiče nas socijalista, mislim da to   \n",
       "5           radimo perfektno! Ja ću vam reći, bar na one funkcije koje imamo... Na primer, Zoran Radovanović je direktor Kliničkog centra i mislim da posle... Evo, ja sam skoro slušao neke podatke, prvi klinički centar, inače bolnica je zidana, skoro 100 godina je prošlo, 80 godina, još u vreme kraljevine! I, evo, ovih dana treba da se   \n",
       "6                                                    se potpiše ugovor za izgradnju novog kliničkog centra! To je zasluga svih nas Nišlija, koji smo ispred Socijalističke partije. I od prvog trenutka, znači, ljudi koje je Socijalistička partija na određenim funkcijama postavila, mi svi zajedno radimo i pokušavamo da taj deo dovedemo do   \n",
       "7                                                             do kraja. Mislim da je to najveći uspeh. Eto, inače, to neće dobiti, novi klinički centar, ni Beograd, ni Novi Sad, što je jedinstveno nešto, mislim, zahvaljujući prvo i Zokiju Radovanoviću, na čelu te klinike, a i svih nas koji to podržavamo u razgovoru sa našim ministrom.    \n",
       "8                                                                        centar je, da kažem, jedna ustanova. Igrom slucaja je dr Radovanović na čelu te ustanove. Tako je.  Vi ste donedavno bili i direktor jednog lokalnog javnog preduzeća. Ali ono što vas pitam jeste, prvenstveno, šta ste vi uradili ili planirate da uradite kao narodni   \n",
       "9                                                                                                                                                                                    narodni poslanici? Znači, postoje tri poslanika SPS iz Niša, tu je još jedan, da kažem, iz koalicije okupljene oko vas. Govorim o gospodinu Miloradu Stošiču   \n",
       "10               iz PUPS-a. Da li tu postoji neki dogovor, da li se vi dogovarate, sednete jednom nedeljeno, mesečno, vas troje, četvoro, petoro, ili koliko vas, i da popričate šta bi mogli da radite, na primer? Kako to funkcioniše? Pa, ne! Mi se svakog dana viđamo! Znači, nema potrebe za neke posebne sastanke! Sedimo faktički jedan do   \n",
       "11                                                                                                                                                do drugog, tako da smo, što kažu, non - stop zajedno. Što se tiče Niša, još jedan cilj koji imamo zajedno, a to je ovaj železnički čvor! Znači, to pokušavamo, ja sam i javno tamo diskutovao o   \n",
       "12                                                                                          o izmeštanju pruge. Tako da smatram da je to jedan naj... Po meni, to je čak i najozbiljniji problem Grada Niša! Evo, imamo obećanje od ministra iz tih nekoliko razgovora, koliko je to moguće, projektna dokumentacija se trenutno radi i mislim da   \n",
       "13                                                                                                                                            projektna dokumentacija i znači, počeće se onda i sa obilaznicom, ovaj, železničkog čvora oko Niša. To je, na kraju krajeva, i programski, ono što smo kao partija u predizbornoj kampanji pričali!   \n",
       "14                                                                            mislim da ćemo sve to otprilke što smo zaplanirali i da završimo.  Šta se dešava sa poslaničkom kancelarijom? U Nišu je otvorena poslanička kancelarija. Međutim, upravo narodni poslanik Milorad Stošić se žalio da ta kancelrija ne funkcioniše i da poslanici...   \n",
       "15                                                                                                                                  dobro, on prvo.. ne bi... On je to, čovek, lično odradio, kao narodni poslanik, obezbedio kancelariju. Mi svi imamo, ja imam toliko kancelarija kao predsednik Socijalističke partije da stvarno nema potrebe   \n",
       "16                                                                                                         da idem! Svako ko hoće, vi znate da Socijalistička partija radi svakog dana, tako da uvek sam prisutan!  Gde mogu. znači, građani da vas nađu? Mene građani mogu da nađu u Socijalističkoj partiji.  I jel dolaze građani? Dolaze, ali   \n",
       "17                                                                    ali ne toliko. Obično su to neki sporovi koje ne mogu da reše u Gradu Nišu, pa im treba neka pomoć kad je u pitanju neko ministarstvo i onda pokušavamo da to rešimo. Ja sam čak i nudio pojedinim firmama, pojedinim građanima, kad tako pričaju kad sedimo neobavezno, da   \n",
       "18                                                          da pomognem.. Da li su to putarske firme, da li je to Elektronska, Mašinska, da li je to zdravstvo, nudio sam da te njihove probleme javno iznesem u Skupštinu. Ako mi verujete, niko nije hteo da dođe! Ili neki ljudi, od mojih kolega, imaju neke jače veze, ili ne znam, bolje te   \n",
       "19                                                                         te prijateljske veze, ali, eto, meni niko nije dao nijedno pismo! Vidim čak neke ljude, neke akcije koje smo mi nekad vodili, kao Socijalistička partija, sad to neke druge partije prisvajaju...  Na koje akcije mislite? E, ne bih da... To nije korektno! O ljudima   \n",
       "20                                                                                                                                 nisu prisutni... Ali već nekoliko tema je bilo u Skupštini! Znači, niške teme su bile...  Dobro, ne moramo o ljudima! O idejama! Pa, dobro.. Milsim da.. Ja kažem, možemo, kad svi sedimo, ali nemojte sad! Ja   \n",
       "21                                                                                                                                                                   sajta “Otvoreni parlament”, vi ste samo jednom od početka mandata izašli za govornicu u Skupštini Srbije? Pa, ja sam samo jednom izašao i to je kad su bili u pitanju... JV.   \n",
       "22     skoro godinu dana! Znači, to je bilo 9. maja ove godine! Pa, dobro, ja sam negde tek i postavljen u spetembur, oktobru... Nisam u prvom krugu!  Da! Vi niste bili na početku. Tako je. Trebalo je malo vremena! Pa, ne, mislim... ovo.. To je poslanička grupa Socijalističke partije... Ja mogu na svaku temu, u principu, da diskutujem.   \n",
       "23  diskutujem. Mada smatram da... Nisam baš od onih naših Srba koji smatraju da sve znaju, da se razumeju u pravosuđe, da se razumeju u zdravstvo, da se razumeju... Ja sam građevinac po struci i smatram, ono što je vezano za građevinu, da tu treba svoj doprinos najbolji da dam. Inače.. Ali, vidim, pošto novinari.. Pojavljuje se to već   \n",
       "24                                          već nekoliko puta i u nekim novinama, te, ne znam... “Ovaj je ovoliko diskutovao”.. Znate šta...  Jel ima to neke veze? Pa, ja... Po meni, to nema nikakve veze! Pa, znate šta, kad je neko opozicija, do juče je bio u nekoj vlasti, i sad sve kritikuje! Sve kritikuje! Ja razumem ako ima čovek da   \n",
       "25          ponudi neko bolje rešenje! Vi znate, tamo, neko ministarstvo, ili neka vlada da neko rešenje i u prilogu tog rešenja ako vi ponudite nešto bolje! Mislim da je to jedna politička...  Znači , vi niste imali! Ili mislite da su to bila najbolja rešenja? Ne! Ja nisam smatrao da su najboolja, čak možda neka nisu po meni ni dobra,   \n",
       "26                                                                                                        Pa, dobro. Ja govorim u svoje ime. Ja mislim da su neka čak i prebrza! Mislim da u kratkom periodu, nekoliko godina, koliko ja pratim taj parlamentarizam... Nisam, pošto mi profesionalne obaveze ne dozvoljavaju, baš mogao da gledam   \n",
       "27              evo sada slušam, uživo sam, smatram da neki zakoni prebrže idu ili po ne znam, jednom, dva puta se pojavljaju u proceduri! Milim da, evo, na putu smo ulaska i u tu Evropsku uniju, ili, priključićemo se... Ali mislim da neke stvari treba sačekati, pa kad jednom nešto radimo, daj da ne radimo nešto po 100 puta! Nego da ga   \n",
       "28                                                                                                            odradimo onako kako treba!  Kažete da ste previše imali obaveza. Pisalo se i u medijima je bilo dosta priča da ste imali, u jednom trenutku ste bili, čak i Južne vesti su pisale, manje - više, rekorder po broju funkcija javnih.   \n",
       "31                                                                                                                                                                                                                                                                                                                                                  \n",
       "\n",
       "                                                                                                                                                                                                                                                                                                                                                                        kaldi_transcript  \n",
       "0                                                        nekoliko puta smo ponavljali da niš od uvođenja višestranačja nijenikada imao veći broj poslanika u skupštini srbije razgovaramo sa slavoljubom vlajkovićem narodnim poslanikom socijalističke partije srbije gospodine vlajkoviću kakav je vaš utisak da li je niš iskoristio to što ili koristi to što ima dvanaest poslanika  \n",
       "1                                                                                     nikad više<\u0007nchor> niti je iskoristio niti će izgleda iskoristi priliku mislim da je topi šta je problem<\u0007nchor> pa problem je u nama mislim da je problem u gradu nije problem u narodnim poslanicima mi jeste predstavljamo svoje stranke mi nismo birani kao lica mi smo ispred svojih stranaka  \n",
       "2                                                                                                                                                                  vi znate da svaka stranka otprilike predloži dvijesto pedeset kandidata slučaj je tako hteo da smo svi bili na tim visokim brojevima da smo ušli u parlament ali mislim da je problem narodnih poslanika ovde u gradu  \n",
       "3                                                                                                                                  znači grad uopšte nije organizovan i mi faktički u gradu nemamo ni jednu jedinu zajedničku želju koju bi trebalo da pokušamo bar da rešimo i da skupštinu iskoristimo za bolji niš i za bolje sutrapi ali šta je problem zbog čega vi ne možete da se  \n",
       "4                                                                                  pa ima ali ja kažem da bi trebalo grad da kaže nisu to ja mogu individualno ali tako mogu u ime svoje partijepi ali vi imate socijalistička partija ima najveći broj poslanika tu ste vi zoran radovanović i ivana dinić<\u0007nchor> tako je pa što se tiče nas socijalista mislim da to radimo perfektno  \n",
       "5                                                                      ja ću vam reći bar na one funkcije koje imamo na primer zoran radovanović je direktor kliničkog centra i mislim da posle evo ja sam skoro slušao neke podatke prvi klinički centar inače bolnica je zidana skoro sto godina je prošlo osamdeset godina još u vreme kraljevine i evo ovih dana treba da se potpiše  \n",
       "6                                                                                                      ugovor za izgradnju novog kliničkog centra to je zasluga svih nas nišlija koji smo ispred socijalističke partije i od prvog trenutka znači ljudi koje je socijalistička partija na određenim funkcijama postavila mi svi zajedno radimo i pokušavamo da taj deo dovedemo do kraja  \n",
       "7                                                                                                                     mislim da je to najveći uspeh eto inače to neće dobiti novi klinički centar ni beograd ni novi sad što je jedinstveno nešto mislim zahvaljujući prvo i zokiju radovanoviću na čelu te klinike a i svih nas koji to podržavamo u razgovoru sa našim ministrom dobro  \n",
       "8                                                                                                   klinički centar je da kažem jedna ustanova igrom slucaja je dr radovanović na čelu te ustanove tako jepi vi ste donedavno bili i direktor jednog lokalnog javnog preduzeća ali ono što vas pitam jeste prvenstveno šta ste vi uradili ili planirate da uradite kao narodni poslanici  \n",
       "9                                                                                                                                                                                                                                          znači postoje tri poslanika sps iz niša tu je još jedan da kažem iz koalicije okupljene oko vas govorim o gospodinu miloradu stošiču iz pupsa  \n",
       "10                                                                  da li tu postoji neki dogovor da li se vi dogovarate sednete jednom nedeljeno mesečno vas troje četvoro petoro ili koliko vas i da popričate šta bi mogli da radite na primer kako to funkcioniše<\u0007nchor> pa ne mi se svakog dana viđamo znači nema potrebe za neke posebne sastanke sedimo faktički jedan do drugog  \n",
       "11                                                                                                                                                                                           tako da smo što kažu non stop zajedno što se tiče niša još jedan cilj koji imamo zajedno a to je ovaj železnički čvor znači to pokušavamo ja sam i javno tamo diskutovao o izmeštanju pruge  \n",
       "12                                                                                                                                                     tako da smatram da je to jedan naj po meni to je čak i najozbiljniji problem grada niša evo imamo obećanje od ministra iz tih nekoliko razgovora koliko je to moguće projektna dokumentacija se trenutno radi i mislim da će biti  \n",
       "13                                                                                                                                                  u toku jeseni biti gotova projektna dokumentacija i znači počeće se onda i sa obilaznicom ovaj železničkog čvora oko niša to je na kraju krajeva i programski ono što smo kao partija u predizbornoj kampanji pričali evo pokušavamo  \n",
       "14                                                                                              i mislim da ćemo sve to otprilke što smo zaplanirali i da završimopi šta se dešava sa poslaničkom kancelarijom u nišu je otvorena poslanička kancelarija međutim upravo narodni poslanik milorad stošić se žalio da ta kancelrija ne funkcioniše i da poslanici<\u0007nchor> pa dobro on prvo  \n",
       "15                                                                                                                                                                                           ne bi on je to čovek lično odradio kao narodni poslanik obezbedio kancelariju mi svi imamo ja imam toliko kancelarija kao predsednik socijalističke partije da stvarno nema potrebe da idem  \n",
       "16                                                                                                                                      svako ko hoće vi znate da socijalistička partija radi svakog dana tako da uvek sam prisutanpi gde mogu znači građani da vas nađu<\u0007nchor> mene građani mogu da nađu u socijalističkoj partijipi i jel dolaze građani<\u0007nchor> dolaze ali ne toliko  \n",
       "17                                                                                                                      obično su to neki sporovi koje ne mogu da reše u gradu nišu pa im treba neka pomoć kad je u pitanju neko ministarstvo i onda pokušavamo da to rešimo ja sam čak i nudio pojedinim firmama pojedinim građanima kad tako pričaju kad sedimo neobavezno da pomognem  \n",
       "18                                                                                                        da li su to putarske firme da li je to elektronska mašinska da li je to zdravstvo nudio sam da te njihove probleme javno iznesem u skupštinu ako mi verujete niko nije hteo da dođe ili neki ljudi od mojih kolega imaju neke jače veze ili ne znam bolje te prijateljske veze  \n",
       "19                                                                                                                         ali eto meni niko nije dao nijedno pismo vidim čak neke ljude neke akcije koje smo mi nekad vodili kao socijalistička partija sad to neke druge partije prisvajajupi na koje akcije mislite<\u0007nchor> e ne bih da to nije korektno o ljudima koji nisu prisutni  \n",
       "20                                                                           ali već nekoliko tema je bilo u skupštini znači niške teme su bilepi dobro ne moramo o ljudima o idejama<\u0007nchor> pa dobro milsim da ja kažem možemo kad svi sedimo ali nemojte sad ja sam sedim ovde i mislim da ne bi bilo korektno alipi dobro a šta se dešava prema podacima sa sajta otvoreni parlament  \n",
       "21                                                                                                                                              vi ste samo jednom od početka mandata izašli za govornicu u skupštini srbije<\u0007nchor> pa ja sam samo jednom izašao i to je kad su bili u pitanjupi jv zakoni o železnici ovde piše<\u0007nchor> da da baš o putevima baš kao što sam rekao ono  \n",
       "22                                                           to je bilo devet maja ove godine<\u0007nchor> pa dobro ja sam negde tek i postavljen u spetembur oktobru nisam u prvom krugupi da vi niste bili na početku<\u0007nchor> tako je trebalo je malo vremena pa ne mislim ovo to je poslanička grupa socijalističke partije ja mogu na svaku temu u principu da diskutujem mada smatram da  \n",
       "23                                                                              nisam baš od onih naših srba koji smatraju da sve znaju da se razumeju u pravosuđe da se razumeju u zdravstvo da se razumeju ja sam građevinac po struci i smatram ono što je vezano za građevinu da tu treba svoj doprinos najbolji da dam inače ali vidim pošto novinari pojavljuje se to već nekoliko  \n",
       "24                                                                                         i u nekim novinama te ne znam ovaj je ovoliko diskutovao znate štapi jel ima to neke veze<\u0007nchor> pa ja po meni to nema nikakve veze pa znate šta kad je neko opozicija do juče je bio u nekoj vlasti i sad sve kritikuje sve kritikuje ja razumem ako ima čovek da ponudi neko bolje rešenje  \n",
       "25  vi znate tamo neko ministarstvo ili neka vlada da neko rešenje i u prilogu tog rešenja ako vi ponudite nešto bolje mislim da je to jedna političkapi znači vi niste imali ili mislite da su to bila najbolja rešenja<\u0007nchor> ne ja nisam smatrao da su najboolja čak možda neka nisu po meni ni dobra ili su prebrza alipi ali glasali ste za sve zakone<\u0007nchor> pa dobro ja govorim  \n",
       "26                                                                                                                                      u svoje ime ja mislim da su neka čak i prebrza mislim da u kratkom periodu nekoliko godina koliko ja pratim taj parlamentarizam nisam pošto mi profesionalne obaveze ne dozvoljavaju baš mogao da gledam televiziju al evo sada slušam uživo sam  \n",
       "27                                                                   smatram da neki zakoni prebrže idu ili po ne znam jednom dva puta se pojavljaju u proceduri milim da evo na putu smo ulaska i u tu evropsku uniju ili priključićemo se ali mislim da neke stvari treba sačekati pa kad jednom nešto radimo daj da ne radimo nešto po sto puta nego da ga jednom odradimo onako kako  \n",
       "28                                                                                                                                                             kažete da ste previše imali obaveza pisalo se i u medijima je bilo dosta priča da ste imali u jednom trenutku ste bili čak i južne vesti su pisale manje više rekorder po broju funkcija javnih u istom trenutku ste bili  \n",
       "31                                                                                                                                                                                                                                                                                                         nikako drugačije ne bih mogao da shvatimpi to je ako gledamo iz ugla plaćanja  "
      ]
     },
     "execution_count": 37,
     "metadata": {},
     "output_type": "execute_result"
    }
   ],
   "source": [
    "filtered_df[['file', 'asr_transcription', \"webpage_transcript\",'kaldi_transcript']].head(30)"
   ]
  },
  {
   "cell_type": "code",
   "execution_count": 38,
   "metadata": {},
   "outputs": [
    {
     "data": {
      "text/plain": [
       "(Index(['path', 'guest_name', 'guest_description', 'host'], dtype='object'),\n",
       " Index(['file', 'start', 'end', 'asr_transcription', 'webpage_transcript',\n",
       "        'ratio', 'text', 'kaldi_transcript', 'kaldi_words', 'kaldi_word_starts',\n",
       "        'kaldi_word_ends', 'segment_file'],\n",
       "       dtype='object'))"
      ]
     },
     "execution_count": 38,
     "metadata": {},
     "output_type": "execute_result"
    }
   ],
   "source": [
    "corpus = pd.read_json(\"020_JV_with_metadata.jsonl\", orient=\"records\", lines=True)\n",
    "corpus = corpus[\"path guest_name guest_description host\".split()]\n",
    "corpus.columns, filtered_df.columns"
   ]
  },
  {
   "cell_type": "code",
   "execution_count": 39,
   "metadata": {},
   "outputs": [],
   "source": [
    "merged_df = pd.merge(\n",
    "    left=filtered_df,\n",
    "    right = corpus,\n",
    "    how = \"left\",\n",
    "    left_on=\"file\",\n",
    "    right_on=\"path\"\n",
    ")\n",
    "\n",
    "merged_df = merged_df[\"file start end asr_transcription kaldi_transcript guest_name guest_description host kaldi_words kaldi_word_starts kaldi_word_ends segment_file\".split()]"
   ]
  },
  {
   "cell_type": "code",
   "execution_count": 27,
   "metadata": {},
   "outputs": [],
   "source": [
    "merged_df.to_json(\"021_JV_segments_with_metadata.jsonl\", orient=\"records\", lines=True)"
   ]
  },
  {
   "cell_type": "code",
   "execution_count": null,
   "metadata": {},
   "outputs": [],
   "source": []
  }
 ],
 "metadata": {
  "kernelspec": {
   "display_name": "Python 3.9.7 ('base')",
   "language": "python",
   "name": "python3"
  },
  "language_info": {
   "codemirror_mode": {
    "name": "ipython",
    "version": 3
   },
   "file_extension": ".py",
   "mimetype": "text/x-python",
   "name": "python",
   "nbconvert_exporter": "python",
   "pygments_lexer": "ipython3",
   "version": "3.9.7"
  },
  "orig_nbformat": 4,
  "vscode": {
   "interpreter": {
    "hash": "2d30c88cb7145d662123f76f8c64609bc18e52940d2861adec2407b68f2e334f"
   }
  }
 },
 "nbformat": 4,
 "nbformat_minor": 2
}
