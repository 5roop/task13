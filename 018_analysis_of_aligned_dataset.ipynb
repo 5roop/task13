{
 "cells": [
  {
   "cell_type": "code",
   "execution_count": 4,
   "metadata": {},
   "outputs": [],
   "source": [
    "import pandas as pd\n",
    "pd.set_option('max_colwidth', 1000)\n",
    "df = pd.read_json(\"017_after_kaldi.jsonl\", lines = True)\n"
   ]
  },
  {
   "cell_type": "code",
   "execution_count": 5,
   "metadata": {},
   "outputs": [
    {
     "data": {
      "text/plain": [
       "Index(['file', 'start', 'end', 'asr_transcription', 'webpage_transcript',\n",
       "       'ratio', 'text', 'kaldi_transcript', 'kaldi_words', 'kaldi_word_starts',\n",
       "       'kaldi_word_ends'],\n",
       "      dtype='object')"
      ]
     },
     "execution_count": 5,
     "metadata": {},
     "output_type": "execute_result"
    }
   ],
   "source": [
    "df.columns"
   ]
  },
  {
   "cell_type": "code",
   "execution_count": 9,
   "metadata": {},
   "outputs": [
    {
     "data": {
      "text/plain": [
       "0.15744269037682213"
      ]
     },
     "execution_count": 9,
     "metadata": {},
     "output_type": "execute_result"
    }
   ],
   "source": [
    "df[df.kaldi_transcript == \"\"].shape[0] / df.shape[0]"
   ]
  },
  {
   "cell_type": "markdown",
   "metadata": {},
   "source": [
    "We have 15% of instances where Kaldi could not find transcriptions"
   ]
  },
  {
   "cell_type": "code",
   "execution_count": 10,
   "metadata": {},
   "outputs": [
    {
     "data": {
      "text/plain": [
       "68.06911111111111"
      ]
     },
     "execution_count": 10,
     "metadata": {},
     "output_type": "execute_result"
    }
   ],
   "source": [
    "c = df[df.kaldi_transcript != \"\"]\n",
    "(c.end - c.start ).sum()/60**2\n"
   ]
  },
  {
   "cell_type": "markdown",
   "metadata": {},
   "source": [
    "The remaining parts make up for 68 hours of data. Let us see how the transcriptions look like and if they are stable:"
   ]
  },
  {
   "cell_type": "code",
   "execution_count": 44,
   "metadata": {},
   "outputs": [
    {
     "data": {
      "text/html": [
       "<div>\n",
       "<style scoped>\n",
       "    .dataframe tbody tr th:only-of-type {\n",
       "        vertical-align: middle;\n",
       "    }\n",
       "\n",
       "    .dataframe tbody tr th {\n",
       "        vertical-align: top;\n",
       "    }\n",
       "\n",
       "    .dataframe thead th {\n",
       "        text-align: right;\n",
       "    }\n",
       "</style>\n",
       "<table border=\"1\" class=\"dataframe\">\n",
       "  <thead>\n",
       "    <tr style=\"text-align: right;\">\n",
       "      <th></th>\n",
       "      <th>file</th>\n",
       "      <th>asr_transcription</th>\n",
       "      <th>kaldi_transcript</th>\n",
       "    </tr>\n",
       "  </thead>\n",
       "  <tbody>\n",
       "    <tr>\n",
       "      <th>2450</th>\n",
       "      <td>audio/lKMA0UZrmEs.wav</td>\n",
       "      <td>možda smo čak jedini festivali koji 90 programa ili 95 čak iz prethodne godine ne ponovi a li se dogodilo da ostanemo uskraćeni za neka velika imena zbog nedostatka o jest jeste to se konstantno dešava ibismo ona primjer gledali ide dobijate više stvar</td>\n",
       "      <td>smo jedini festival koji devedeset posto programa ili devedeset pet posto iz prethodne godine ne ponovi da li se dogodi da budemo uskraćeni za neka velika imena zbog nedostatka novca jeste to se konstantno dešava koga bismo gledali da dobijete više para</td>\n",
       "    </tr>\n",
       "    <tr>\n",
       "      <th>11697</th>\n",
       "      <td>audio/_BzZf0fGg0E.wav</td>\n",
       "      <td>u osopas biloriji ef gering načilog jas osao fanse ozeboižondj ju apas beloriji nealdet sipersmstsignifikannačilog jasta etskostih kameing navaj</td>\n",
       "      <td></td>\n",
       "    </tr>\n",
       "    <tr>\n",
       "      <th>137</th>\n",
       "      <td>audio/2QShGnPuVjQ.wav</td>\n",
       "      <td>ovdje unišću i rezultat ti svih tih rasprava jeste jedan set tri</td>\n",
       "      <td>nišu i rezultat svih tih rasprava je jedan set tri</td>\n",
       "    </tr>\n",
       "    <tr>\n",
       "      <th>13077</th>\n",
       "      <td>audio/ggDpDyETtfk.wav</td>\n",
       "      <td>od 2004. godine je predsjednik opšteniška banja a predao je i listu sa svojim koalicijnim partnerima za predstojeće izbore</td>\n",
       "      <td>od dvije tisuće četiri je predsednik opštine niška banja a predao je i listu sa svojim koalicionim partnerima za predstojeće izbore</td>\n",
       "    </tr>\n",
       "    <tr>\n",
       "      <th>4943</th>\n",
       "      <td>audio/Vr6VEkG50qE.wav</td>\n",
       "      <td>al mi i dalje zagovaramo to kao preventivna mjera i ono što nam se dopada da ovdje u srbiji je aktualno taj marijev zakon da nateramo narodne izabranike da i to prihvate</td>\n",
       "      <td>mi i dalje zagovaramo to kao preventivna mera i ono što nam se dopada da je ovde u srbiji aktuelno taj marijin zakon da nateramo narodne izabranike da i to prihvate</td>\n",
       "    </tr>\n",
       "  </tbody>\n",
       "</table>\n",
       "</div>"
      ],
      "text/plain": [
       "                        file  \\\n",
       "2450   audio/lKMA0UZrmEs.wav   \n",
       "11697  audio/_BzZf0fGg0E.wav   \n",
       "137    audio/2QShGnPuVjQ.wav   \n",
       "13077  audio/ggDpDyETtfk.wav   \n",
       "4943   audio/Vr6VEkG50qE.wav   \n",
       "\n",
       "                                                                                                                                                                                                                                                  asr_transcription  \\\n",
       "2450   možda smo čak jedini festivali koji 90 programa ili 95 čak iz prethodne godine ne ponovi a li se dogodilo da ostanemo uskraćeni za neka velika imena zbog nedostatka o jest jeste to se konstantno dešava ibismo ona primjer gledali ide dobijate više stvar   \n",
       "11697                                                                                                              u osopas biloriji ef gering načilog jas osao fanse ozeboižondj ju apas beloriji nealdet sipersmstsignifikannačilog jasta etskostih kameing navaj   \n",
       "137                                                                                                                                                                                                ovdje unišću i rezultat ti svih tih rasprava jeste jedan set tri   \n",
       "13077                                                                                                                                    od 2004. godine je predsjednik opšteniška banja a predao je i listu sa svojim koalicijnim partnerima za predstojeće izbore   \n",
       "4943                                                                                      al mi i dalje zagovaramo to kao preventivna mjera i ono što nam se dopada da ovdje u srbiji je aktualno taj marijev zakon da nateramo narodne izabranike da i to prihvate   \n",
       "\n",
       "                                                                                                                                                                                                                                                    kaldi_transcript  \n",
       "2450   smo jedini festival koji devedeset posto programa ili devedeset pet posto iz prethodne godine ne ponovi da li se dogodi da budemo uskraćeni za neka velika imena zbog nedostatka novca jeste to se konstantno dešava koga bismo gledali da dobijete više para  \n",
       "11697                                                                                                                                                                                                                                                                 \n",
       "137                                                                                                                                                                                                               nišu i rezultat svih tih rasprava je jedan set tri  \n",
       "13077                                                                                                                            od dvije tisuće četiri je predsednik opštine niška banja a predao je i listu sa svojim koalicionim partnerima za predstojeće izbore  \n",
       "4943                                                                                            mi i dalje zagovaramo to kao preventivna mera i ono što nam se dopada da je ovde u srbiji aktuelno taj marijin zakon da nateramo narodne izabranike da i to prihvate  "
      ]
     },
     "execution_count": 44,
     "metadata": {},
     "output_type": "execute_result"
    }
   ],
   "source": [
    "df[[\"file\",\"asr_transcription\", \"kaldi_transcript\"]].sample(5)\n"
   ]
  },
  {
   "cell_type": "markdown",
   "metadata": {},
   "source": [
    "Let's check if any files are missing:"
   ]
  },
  {
   "cell_type": "code",
   "execution_count": 29,
   "metadata": {},
   "outputs": [],
   "source": [
    "df[\"segment_file\"] = df.apply(lambda row:\n",
    "    row[\"file\"].replace(\".wav\", \"\").replace(\"audio\", \"seg_audio\") + f'__{row[\"start\"]:.1f}__{row[\"end\"]:.1f}__.wav',\n",
    "    axis=1\n",
    ")\n",
    "\n",
    "for file in df.segment_file:\n",
    "    from pathlib import Path\n",
    "    p = Path(file)\n",
    "    if not p.exists():\n",
    "        print(\"Segment\", p, \"does not exist!\")\n",
    "\n"
   ]
  },
  {
   "cell_type": "markdown",
   "metadata": {},
   "source": [
    "Optional step:\n",
    "\n",
    "delete rows where we have empty kaldi outputs and delete corresponding audio files:"
   ]
  },
  {
   "cell_type": "code",
   "execution_count": 42,
   "metadata": {},
   "outputs": [],
   "source": [
    "filtered_df = df[df.kaldi_transcript != \"\"]\n",
    "\n",
    "loc = Path(\"seg_audio\")\n",
    "for segmentfile in loc.glob(\"*.wav\"):\n",
    "    if str(segmentfile) not in filtered_df[\"segment_file\"]:\n",
    "        # segmentfile.unlink()\n",
    "        continue"
   ]
  },
  {
   "cell_type": "markdown",
   "metadata": {},
   "source": [
    "Let's transform the string representations into something more pythonic:"
   ]
  },
  {
   "cell_type": "code",
   "execution_count": 39,
   "metadata": {},
   "outputs": [
    {
     "name": "stderr",
     "output_type": "stream",
     "text": [
      "/home/rupnik/anaconda3/lib/python3.9/site-packages/pandas/core/indexing.py:1773: SettingWithCopyWarning: \n",
      "A value is trying to be set on a copy of a slice from a DataFrame.\n",
      "Try using .loc[row_indexer,col_indexer] = value instead\n",
      "\n",
      "See the caveats in the documentation: https://pandas.pydata.org/pandas-docs/stable/user_guide/indexing.html#returning-a-view-versus-a-copy\n",
      "  self._setitem_single_column(ilocs[0], value, pi)\n"
     ]
    }
   ],
   "source": [
    "from ast import literal_eval\n",
    "\n",
    "filtered_df.loc[:, \"kaldi_words\"] = filtered_df.kaldi_words.apply(literal_eval)\n",
    "filtered_df.loc[:, \"kaldi_word_ends\"] = filtered_df.kaldi_word_ends.apply(literal_eval)\n",
    "filtered_df.loc[:, \"kaldi_word_starts\"] = filtered_df.kaldi_word_starts.apply(literal_eval)\n"
   ]
  },
  {
   "cell_type": "code",
   "execution_count": 41,
   "metadata": {},
   "outputs": [],
   "source": [
    "filtered_df.to_json(\"018_juzne_vesti.jsonl\", lines=True, orient=\"records\")"
   ]
  },
  {
   "cell_type": "code",
   "execution_count": null,
   "metadata": {},
   "outputs": [],
   "source": []
  }
 ],
 "metadata": {
  "kernelspec": {
   "display_name": "Python 3.9.7 ('base')",
   "language": "python",
   "name": "python3"
  },
  "language_info": {
   "codemirror_mode": {
    "name": "ipython",
    "version": 3
   },
   "file_extension": ".py",
   "mimetype": "text/x-python",
   "name": "python",
   "nbconvert_exporter": "python",
   "pygments_lexer": "ipython3",
   "version": "3.9.7"
  },
  "orig_nbformat": 4,
  "vscode": {
   "interpreter": {
    "hash": "2d30c88cb7145d662123f76f8c64609bc18e52940d2861adec2407b68f2e334f"
   }
  }
 },
 "nbformat": 4,
 "nbformat_minor": 2
}
