{
 "cells": [
  {
   "cell_type": "code",
   "execution_count": 2,
   "metadata": {},
   "outputs": [
    {
     "name": "stdout",
     "output_type": "stream",
     "text": [
      "|       | path                                                                 | sentence                                                                                                                                                                                                                                                            | words                                                                                                                                                                                                                                                                           |\n",
      "|------:|:---------------------------------------------------------------------|:--------------------------------------------------------------------------------------------------------------------------------------------------------------------------------------------------------------------------------------------------------------------|:--------------------------------------------------------------------------------------------------------------------------------------------------------------------------------------------------------------------------------------------------------------------------------|\n",
      "| 10698 | {'path': 'seg_audio/c5ygcUCiICU__792.0__810.5__.wav', 'bytes': None} | za izlazak srbije iz krize 2006 dok ste bili ambasador u švedskoj vi ste bili protivnik tada formirane lokalne koalicije u nišu koalicije koja je tada podržala smiljka kostića                                                                                     | za izlak srbije iz krize [unk][unk]ne dok ste bili ambasador u švedskoj vi ste bili ar sudeći ponovinskim tekstovia iz tog perioda protivnik tada formirane lokalne koalicije u nišu koalicija koja je podržala smiljka kostića                                                 |\n",
      "|  9607 | {'path': 'seg_audio/xAKv5HWlSCc__921.5__932.4__.wav', 'bytes': None} | da li sarađuju sa ovim ili sarađuju sa ljudima iz raznih partija ali se nikada nisu uvlačili nekome i imaju dovoljno obraza da im kažu sve u lice                                                                                                                   | da li sarađuju sa ovima sarađuju sa sa ljudima iz raznih partijaa nikada se nisu uvlačili nekome i imaju dovoljno obraza da im kažu se ulice                                                                                                                                    |\n",
      "|  9904 | {'path': 'seg_audio/G5xfUbtKN4E__613.5__630.8__.wav', 'bytes': None} | nakon toga smo vrlo brzo formirali koaliciju i 5jula smo zajedno sa spsom napravili vladajuću koaliciju nakon šest meseci tamo je ušao urs ali se urs nije mešao u onaj politički deo a mi smo zadržali sve one funkcije koje se tiču vođenja grada                 | nakon toga smo vrlo brzo formirali koaliciju i [unk] jula smo zajedno sa spsom napravili vladajuću koaliciju nakon š[unk]es meseci i tamo ušao urs ali se uras nije mešao oni politički deo a mi smo zadržali svoje funkcije koje se tiču vođenja grada                         |\n",
      "| 10619 | {'path': 'seg_audio/MoDtqewe5ec__285.3__297.0__.wav', 'bytes': None} | ne nazvati političkim pokretom već pokretom za opstanak pokretom za ravnopravnost za opstanak života u ovom delu srbije samo kada pogledate                                                                                                                         | to ne nazvati političkim pokretom već pokretom za stanak pokretom za ravnopravnost za opstanak života u ovom delu srbije samo kada pogledate                                                                                                                                    |\n",
      "|  9241 | {'path': 'seg_audio/Qw4cvVpWLzQ__850.0__868.5__.wav', 'bytes': None} | to nije od juče to traje bar nekoliko vekova i građani se naravno neće boriti protiv korupcije jer je korupcija način da se prečicom mimo zakona na nelegalan način završe neki poslovi                                                                             | što nije od juče to traje marem nekoliko vekova i građani se naravno neće boriti protiv korupcije jer je korupcija način da se prečicomm mimo zakona na nelegalan način završe neki p                                                                                           |\n",
      "|  9064 | {'path': 'seg_audio/8szK0RCfaqc__264.0__281.1__.wav', 'bytes': None} | potraga za smislom je univerzalno stanje duha kada je u pitanju geografija na kojoj mi živimo pa možda globalna pošast                                                                                                                                              | i potraga za smislom je dana neko univerzalno stanje duha kada je u pitanju geografija geografije na kojima živimo pa možda i neka globalna pošastil                                                                                                                            |\n",
      "|  9996 | {'path': 'seg_audio/35nuTEFSub4__398.0__411.4__.wav', 'bytes': None} | u gradskom prevozu cena prevoza se izračunava po broju izmena putnika u poluturi ili turi zato se i vrše ta snimanja da bi se odredila cena i da bi se odredio red vožnje                                                                                           | gradskom prevou cena prevoza se izračunava po broju izmena putnika u polu uri turi zato se ivrše ta snimanja da bi odredila cena i da bi se odredio redvožni drugo da vam kažem                                                                                                 |\n",
      "|  9363 | {'path': 'seg_audio/akVJcU0gZ7A__144.4__163.3__.wav', 'bytes': None} | radi se edukacija u školama radi se na fakultetima dostupne su infomracije na internetu i putem drugih medija ali strah uvek postoji kada se indirektno govori o prisutnosti                                                                                        | radi se edukaciju u školama radi se na fakultetima dostupne su informacije na internetu i putem različiti drugih medija ali strah uvek postoji kada se indirekto govori o prisutnosti nek                                                                                       |\n",
      "|  8660 | {'path': 'seg_audio/iJfEJ4J96AA__661.3__678.0__.wav', 'bytes': None} | postoji inicijativa da se napravi i vi ste na sve te pozive odgovorili sa ne naravno u kampanji sam poginuo evo ih moji bilbordovi govore da am ja punim srcem ja ne znam da glumim u politici                                                                      | žele da ljudi daviu inicijativu da sam a paa vi ste na svete pozivo odgovorili sa ne u kampanji sam poginuo daih moji bilbordovi govre dobro da sam ja punim srcem i ja neznam da glumim u politici                                                                             |\n",
      "|  8741 | {'path': 'seg_audio/2M67cGfKGMQ__722.9__737.6__.wav', 'bytes': None} | svakom građaninu republike srbije garantuje pravo na rad ja ću vas podsetiti da su i mediji bili udaljeni iako je javnost zagarantovana u tom postupku zašto ste vi tog dana oni vama konkretno zameraju što ste ušli početkom oktobra u zgradu suda zašto ste tada | koji svakom građanu repuisrbije garantuju pravo na rad ja ću vas podsetiti da su i mediji bili udaljeniakoje javnosti zagarantovani u tom postupku zašto ste vi tog dana oni vama knreno zameraju to što ste ušli početkom oktobra uzgradu suda zašto ste tada ušli uzgrau suda |\n"
     ]
    }
   ],
   "source": [
    "import pandas as pd\n",
    "pd.set_option(\"display.max_colwidth\", None)\n",
    "df = pd.read_json(\"028_JV_transcripts.jsonl\", orient=\"records\", lines=True)\n",
    "\n",
    "df = df[df.split!=\"train\"]\n",
    "print(df[[\"path\", \"sentence\", \"words\"]].sample(10).to_markdown())"
   ]
  },
  {
   "cell_type": "code",
   "execution_count": 3,
   "metadata": {},
   "outputs": [
    {
     "name": "stdout",
     "output_type": "stream",
     "text": [
      "|       | path                                                                 | sentence                                                                                                                                                                                                                                                                                                                      | words                                                                                                                                                                                                                                                                                                                    |\n",
      "|------:|:---------------------------------------------------------------------|:------------------------------------------------------------------------------------------------------------------------------------------------------------------------------------------------------------------------------------------------------------------------------------------------------------------------------|:-------------------------------------------------------------------------------------------------------------------------------------------------------------------------------------------------------------------------------------------------------------------------------------------------------------------------|\n",
      "|  9883 | {'path': 'seg_audio/O3Q4wXUmkE8__114.7__134.4__.wav', 'bytes': None} | kada odu sa vlasti oni koji su ih štitili tih posledica onda se na njih sruči barem deo tog represivnog sistema videli smo da je oa vlada hapsila neke prethodne ministre i garniture ali optužnice su sve vrlo kilave i one su se na kraju krajeva završile niučemu                                                          | kada odu sa vlasti oni koji su ih štitili od tih posledica na njih se sruči barem deo tog represivnog sistema mi smo videli da j ova vlada hapsila neke ministre prethodne garniturem ai optižnici su sve vrlo kilove i one su se na kraju krajeva završili ni očemu                                                     |\n",
      "|  8740 | {'path': 'seg_audio/LgvNB8AZTOs__724.8__732.0__.wav', 'bytes': None} | neznam čija je ideja bila ali na relaciji kojić perišić neko od njih predložio i neko on njih realizovao verovatno zajedno                                                                                                                                                                                                    | neznam čije ideja bila ali na relaciji kojić perišić neko predložio i neko od njih realizovao vratnu zajedno                                                                                                                                                                                                             |\n",
      "|  9759 | {'path': 'seg_audio/uhkvDjr02W4__975.8__994.2__.wav', 'bytes': None} | je da imamo jednu jedinicu da li će se ona zvati žandarmerija ili specijalne protivterorističke jedinice sasvim je sve jedno a sledi nam i donošenje zakona o policiji mislim da će taj zakon urediti mnoge stvari što se tiče specijalnih jedinica u                                                                         | je dovoljno da imamo jednu jedinicućna zvai žandarmerije ili specijalni protiv terovtilke jedinice sasimjem se jedno mislim da će u danima pred nama a stedinam i donošenja zakona zakona o policiji mislim da će taj zakon urediti mnoge stvari pa i poslojedije specijalnih jediica                                    |\n",
      "|  8725 | {'path': 'seg_audio/BQKFOc-XxPM__192.6__209.0__.wav', 'bytes': None} | ona otprilike negde 60 60 i nešto bodova nosi prilikom konkurisanja za te uslove i ukoliko postignemo manju cenu lekova automatski procenat participacije za one lekova koji se                                                                                                                                               | ona otprilike jo 60 ih 60ti net poroo bodova i moiji prilikom konkurisanjanači za te uslove i ukoliko postignemo manju cenu lekovaa i automatski procentar participacija za one lekove koji se plaćaju biće manja                                                                                                        |\n",
      "| 10287 | {'path': 'seg_audio/6Oc_ImVLrFE__487.5__505.6__.wav', 'bytes': None} | koliko političke stranke igraju ulogu u svemu tome a onda i pitanje ko finansira te političke stranke ko tu zapravo ostvaruje uticaj da li postoji možda i neka povratna sprega između nekih jačih da ih nazovemo medijskih magnata i političara ali da li to što su uslovno rečeno mediji                                    | koliko političke stranke igraju ulogu svemu tome a onda kako se finansiraju te političke stranke ko tu zir stvaraju e uticaj da li tu postoji i povratna sprega između možda nekih jačih medijskih da nazovemo magnata i političara ali to što su uslovno rečeno mediji                                                  |\n",
      "| 10202 | {'path': 'seg_audio/R3GS-daFeeo__543.4__559.9__.wav', 'bytes': None} | vrli profesor radmilo teodosijević emeritus na univerzitetu u novom sadu koji je isto tako isključen iz stranke a bio je predsednik opštinskog odbora za našu stranku i pre i posle kaže žao mi je ali ona mi liči na sabirni centar političkog otpada u                                                                      | vrli profesor radbilto dosijević meri univerzitetu u snovom sadu koji je takođe isključen iz stranke bio je predsednik opštinskog odbora za našu stranku i prei posle kaže žao mi je ali ona me liči na sabirni centar političkog otpada                                                                                 |\n",
      "|  9965 | {'path': 'seg_audio/gTtgkiYzYeA__100.7__114.5__.wav', 'bytes': None} | postojeća deponija u sadašnjem da kažem obliku i obimu ona ima polja s1 s2 i s3 i i polje s4 koje je trenutno u funkciji odnosno eksploataciji ukoliko                                                                                                                                                                        | postojeća deponija u sadašnjem a kažem obliku i obimu ona ima polja je 12 1 3 i polje ses čer koje je trenutno u funkciji odnosno eksplataciji ukoliko                                                                                                                                                                   |\n",
      "| 10182 | {'path': 'seg_audio/XHKeG0bWglQ__747.1__767.1__.wav', 'bytes': None} | morate da znate vranje je vrlo kao i niš i pirot i leskovac to su onih 5 nahija oslobođenih u srpsko turskim ratovima to si čorbađijske mahale to su čorbađijske naravim to je poseban mentalitet i sklop ljudi koji funkcioniše na različitim razinama morate da znate šta je bitno i važno za funkcionisanje tih sredina ne | morate da znate vranje vrlo koji niš i pirot i leskovac tu su onih 5e nahija oslobođenih u srpskoturskim ratovima to su čurbadžijske mahale to su čurbadžijske naravi to je poseban mentalitet i slop ljudi koji funkcioniše na različitim razinama i morate da znate ššta je bitno i važno za funkionisanje tih sredina |\n",
      "|  9538 | {'path': 'seg_audio/ao2BlYF0sWo__874.2__893.2__.wav', 'bytes': None} | mislim da dobar deo njih zna znaju čak i oni koji su ljubitelji partije na vlasti i njihovog vođe ali to neće da priznaju mislim da većina ljudi to zna ali                                                                                                                                                                   | mislim da dobar deo njih zna znaju čak i oni koji su ljubitelji partijena vlasti i ovog njihovog vođe samo toni neće da priznaju mislim da većina ljudi to zna ali                                                                                                                                                       |\n",
      "| 10596 | {'path': 'seg_audio/G5xfUbtKN4E__739.5__753.3__.wav', 'bytes': None} | stranka u gradu međutim taj rast rejtinga nećemo da zloupotrebljavamo mi smo prošle godine dobili taj broj glasova na osnovu kojih smo ušli u koaliciju i taj odnos je 60 40 u korist spsa naravno                                                                                                                            | stranka u gradu međutim taj raste rejtinga nećemo ma t zboupotrebljavamo mi smo prošlij godine dobili taj broj glasova na onosnovu kojih smo ušli u koaliciju taj odnos je 60remar 0 u korist spsa naravno                                                                                                               |\n"
     ]
    }
   ],
   "source": [
    "import pandas as pd\n",
    "pd.set_option(\"display.max_colwidth\", None)\n",
    "df = pd.read_json(\"029_JV_transcripts_20_epochs.jsonl\", orient=\"records\", lines=True)\n",
    "\n",
    "df = df[df.split!=\"train\"]\n",
    "print(df[[\"path\", \"sentence\", \"words\"]].sample(10).to_markdown())"
   ]
  },
  {
   "cell_type": "code",
   "execution_count": 4,
   "metadata": {},
   "outputs": [
    {
     "data": {
      "text/html": [
       "<div>\n",
       "<style scoped>\n",
       "    .dataframe tbody tr th:only-of-type {\n",
       "        vertical-align: middle;\n",
       "    }\n",
       "\n",
       "    .dataframe tbody tr th {\n",
       "        vertical-align: top;\n",
       "    }\n",
       "\n",
       "    .dataframe thead th {\n",
       "        text-align: right;\n",
       "    }\n",
       "</style>\n",
       "<table border=\"1\" class=\"dataframe\">\n",
       "  <thead>\n",
       "    <tr style=\"text-align: right;\">\n",
       "      <th></th>\n",
       "      <th>path</th>\n",
       "      <th>sentence</th>\n",
       "      <th>words</th>\n",
       "    </tr>\n",
       "  </thead>\n",
       "  <tbody>\n",
       "    <tr>\n",
       "      <th>9517</th>\n",
       "      <td>{'path': 'seg_audio/LgvNB8AZTOs__732.0__751.5__.wav', 'bytes': None}</td>\n",
       "      <td>i da su oni na taj način tvrdim ukrali pare elektronaca jer pare su strogo namenski zna se gde se nalaze i zna se po zakonu o privatizaciji na šta mogu da se troše vd direktora agencije za privatizaciju je rekla zašta se te pare planiraju da se potroše nažalost naše pare je neko ukrao i potrošio</td>\n",
       "      <td>ida su oni na taj način tvrdim ukrale pare elektronaca jer pare su strogo namenski zna se gde se nalaze iznase po zakonu o pretizaciji za šta mog da se troše a evo vede direktor agencija de piritizacija je rekla zašta te pare se planiraju d troše nažalost naše pare je neko ukrao i potrošio</td>\n",
       "    </tr>\n",
       "    <tr>\n",
       "      <th>10298</th>\n",
       "      <td>{'path': 'seg_audio/Ho0YGH75r1U__561.4__581.1__.wav', 'bytes': None}</td>\n",
       "      <td>učinimo da bismo nastavili taj uspešni deo srpske istorije šta konkretno mogu građani juga srbije da očekuju kada je njihova budućnost i stvarnost u pitanju a to može da im obeća koalicija ds i ns ne postoje regionalna rešenja za izlazak iz krize to</td>\n",
       "      <td>čini da bismo nastavili taj uspešni deo srpske istorije šta movi građani juga srbije očekuju kada je njihova budućnost i stvarnost u pitanju a to može da im obeća koalicija nove strake dsk neko ne postoji regionalna rešenja za izlazak iz krize</td>\n",
       "    </tr>\n",
       "    <tr>\n",
       "      <th>10512</th>\n",
       "      <td>{'path': 'seg_audio/e69_ca2ev1c__1106.8__1120.7__.wav', 'bytes': None}</td>\n",
       "      <td>na našem mestu oni bi se udavili ja mogu da obećam u ime saveta i organizacije da ćemo mi učiniti sve već u narednom preiodu da poboljšamo imidž ovog festivala a svima mogu da kažem</td>\n",
       "      <td>na naše mesto oni bi se udavili ja mogu da obećam u ime ovog i saveta i organizacije da ćemo mi učiniti sve već u narednom periodu da poboljšam imedž ovog festivala svima mogu da kažem</td>\n",
       "    </tr>\n",
       "    <tr>\n",
       "      <th>10070</th>\n",
       "      <td>{'path': 'seg_audio/ENLNNzwVRrk__616.3__630.3__.wav', 'bytes': None}</td>\n",
       "      <td>da skladišti to znam a da li proizvodi nisam siguran i ona bi se potpisivanjem konvencije obavezala i da se oslobodi tih zaliha kasetne municije</td>\n",
       "      <td>da slani šti znam a da li proizvodi nisam siguran verujte i ona bi se potpisivanjem te konvencije obavezala da se oslobodi i tih zaliha kasetne municije da</td>\n",
       "    </tr>\n",
       "    <tr>\n",
       "      <th>10418</th>\n",
       "      <td>{'path': 'seg_audio/iJfEJ4J96AA__128.3__146.9__.wav', 'bytes': None}</td>\n",
       "      <td>to što smo imali predsednika opštine nema nikakve veze to što sam ja radio u direkciji nema nikakve veze niti smo to zloupotrebljavali mi to radimo isto godinama niti se išta menja jednostavno mi imamo svoje biraqčko telo u nišu a siguran sam da će ono da se duplira na</td>\n",
       "      <td>to što smo imali predsednik opštine nema nikakve veze to što sam ja radio u direkciji nema nikakve veze niti smo to zloupotrebljavali mi to radimo isto godinama niti se išta menja jedostavno mi imamo svoje biračko telo u nišu a siguran sam da će ono da se duplira</td>\n",
       "    </tr>\n",
       "    <tr>\n",
       "      <th>9567</th>\n",
       "      <td>{'path': 'seg_audio/MoDtqewe5ec__1034.0__1047.2__.wav', 'bytes': None}</td>\n",
       "      <td>ali se takođe nadam da je država kada kažem država mislim da vladu republike srbije takođe dobronamerna i da želi d au najboljem smislu razvija aerodrom ali koji će biti u interesu nišlija i u interesu države</td>\n",
       "      <td>ali takođe se nadami da je država adkae država mislim na vladu reublike srbije takođe dobro namerna i da želi da u najboljem smislu razvija aerodrom ali koji će biti u interesu nišlija i u interesu države</td>\n",
       "    </tr>\n",
       "    <tr>\n",
       "      <th>10719</th>\n",
       "      <td>{'path': 'seg_audio/khEIELaXKwI__33.5__50.8__.wav', 'bytes': None}</td>\n",
       "      <td>sa nama u studiju je odbornica jelena đorđević dobrodošli u južne vesti dobar dan bolje vas našla evo na pres konferenciji snsa rečeno je da kada se bude glasalo o ovoj odluci da će to podržati 46 odbornika što su svi osim vas</td>\n",
       "      <td>sa nama u studiju je odbornica jelana đorđević dobrodošli u južne vesti dobar dan bolje vas našao evo na prezkonferenciji sns je rečeno da će kada bude sglasalo o ovoj odluci da će to podržati 46 odbornika što su gotovo svi osim vas</td>\n",
       "    </tr>\n",
       "    <tr>\n",
       "      <th>9741</th>\n",
       "      <td>{'path': 'seg_audio/gTtgkiYzYeA__788.1__807.0__.wav', 'bytes': None}</td>\n",
       "      <td>ja mislim da malo ljudi zna šta će sa sa tim dešavati u nekoj budućnosti ali u svakom slučaju osoba koja je mene da kažem više puta ovako klevetala i slala krivične prijave na osnovu kojih je i bio taj proces je osuđena za klevetu pred sudom u kraljevu negde krajem decembra prošle godine</td>\n",
       "      <td>ja mislim da malo ljudi zna šta će sa tim dešavati u nekoj budućnosti ali u svakom slučaju osoba koja je mene daažem više puta ovako klevetala i slalae krivične prijave na osnobvu kojkh je bio taj proces je osuđena za klevetu pred sudom u kraljevu negde krajem decembra prošle godine</td>\n",
       "    </tr>\n",
       "    <tr>\n",
       "      <th>10803</th>\n",
       "      <td>{'path': 'seg_audio/1NiIVR7Tycw__32.0__50.9__.wav', 'bytes': None}</td>\n",
       "      <td>u kom iznosu slavković sigurno za one dane kada grejanja nije bilo uopšte sigurno neće biti obračunato a za one dane kada je bilo umanjeno grejanje shodno procentu umanjenja biće srazmerno umanjeni računi i to će rukovodstvo toplane dobiti nalog od rukovodstva grada mada mislim da će i oni sami postupiti</td>\n",
       "      <td>i u kom iznosu sigurno za one dane kad nije bilo grejanje uopšte sigurno da neće bidi ob računa to a za one dane kada je bilo umanjeno grejanje shodno procentu manjenja biće srazmerno umanjeni računi to će rukovodstvov gradske toplane dobit nabavd rukovodstvo ga grada radi mislim da će oni i to i sami posltuti piit vode</td>\n",
       "    </tr>\n",
       "    <tr>\n",
       "      <th>8957</th>\n",
       "      <td>{'path': 'seg_audio/p4e36rwUaNI__727.1__744.1__.wav', 'bytes': None}</td>\n",
       "      <td>se kuća urušila od plate ne mogu da živim šta će biti sutra to je pitanje i to je ono što me je navelo da izađem i da javno iskažem protest a to vas je navelo da pre toga samoinicijativno i samostalno prijavljujete neke nepravilnosti koje ste zaticali kod vas u firmi</td>\n",
       "      <td>tase kući urušila odplate ne mogu da živi šta će biti sutra to je pitanje i to je ono što me je navelo da izađe i da javno iskažem protesta to vas je navelo da pre toga samo inicijativni samostal prijavljujete neke nepravilnosti koje ste zaticali kodvasu firmi</td>\n",
       "    </tr>\n",
       "  </tbody>\n",
       "</table>\n",
       "</div>"
      ],
      "text/plain": [
       "                                                                         path  \\\n",
       "9517     {'path': 'seg_audio/LgvNB8AZTOs__732.0__751.5__.wav', 'bytes': None}   \n",
       "10298    {'path': 'seg_audio/Ho0YGH75r1U__561.4__581.1__.wav', 'bytes': None}   \n",
       "10512  {'path': 'seg_audio/e69_ca2ev1c__1106.8__1120.7__.wav', 'bytes': None}   \n",
       "10070    {'path': 'seg_audio/ENLNNzwVRrk__616.3__630.3__.wav', 'bytes': None}   \n",
       "10418    {'path': 'seg_audio/iJfEJ4J96AA__128.3__146.9__.wav', 'bytes': None}   \n",
       "9567   {'path': 'seg_audio/MoDtqewe5ec__1034.0__1047.2__.wav', 'bytes': None}   \n",
       "10719      {'path': 'seg_audio/khEIELaXKwI__33.5__50.8__.wav', 'bytes': None}   \n",
       "9741     {'path': 'seg_audio/gTtgkiYzYeA__788.1__807.0__.wav', 'bytes': None}   \n",
       "10803      {'path': 'seg_audio/1NiIVR7Tycw__32.0__50.9__.wav', 'bytes': None}   \n",
       "8957     {'path': 'seg_audio/p4e36rwUaNI__727.1__744.1__.wav', 'bytes': None}   \n",
       "\n",
       "                                                                                                                                                                                                                                                                                                                sentence  \\\n",
       "9517            i da su oni na taj način tvrdim ukrali pare elektronaca jer pare su strogo namenski zna se gde se nalaze i zna se po zakonu o privatizaciji na šta mogu da se troše vd direktora agencije za privatizaciju je rekla zašta se te pare planiraju da se potroše nažalost naše pare je neko ukrao i potrošio   \n",
       "10298                                                          učinimo da bismo nastavili taj uspešni deo srpske istorije šta konkretno mogu građani juga srbije da očekuju kada je njihova budućnost i stvarnost u pitanju a to može da im obeća koalicija ds i ns ne postoje regionalna rešenja za izlazak iz krize to   \n",
       "10512                                                                                                                              na našem mestu oni bi se udavili ja mogu da obećam u ime saveta i organizacije da ćemo mi učiniti sve već u narednom preiodu da poboljšamo imidž ovog festivala a svima mogu da kažem   \n",
       "10070                                                                                                                                                                   da skladišti to znam a da li proizvodi nisam siguran i ona bi se potpisivanjem konvencije obavezala i da se oslobodi tih zaliha kasetne municije   \n",
       "10418                                      to što smo imali predsednika opštine nema nikakve veze to što sam ja radio u direkciji nema nikakve veze niti smo to zloupotrebljavali mi to radimo isto godinama niti se išta menja jednostavno mi imamo svoje biraqčko telo u nišu a siguran sam da će ono da se duplira na   \n",
       "9567                                                                                                    ali se takođe nadam da je država kada kažem država mislim da vladu republike srbije takođe dobronamerna i da želi d au najboljem smislu razvija aerodrom ali koji će biti u interesu nišlija i u interesu države   \n",
       "10719                                                                                 sa nama u studiju je odbornica jelena đorđević dobrodošli u južne vesti dobar dan bolje vas našla evo na pres konferenciji snsa rečeno je da kada se bude glasalo o ovoj odluci da će to podržati 46 odbornika što su svi osim vas   \n",
       "9741                    ja mislim da malo ljudi zna šta će sa sa tim dešavati u nekoj budućnosti ali u svakom slučaju osoba koja je mene da kažem više puta ovako klevetala i slala krivične prijave na osnovu kojih je i bio taj proces je osuđena za klevetu pred sudom u kraljevu negde krajem decembra prošle godine   \n",
       "10803  u kom iznosu slavković sigurno za one dane kada grejanja nije bilo uopšte sigurno neće biti obračunato a za one dane kada je bilo umanjeno grejanje shodno procentu umanjenja biće srazmerno umanjeni računi i to će rukovodstvo toplane dobiti nalog od rukovodstva grada mada mislim da će i oni sami postupiti   \n",
       "8957                                         se kuća urušila od plate ne mogu da živim šta će biti sutra to je pitanje i to je ono što me je navelo da izađem i da javno iskažem protest a to vas je navelo da pre toga samoinicijativno i samostalno prijavljujete neke nepravilnosti koje ste zaticali kod vas u firmi   \n",
       "\n",
       "                                                                                                                                                                                                                                                                                                                                   words  \n",
       "9517                                  ida su oni na taj način tvrdim ukrale pare elektronaca jer pare su strogo namenski zna se gde se nalaze iznase po zakonu o pretizaciji za šta mog da se troše a evo vede direktor agencija de piritizacija je rekla zašta te pare se planiraju d troše nažalost naše pare je neko ukrao i potrošio  \n",
       "10298                                                                                čini da bismo nastavili taj uspešni deo srpske istorije šta movi građani juga srbije očekuju kada je njihova budućnost i stvarnost u pitanju a to može da im obeća koalicija nove strake dsk neko ne postoji regionalna rešenja za izlazak iz krize  \n",
       "10512                                                                                                                                           na naše mesto oni bi se udavili ja mogu da obećam u ime ovog i saveta i organizacije da ćemo mi učiniti sve već u narednom periodu da poboljšam imedž ovog festivala svima mogu da kažem  \n",
       "10070                                                                                                                                                                        da slani šti znam a da li proizvodi nisam siguran verujte i ona bi se potpisivanjem te konvencije obavezala da se oslobodi i tih zaliha kasetne municije da  \n",
       "10418                                                            to što smo imali predsednik opštine nema nikakve veze to što sam ja radio u direkciji nema nikakve veze niti smo to zloupotrebljavali mi to radimo isto godinama niti se išta menja jedostavno mi imamo svoje biračko telo u nišu a siguran sam da će ono da se duplira  \n",
       "9567                                                                                                                        ali takođe se nadami da je država adkae država mislim na vladu reublike srbije takođe dobro namerna i da želi da u najboljem smislu razvija aerodrom ali koji će biti u interesu nišlija i u interesu države  \n",
       "10719                                                                                           sa nama u studiju je odbornica jelana đorđević dobrodošli u južne vesti dobar dan bolje vas našao evo na prezkonferenciji sns je rečeno da će kada bude sglasalo o ovoj odluci da će to podržati 46 odbornika što su gotovo svi osim vas  \n",
       "9741                                         ja mislim da malo ljudi zna šta će sa tim dešavati u nekoj budućnosti ali u svakom slučaju osoba koja je mene daažem više puta ovako klevetala i slalae krivične prijave na osnobvu kojkh je bio taj proces je osuđena za klevetu pred sudom u kraljevu negde krajem decembra prošle godine  \n",
       "10803  i u kom iznosu sigurno za one dane kad nije bilo grejanje uopšte sigurno da neće bidi ob računa to a za one dane kada je bilo umanjeno grejanje shodno procentu manjenja biće srazmerno umanjeni računi to će rukovodstvov gradske toplane dobit nabavd rukovodstvo ga grada radi mislim da će oni i to i sami posltuti piit vode  \n",
       "8957                                                                tase kući urušila odplate ne mogu da živi šta će biti sutra to je pitanje i to je ono što me je navelo da izađe i da javno iskažem protesta to vas je navelo da pre toga samo inicijativni samostal prijavljujete neke nepravilnosti koje ste zaticali kodvasu firmi  "
      ]
     },
     "execution_count": 4,
     "metadata": {},
     "output_type": "execute_result"
    }
   ],
   "source": [
    "df[[\"path\", \"sentence\", \"words\"]].sample(10)"
   ]
  },
  {
   "cell_type": "code",
   "execution_count": 6,
   "metadata": {},
   "outputs": [],
   "source": [
    "df[\"path\"] = df.path.apply(lambda d: d.get(\"path\"))\n",
    "df = df.rename(columns={\n",
    "    \"sentence\": \"preprocessed_original_text\",\n",
    "    \"words\": \"model_output\"\n",
    "})\n",
    "\n",
    "df[[\"path\", \"split\", \"preprocessed_original_text\", \"model_output\"]].to_json(\n",
    "    \"30_dev_and_test_split_transcriptions_for_inspection.jsonl\",\n",
    "    orient=\"records\",\n",
    "    lines=True\n",
    ")"
   ]
  },
  {
   "cell_type": "code",
   "execution_count": null,
   "metadata": {},
   "outputs": [],
   "source": []
  }
 ],
 "metadata": {
  "kernelspec": {
   "display_name": "Python 3.8.3 ('base')",
   "language": "python",
   "name": "python3"
  },
  "language_info": {
   "codemirror_mode": {
    "name": "ipython",
    "version": 3
   },
   "file_extension": ".py",
   "mimetype": "text/x-python",
   "name": "python",
   "nbconvert_exporter": "python",
   "pygments_lexer": "ipython3",
   "version": "3.8.3"
  },
  "orig_nbformat": 4,
  "vscode": {
   "interpreter": {
    "hash": "7f6f5766036ee03d059e365a942add07f79c17033585e9357ee8157d52fe6bb9"
   }
  }
 },
 "nbformat": 4,
 "nbformat_minor": 2
}
