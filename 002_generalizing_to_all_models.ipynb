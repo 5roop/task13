{
 "cells": [
  {
   "cell_type": "code",
   "execution_count": 2,
   "metadata": {},
   "outputs": [
    {
     "data": {
      "application/vnd.jupyter.widget-view+json": {
       "model_id": "cf21c429086446d3bb7f8aec738d0821",
       "version_major": 2,
       "version_minor": 0
      },
      "text/plain": [
       "Downloading:   0%|          | 0.00/328 [00:00<?, ?B/s]"
      ]
     },
     "metadata": {},
     "output_type": "display_data"
    },
    {
     "data": {
      "application/vnd.jupyter.widget-view+json": {
       "model_id": "aa64fba47b6844568d9f4613efadd142",
       "version_major": 2,
       "version_minor": 0
      },
      "text/plain": [
       "Downloading:   0%|          | 0.00/868M [00:00<?, ?B/s]"
      ]
     },
     "metadata": {},
     "output_type": "display_data"
    },
    {
     "data": {
      "application/vnd.jupyter.widget-view+json": {
       "model_id": "26d22b366a7e49dba0aca6d187b61a73",
       "version_major": 2,
       "version_minor": 0
      },
      "text/plain": [
       "Downloading:   0%|          | 0.00/78.0 [00:00<?, ?B/s]"
      ]
     },
     "metadata": {},
     "output_type": "display_data"
    },
    {
     "data": {
      "application/vnd.jupyter.widget-view+json": {
       "model_id": "464ed4369bda43c98dc1af9707ea5b92",
       "version_major": 2,
       "version_minor": 0
      },
      "text/plain": [
       "Downloading: 0.00B [00:00, ?B/s]"
      ]
     },
     "metadata": {},
     "output_type": "display_data"
    },
    {
     "name": "stderr",
     "output_type": "stream",
     "text": [
      "Only 0 unigrams passed as vocabulary. Is this small or artificial data?\n"
     ]
    }
   ],
   "source": [
    "import os\n",
    "\n",
    "import numpy as np\n",
    "import soundfile as sf\n",
    "import torch\n",
    "from transformers import Wav2Vec2ForCTC, Wav2Vec2ProcessorWithLM, Wav2Vec2Processor\n",
    "\n",
    "models = [\n",
    "    \"classla/wav2vec2-xls-r-parlaspeech-hr-lm\",\n",
    "    \"classla/wav2vec2-xls-r-parlaspeech-hr\",\n",
    "    \"classla/wav2vec2-large-slavic-parlaspeech-hr\",\n",
    "    \"classla/wav2vec2-large-slavic-parlaspeech-hr-lm\",\n",
    "]\n",
    "results = list()\n",
    "for model in models:\n",
    "    device = torch.device(\"cuda:0\" if torch.cuda.is_available() else \"cpu\")\n",
    "    # load model and tokenizer\n",
    "    if model.endswith(\"-lm\"):\n",
    "        processor = Wav2Vec2ProcessorWithLM.from_pretrained(model,)\n",
    "    else:\n",
    "        processor = Wav2Vec2Processor.from_pretrained(model, pad_token=\"[PAD]\")\n",
    "    model = Wav2Vec2ForCTC.from_pretrained(model)\n",
    "    # read the wav file\n",
    "    speech, sample_rate = sf.read(\"audio.wav\")\n",
    "\n",
    "    overlap_seconds = 1\n",
    "\n",
    "    indices = np.arange(\n",
    "        0, speech.shape[0], 10 * 60 * sample_rate, dtype=int\n",
    "    ).tolist() + [-1]\n",
    "\n",
    "    transcripts = list()\n",
    "    for start, stop in zip(indices[0:-2], indices[1:]):\n",
    "        # If overlap would make the segment go\n",
    "        # over the end, correct stop variable:\n",
    "        if stop + overlap_seconds * sample_rate >= speech.shape[0]:\n",
    "            stop = -1\n",
    "        speech_segment = speech[start:stop]\n",
    "        inputs = processor(\n",
    "            speech_segment, sampling_rate=sample_rate, return_tensors=\"pt\"\n",
    "        )\n",
    "        with torch.no_grad():\n",
    "            logits = model(**inputs).logits\n",
    "        try:\n",
    "            transcription = processor.batch_decode(logits.numpy()).text[0]\n",
    "        except:\n",
    "            prediction_ids = torch.argmax(logits, dim=-1)\n",
    "            transcription = processor.batch_decode(prediction_ids)\n",
    "\n",
    "        transcripts.append(transcription)\n",
    "    results.append({\"model\": model, \"transcription\": \" \".join(transcripts)})\n",
    "\n",
    "import pandas as pd\n",
    "\n",
    "pd.DataFrame(data=results).to_csv(\"003_all_models_transcriptions.csv\", index=False)\n"
   ]
  },
  {
   "cell_type": "code",
   "execution_count": 13,
   "metadata": {},
   "outputs": [
    {
     "data": {
      "text/plain": [
       "(1, 29999, 50)"
      ]
     },
     "execution_count": 13,
     "metadata": {},
     "output_type": "execute_result"
    }
   ],
   "source": [
    "logits.numpy().shape"
   ]
  },
  {
   "cell_type": "code",
   "execution_count": null,
   "metadata": {},
   "outputs": [],
   "source": []
  }
 ],
 "metadata": {
  "interpreter": {
   "hash": "7f6f5766036ee03d059e365a942add07f79c17033585e9357ee8157d52fe6bb9"
  },
  "kernelspec": {
   "display_name": "Python 3.8.3 ('base')",
   "language": "python",
   "name": "python3"
  },
  "language_info": {
   "codemirror_mode": {
    "name": "ipython",
    "version": 3
   },
   "file_extension": ".py",
   "mimetype": "text/x-python",
   "name": "python",
   "nbconvert_exporter": "python",
   "pygments_lexer": "ipython3",
   "version": "3.8.3"
  },
  "orig_nbformat": 4
 },
 "nbformat": 4,
 "nbformat_minor": 2
}
