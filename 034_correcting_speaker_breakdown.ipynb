{
 "cells": [
  {
   "cell_type": "code",
   "execution_count": 18,
   "metadata": {},
   "outputs": [
    {
     "data": {
      "text/plain": [
       "Index(['path', 'orig_file', 'start', 'end', 'words', 'norm_words',\n",
       "       'norm_words_start_times', 'utterance_id_start', 'utterance_id_end',\n",
       "       'speaker_info', 'split'],\n",
       "      dtype='object')"
      ]
     },
     "execution_count": 18,
     "metadata": {},
     "output_type": "execute_result"
    }
   ],
   "source": [
    "import pandas as pd\n",
    "\n",
    "JV = pd.read_json(\"JuzneVesti-SR.v1.0.jsonl\", lines=True)\n",
    "df = pd.read_json(\"023_JV_segments_matched_speaker_id_added.jsonl\", lines=True)\n",
    "JV.columns"
   ]
  },
  {
   "cell_type": "code",
   "execution_count": 19,
   "metadata": {},
   "outputs": [],
   "source": [
    "# DF: \n",
    "# key: segment_file\n",
    "# values: speaker_breakdown\n",
    "# JV:\n",
    "# key: path\n",
    "# values: speaker_info.speaker_breakdown\n",
    "\n",
    "\n",
    "JV = JV.merge(\n",
    "    right=df[[\"segment_file\", \"speaker_breakdown\", \"guest_name\", \"host\", \"guest_description\"]],\n",
    "    right_on=\"segment_file\", \n",
    "    left_on=\"path\"\n",
    "        ).drop(\n",
    "            columns=[\"segment_file\", \"utterance_id_start\", \"utterance_id_end\"]\n",
    ")\n",
    "dicts = []\n",
    "for i, row in JV.iterrows():\n",
    "    curdict = {\n",
    "        key: row[key] for key in [\"speaker_breakdown\",  \"guest_name\", \"host\", \"guest_description\"]\n",
    "           }\n",
    "    curdict[\"speaker_breakdown\"] = row[\"speaker_breakdown\"]\n",
    "    dicts.append(curdict)\n",
    "JV[\"speaker_info\"] = dicts\n",
    "\n",
    "JV = JV.drop(\n",
    "    columns=[\"speaker_breakdown\",\"guest_name\", \"host\", \"guest_description\"]\n",
    ")"
   ]
  },
  {
   "cell_type": "code",
   "execution_count": 20,
   "metadata": {},
   "outputs": [],
   "source": [
    "speaker_infos = []\n",
    "for i, row in JV.iterrows():\n",
    "    curdict = row[\"speaker_info\"]\n",
    "    curbreakdown = curdict[\"speaker_breakdown\"]\n",
    "    try:\n",
    "        curbreakdown = [i for i in curbreakdown if i[1] != i[2]]\n",
    "    except Exception as e:\n",
    "        print(e)\n",
    "    finally:\n",
    "        curdict = {**curdict, \"speaker_breakdown\": curbreakdown}\n",
    "        speaker_infos.append(curdict)\n",
    "JV[\"speaker_info\"] = speaker_infos\n"
   ]
  },
  {
   "cell_type": "code",
   "execution_count": 21,
   "metadata": {},
   "outputs": [
    {
     "data": {
      "text/plain": [
       "{'speaker_breakdown': [['guest', 249.19, 252.89],\n",
       "  ['host', 252.89, 261.42],\n",
       "  ['guest', 261.42, 264.18]],\n",
       " 'guest_name': 'Dušan Milisavljević',\n",
       " 'host': 'Marija Vučić',\n",
       " 'guest_description': 'narodni poslanik DS iz Niša'}"
      ]
     },
     "execution_count": 21,
     "metadata": {},
     "output_type": "execute_result"
    }
   ],
   "source": [
    "curdict"
   ]
  },
  {
   "cell_type": "code",
   "execution_count": 22,
   "metadata": {},
   "outputs": [
    {
     "data": {
      "text/html": [
       "<div>\n",
       "<style scoped>\n",
       "    .dataframe tbody tr th:only-of-type {\n",
       "        vertical-align: middle;\n",
       "    }\n",
       "\n",
       "    .dataframe tbody tr th {\n",
       "        vertical-align: top;\n",
       "    }\n",
       "\n",
       "    .dataframe thead th {\n",
       "        text-align: right;\n",
       "    }\n",
       "</style>\n",
       "<table border=\"1\" class=\"dataframe\">\n",
       "  <thead>\n",
       "    <tr style=\"text-align: right;\">\n",
       "      <th></th>\n",
       "      <th>9203</th>\n",
       "      <th>5240</th>\n",
       "      <th>4622</th>\n",
       "      <th>6220</th>\n",
       "      <th>1241</th>\n",
       "      <th>5730</th>\n",
       "    </tr>\n",
       "  </thead>\n",
       "  <tbody>\n",
       "    <tr>\n",
       "      <th>path</th>\n",
       "      <td>seg_audio/MbrIJyz1Oko__100.4__119.1__.wav</td>\n",
       "      <td>seg_audio/14AnXmxhHMc__701.8__717.5__.wav</td>\n",
       "      <td>seg_audio/PGxnCPcn5Ig__551.4__569.3__.wav</td>\n",
       "      <td>seg_audio/RIM74lYTyQM__258.0__274.7__.wav</td>\n",
       "      <td>seg_audio/XlkPlKXSHAM__374.0__391.1__.wav</td>\n",
       "      <td>seg_audio/ao2BlYF0sWo__296.4__313.0__.wav</td>\n",
       "    </tr>\n",
       "    <tr>\n",
       "      <th>orig_file</th>\n",
       "      <td>audio/MbrIJyz1Oko.wav</td>\n",
       "      <td>audio/14AnXmxhHMc.wav</td>\n",
       "      <td>audio/PGxnCPcn5Ig.wav</td>\n",
       "      <td>audio/RIM74lYTyQM.wav</td>\n",
       "      <td>audio/XlkPlKXSHAM.wav</td>\n",
       "      <td>audio/ao2BlYF0sWo.wav</td>\n",
       "    </tr>\n",
       "    <tr>\n",
       "      <th>start</th>\n",
       "      <td>100.4</td>\n",
       "      <td>701.8</td>\n",
       "      <td>551.4</td>\n",
       "      <td>258.0</td>\n",
       "      <td>374.0</td>\n",
       "      <td>296.4</td>\n",
       "    </tr>\n",
       "    <tr>\n",
       "      <th>end</th>\n",
       "      <td>119.1</td>\n",
       "      <td>717.5</td>\n",
       "      <td>569.3</td>\n",
       "      <td>274.7</td>\n",
       "      <td>391.1</td>\n",
       "      <td>313.0</td>\n",
       "    </tr>\n",
       "    <tr>\n",
       "      <th>words</th>\n",
       "      <td>[koji, je, usvojio, neko,, odnosno, međunaordna, zajednica, oličena, u, UN,, koji, je, na, snazi, sem, (Rezolucije), 1244,, koji, kaže, da, je, to, teritorija, Srbije!, I, znate,, vaša, je, njiva,, iako, je, neko, uzurpirao,, radi, na, njoj,, seje,, sve, dotle, dok, vi, ne, odete, u, katastar, i, prepišete, da, je, to, njegovo.]</td>\n",
       "      <td>[ću, lepo, potražiti, mišljenje, ljudi, koji, su, od, strane, Grada, plaćeni,, iz, Centra, za, socijalni, rad,, oni, će, se, sigurno, složiti!, Ne, vidim, razloga, zašto, mi, ne, bi, sa, nekom, sumom, za, sledeću, godinu, planirali?!, Uvek, i, mora, da, postoji, malo, otvorena, komunikacija,, da, oko, tog, svratišta, ne, radimo, preko, medija,, nego, da, sednemo, i, da, se, odgovorimo.]</td>\n",
       "      <td>[Znate, kako., Verovatno, postoje, ljudi, koji, jesu, za, to, mesto, ali, samo, angažovanje, na, tom, mestu, podrazumeva, i, upliv, u, politiku., Onaj, ko, neće, da, se, prlja,, onbaj, ko, nešto, zna, uglavnom, neće, da, se, prlja.]</td>\n",
       "      <td>[Pre, svega, koliko, se, papira, troši, na, dostavljanje, materijala, narodnim, poslanicima,, koliko, sam, shvatio, taj, materijala, se, istovremeno,, paralelno, dostavlja, i, u, elektronskom, obliku., Ukazivali, ste, i, na, čuveno, zvono, u]</td>\n",
       "      <td>[misli, da, je, shodno., Nikada, se, vlast, u, Srbiji, nije, menjala, osim, na, predsedničkim, izborima,, to, je, još, jedan, pokazatelj, koliko, je, to, važno., Prethodni, predsednik, je, svoju, političku, snagu, stečenom, pobedom, 2012., godine, odlučio, da, iskorisit, tako, što, je, promenio, vlast., To]</td>\n",
       "      <td>[Videćemo, da, problem, nije, samo, u, Nišu,, problem, je, i, u, prestonici,, koja, se, postavlja, kao, tutor, prema, nama., Ja, ne, znam, kako, Gradonačelnik, ali, i, gradska, vlast, dozvoljava]</td>\n",
       "    </tr>\n",
       "    <tr>\n",
       "      <th>norm_words</th>\n",
       "      <td>[koji, je, usvojio, neko, odnosno, međunaordna, zajednica, oličena, u, un, koji, je, na, snazi, sem, rezolucije, jedna, tisuća, dvijesto, četrdeset, četiri, koji, kaže, da, je, to, teritorija, srbije, i, znate, vaša, je, njiva, iako, je, neko, uzurpirao, radi, na, njoj, seje, sve, dotle, dok, vi, ne, odete, u, katastar, i, prepišete, da, je, to, njegovo]</td>\n",
       "      <td>[ja, ću, lepo, potražiti, mišljenje, ljudi, koji, su, od, strane, grada, plaćeni, iz, centra, za, socijalni, rad, oni, će, se, sigurno, složiti, ne, vidim, razloga, zašto, mi, ne, bi, sa, nekom, sumom, za, sledeću, godinu, planirali, uvek, i, mora, da, postoji, malo, otvorena, komunikacija, da, oko, tog, svratišta, ne, radimo, preko, medija, nego, da, sednemo, i, da, se, odgovorimo]</td>\n",
       "      <td>[znate, kako, verovatno, postoje, ljudi, koji, jesu, za, to, mesto, ali, samo, angažovanje, na, tom, mestu, podrazumeva, i, upliv, u, politiku, onaj, ko, neće, da, se, prlja, onbaj, ko, nešto, zna, uglavnom, neće, da, se, prlja]</td>\n",
       "      <td>[pre, svega, koliko, se, papira, troši, na, dostavljanje, materijala, narodnim, poslanicima, koliko, sam, shvatio, taj, materijala, se, istovremeno, paralelno, dostavlja, i, u, elektronskom, obliku, ukazivali, ste, i, na, čuveno, zvono]</td>\n",
       "      <td>[misli, da, je, shodno, nikada, se, vlast, u, srbiji, nije, menjala, osim, na, predsedničkim, izborima, to, je, još, jedan, pokazatelj, koliko, je, to, važno, prethodni, predsednik, je, svoju, političku, snagu, stečenom, pobedom, dvije, tisuće, dvanaest, godine, odlučio, da, iskorisit, tako, što, je, promenio, vlast]</td>\n",
       "      <td>[videćemo, da, problem, nije, samo, u, nišu, problem, je, i, u, prestonici, koja, se, postavlja, kao, tutor, prema, nama, ja, ne, znam, kako, gradonačelnik, ali, i, gradska, vlast, dozvoljava]</td>\n",
       "    </tr>\n",
       "    <tr>\n",
       "      <th>norm_words_start_times</th>\n",
       "      <td>[100.66, 100.91, 100.97, 101.56, 102.1, 102.43, 102.94, 103.44, 103.8, 103.83, 104.97, 105.14, 105.2, 105.31, 105.89, 105.98, 106.49, 106.64, 106.82, 107.07, 107.44, 107.66, 107.82, 108.22, 108.39, 108.54, 108.75, 109.19, 109.94, 110.04, 111.18, 111.62, 111.68, 112.03, 112.42, 112.53, 113.29, 113.97, 114.37, 114.54, 115.0, 115.88, 116.16, 116.45, 116.75, 116.88, 116.97, 117.19, 117.22, 117.71, 117.74, 118.24, 118.34, 118.4, 118.48]</td>\n",
       "      <td>[702.13, 702.28, 702.41, 702.62, 703.2, 704.67, 704.89, 705.13, 705.26, 705.32, 705.55, 705.78, 706.14, 706.23, 706.5, 706.56, 706.93, 707.42, 707.51, 707.64, 707.73, 708.01, 708.69, 708.77, 708.98, 709.28, 709.54, 709.74, 709.88, 709.97, 710.05, 710.25, 710.64, 710.74, 711.04, 711.31, 712.04, 712.2, 712.26, 712.43, 712.49, 712.79, 712.99, 713.35, 714.35, 714.43, 714.59, 714.75, 715.15, 715.22, 715.51, 715.75, 716.07, 716.25, 716.32, 716.66, 716.69, 716.76, 716.93]</td>\n",
       "      <td>[551.98, 552.25, 553.8, 554.28, 554.73, 555.82, 556.15, 556.58, 556.72, 556.87, 557.31, 559.54, 560.44, 561.45, 561.65, 561.82, 562.28, 562.9, 562.95, 563.18, 563.23, 565.04, 565.31, 565.42, 565.69, 565.76, 565.94, 566.71, 567.3, 567.39, 567.7, 567.9, 568.19, 568.42, 568.49, 568.64]</td>\n",
       "      <td>[258.08, 258.28, 259.16, 259.47, 259.63, 260.13, 260.84, 260.96, 262.18, 262.64, 262.96, 264.64, 264.92, 265.02, 265.35, 265.49, 265.87, 266.56, 267.17, 267.78, 268.46, 268.63, 268.87, 270.1, 272.3, 272.91, 273.1, 273.15, 273.27, 273.66]</td>\n",
       "      <td>[374.0, 374.15, 374.21, 374.27, 374.45, 374.78, 374.93, 375.25, 375.29, 375.65, 375.83, 376.74, 377.12, 377.21, 377.82, 378.26, 378.39, 378.83, 378.99, 380.11, 380.65, 381.01, 381.07, 381.24, 382.16, 382.62, 383.21, 383.82, 384.49, 385.02, 385.5, 386.45, 386.93, 387.09, 387.35, 387.83, 388.58, 388.96, 389.02, 389.48, 389.66, 389.78, 389.84, 390.27]</td>\n",
       "      <td>[296.83, 297.41, 298.22, 298.67, 298.96, 299.3, 299.38, 299.77, 300.26, 300.49, 300.64, 300.93, 301.63, 302.45, 303.12, 303.7, 304.68, 305.12, 305.38, 306.55, 306.72, 306.81, 307.32, 308.76, 309.79, 310.09, 310.79, 311.26, 311.67]</td>\n",
       "    </tr>\n",
       "    <tr>\n",
       "      <th>speaker_info</th>\n",
       "      <td>{'speaker_breakdown': [['guest', 100.66, 118.79]], 'guest_name': 'Milan Lapčević', 'host': 'Zoran Marjanović', 'guest_description': 'narodni poslanik i predsednik Gradskog odbora DSS Niš'}</td>\n",
       "      <td>{'speaker_breakdown': [['guest', 702.13, 717.32]], 'guest_name': 'Branislav Ranđelović', 'host': 'Aleksandar Stankov', 'guest_description': 'gradski većnik Niša resorno zadužen za socijalna pitanja'}</td>\n",
       "      <td>{'speaker_breakdown': [['guest', 551.98, 568.87]], 'guest_name': 'Marijan Maxa', 'host': 'Vesna Milić', 'guest_description': 'Glumac Narodnog pozorišta u Nišu'}</td>\n",
       "      <td>{'speaker_breakdown': [['host', 258.08, 274.19]], 'guest_name': 'Miloš Bošković', 'host': 'Predrag Blagojević', 'guest_description': 'poslanik Dosta je bilo iz Niša'}</td>\n",
       "      <td>{'speaker_breakdown': [['guest', 374.0, 390.74]], 'guest_name': 'Vuk Jeremić', 'host': 'Predrag Blagojević', 'guest_description': 'kandidat za predsednika'}</td>\n",
       "      <td>{'speaker_breakdown': [['guest', 296.83, 312.31]], 'guest_name': 'Nikola Božilović', 'host': 'Jelena Canić', 'guest_description': 'profesor na Filozofskom fakultetu u Nišu'}</td>\n",
       "    </tr>\n",
       "    <tr>\n",
       "      <th>split</th>\n",
       "      <td>dev</td>\n",
       "      <td>train</td>\n",
       "      <td>train</td>\n",
       "      <td>train</td>\n",
       "      <td>train</td>\n",
       "      <td>train</td>\n",
       "    </tr>\n",
       "  </tbody>\n",
       "</table>\n",
       "</div>"
      ],
      "text/plain": [
       "                                                                                                                                                                                                                                                                                                                                                                                                                                                                       9203  \\\n",
       "path                                                                                                                                                                                                                                                                                                                                                                                                                              seg_audio/MbrIJyz1Oko__100.4__119.1__.wav   \n",
       "orig_file                                                                                                                                                                                                                                                                                                                                                                                                                                             audio/MbrIJyz1Oko.wav   \n",
       "start                                                                                                                                                                                                                                                                                                                                                                                                                                                                 100.4   \n",
       "end                                                                                                                                                                                                                                                                                                                                                                                                                                                                   119.1   \n",
       "words                                                                                                                            [koji, je, usvojio, neko,, odnosno, međunaordna, zajednica, oličena, u, UN,, koji, je, na, snazi, sem, (Rezolucije), 1244,, koji, kaže, da, je, to, teritorija, Srbije!, I, znate,, vaša, je, njiva,, iako, je, neko, uzurpirao,, radi, na, njoj,, seje,, sve, dotle, dok, vi, ne, odete, u, katastar, i, prepišete, da, je, to, njegovo.]   \n",
       "norm_words                                                                                             [koji, je, usvojio, neko, odnosno, međunaordna, zajednica, oličena, u, un, koji, je, na, snazi, sem, rezolucije, jedna, tisuća, dvijesto, četrdeset, četiri, koji, kaže, da, je, to, teritorija, srbije, i, znate, vaša, je, njiva, iako, je, neko, uzurpirao, radi, na, njoj, seje, sve, dotle, dok, vi, ne, odete, u, katastar, i, prepišete, da, je, to, njegovo]   \n",
       "norm_words_start_times  [100.66, 100.91, 100.97, 101.56, 102.1, 102.43, 102.94, 103.44, 103.8, 103.83, 104.97, 105.14, 105.2, 105.31, 105.89, 105.98, 106.49, 106.64, 106.82, 107.07, 107.44, 107.66, 107.82, 108.22, 108.39, 108.54, 108.75, 109.19, 109.94, 110.04, 111.18, 111.62, 111.68, 112.03, 112.42, 112.53, 113.29, 113.97, 114.37, 114.54, 115.0, 115.88, 116.16, 116.45, 116.75, 116.88, 116.97, 117.19, 117.22, 117.71, 117.74, 118.24, 118.34, 118.4, 118.48]   \n",
       "speaker_info                                                                                                                                                                                                                                                                   {'speaker_breakdown': [['guest', 100.66, 118.79]], 'guest_name': 'Milan Lapčević', 'host': 'Zoran Marjanović', 'guest_description': 'narodni poslanik i predsednik Gradskog odbora DSS Niš'}   \n",
       "split                                                                                                                                                                                                                                                                                                                                                                                                                                                                   dev   \n",
       "\n",
       "                                                                                                                                                                                                                                                                                                                                                                                                                                                                                                         5240  \\\n",
       "path                                                                                                                                                                                                                                                                                                                                                                                                                                                                seg_audio/14AnXmxhHMc__701.8__717.5__.wav   \n",
       "orig_file                                                                                                                                                                                                                                                                                                                                                                                                                                                                               audio/14AnXmxhHMc.wav   \n",
       "start                                                                                                                                                                                                                                                                                                                                                                                                                                                                                                   701.8   \n",
       "end                                                                                                                                                                                                                                                                                                                                                                                                                                                                                                     717.5   \n",
       "words                                                                                                   [ću, lepo, potražiti, mišljenje, ljudi, koji, su, od, strane, Grada, plaćeni,, iz, Centra, za, socijalni, rad,, oni, će, se, sigurno, složiti!, Ne, vidim, razloga, zašto, mi, ne, bi, sa, nekom, sumom, za, sledeću, godinu, planirali?!, Uvek, i, mora, da, postoji, malo, otvorena, komunikacija,, da, oko, tog, svratišta, ne, radimo, preko, medija,, nego, da, sednemo, i, da, se, odgovorimo.]   \n",
       "norm_words                                                                                                  [ja, ću, lepo, potražiti, mišljenje, ljudi, koji, su, od, strane, grada, plaćeni, iz, centra, za, socijalni, rad, oni, će, se, sigurno, složiti, ne, vidim, razloga, zašto, mi, ne, bi, sa, nekom, sumom, za, sledeću, godinu, planirali, uvek, i, mora, da, postoji, malo, otvorena, komunikacija, da, oko, tog, svratišta, ne, radimo, preko, medija, nego, da, sednemo, i, da, se, odgovorimo]   \n",
       "norm_words_start_times  [702.13, 702.28, 702.41, 702.62, 703.2, 704.67, 704.89, 705.13, 705.26, 705.32, 705.55, 705.78, 706.14, 706.23, 706.5, 706.56, 706.93, 707.42, 707.51, 707.64, 707.73, 708.01, 708.69, 708.77, 708.98, 709.28, 709.54, 709.74, 709.88, 709.97, 710.05, 710.25, 710.64, 710.74, 711.04, 711.31, 712.04, 712.2, 712.26, 712.43, 712.49, 712.79, 712.99, 713.35, 714.35, 714.43, 714.59, 714.75, 715.15, 715.22, 715.51, 715.75, 716.07, 716.25, 716.32, 716.66, 716.69, 716.76, 716.93]   \n",
       "speaker_info                                                                                                                                                                                                                                                                                          {'speaker_breakdown': [['guest', 702.13, 717.32]], 'guest_name': 'Branislav Ranđelović', 'host': 'Aleksandar Stankov', 'guest_description': 'gradski većnik Niša resorno zadužen za socijalna pitanja'}   \n",
       "split                                                                                                                                                                                                                                                                                                                                                                                                                                                                                                   train   \n",
       "\n",
       "                                                                                                                                                                                                                                                                                                               4622  \\\n",
       "path                                                                                                                                                                                                                                                                      seg_audio/PGxnCPcn5Ig__551.4__569.3__.wav   \n",
       "orig_file                                                                                                                                                                                                                                                                                     audio/PGxnCPcn5Ig.wav   \n",
       "start                                                                                                                                                                                                                                                                                                         551.4   \n",
       "end                                                                                                                                                                                                                                                                                                           569.3   \n",
       "words                                                                      [Znate, kako., Verovatno, postoje, ljudi, koji, jesu, za, to, mesto, ali, samo, angažovanje, na, tom, mestu, podrazumeva, i, upliv, u, politiku., Onaj, ko, neće, da, se, prlja,, onbaj, ko, nešto, zna, uglavnom, neće, da, se, prlja.]   \n",
       "norm_words                                                                     [znate, kako, verovatno, postoje, ljudi, koji, jesu, za, to, mesto, ali, samo, angažovanje, na, tom, mestu, podrazumeva, i, upliv, u, politiku, onaj, ko, neće, da, se, prlja, onbaj, ko, nešto, zna, uglavnom, neće, da, se, prlja]   \n",
       "norm_words_start_times  [551.98, 552.25, 553.8, 554.28, 554.73, 555.82, 556.15, 556.58, 556.72, 556.87, 557.31, 559.54, 560.44, 561.45, 561.65, 561.82, 562.28, 562.9, 562.95, 563.18, 563.23, 565.04, 565.31, 565.42, 565.69, 565.76, 565.94, 566.71, 567.3, 567.39, 567.7, 567.9, 568.19, 568.42, 568.49, 568.64]   \n",
       "speaker_info                                                                                                                                       {'speaker_breakdown': [['guest', 551.98, 568.87]], 'guest_name': 'Marijan Maxa', 'host': 'Vesna Milić', 'guest_description': 'Glumac Narodnog pozorišta u Nišu'}   \n",
       "split                                                                                                                                                                                                                                                                                                         train   \n",
       "\n",
       "                                                                                                                                                                                                                                                                      6220  \\\n",
       "path                                                                                                                                                                                                                             seg_audio/RIM74lYTyQM__258.0__274.7__.wav   \n",
       "orig_file                                                                                                                                                                                                                                            audio/RIM74lYTyQM.wav   \n",
       "start                                                                                                                                                                                                                                                                258.0   \n",
       "end                                                                                                                                                                                                                                                                  274.7   \n",
       "words                   [Pre, svega, koliko, se, papira, troši, na, dostavljanje, materijala, narodnim, poslanicima,, koliko, sam, shvatio, taj, materijala, se, istovremeno,, paralelno, dostavlja, i, u, elektronskom, obliku., Ukazivali, ste, i, na, čuveno, zvono, u]   \n",
       "norm_words                    [pre, svega, koliko, se, papira, troši, na, dostavljanje, materijala, narodnim, poslanicima, koliko, sam, shvatio, taj, materijala, se, istovremeno, paralelno, dostavlja, i, u, elektronskom, obliku, ukazivali, ste, i, na, čuveno, zvono]   \n",
       "norm_words_start_times       [258.08, 258.28, 259.16, 259.47, 259.63, 260.13, 260.84, 260.96, 262.18, 262.64, 262.96, 264.64, 264.92, 265.02, 265.35, 265.49, 265.87, 266.56, 267.17, 267.78, 268.46, 268.63, 268.87, 270.1, 272.3, 272.91, 273.1, 273.15, 273.27, 273.66]   \n",
       "speaker_info                                                                                        {'speaker_breakdown': [['host', 258.08, 274.19]], 'guest_name': 'Miloš Bošković', 'host': 'Predrag Blagojević', 'guest_description': 'poslanik Dosta je bilo iz Niša'}   \n",
       "split                                                                                                                                                                                                                                                                train   \n",
       "\n",
       "                                                                                                                                                                                                                                                                                                                                                                                  1241  \\\n",
       "path                                                                                                                                                                                                                                                                                                                                         seg_audio/XlkPlKXSHAM__374.0__391.1__.wav   \n",
       "orig_file                                                                                                                                                                                                                                                                                                                                                        audio/XlkPlKXSHAM.wav   \n",
       "start                                                                                                                                                                                                                                                                                                                                                                            374.0   \n",
       "end                                                                                                                                                                                                                                                                                                                                                                              391.1   \n",
       "words                                                             [misli, da, je, shodno., Nikada, se, vlast, u, Srbiji, nije, menjala, osim, na, predsedničkim, izborima,, to, je, još, jedan, pokazatelj, koliko, je, to, važno., Prethodni, predsednik, je, svoju, političku, snagu, stečenom, pobedom, 2012., godine, odlučio, da, iskorisit, tako, što, je, promenio, vlast., To]   \n",
       "norm_words                                              [misli, da, je, shodno, nikada, se, vlast, u, srbiji, nije, menjala, osim, na, predsedničkim, izborima, to, je, još, jedan, pokazatelj, koliko, je, to, važno, prethodni, predsednik, je, svoju, političku, snagu, stečenom, pobedom, dvije, tisuće, dvanaest, godine, odlučio, da, iskorisit, tako, što, je, promenio, vlast]   \n",
       "norm_words_start_times  [374.0, 374.15, 374.21, 374.27, 374.45, 374.78, 374.93, 375.25, 375.29, 375.65, 375.83, 376.74, 377.12, 377.21, 377.82, 378.26, 378.39, 378.83, 378.99, 380.11, 380.65, 381.01, 381.07, 381.24, 382.16, 382.62, 383.21, 383.82, 384.49, 385.02, 385.5, 386.45, 386.93, 387.09, 387.35, 387.83, 388.58, 388.96, 389.02, 389.48, 389.66, 389.78, 389.84, 390.27]   \n",
       "speaker_info                                                                                                                                                                                                              {'speaker_breakdown': [['guest', 374.0, 390.74]], 'guest_name': 'Vuk Jeremić', 'host': 'Predrag Blagojević', 'guest_description': 'kandidat za predsednika'}   \n",
       "split                                                                                                                                                                                                                                                                                                                                                                            train   \n",
       "\n",
       "                                                                                                                                                                                                                                                          5730  \n",
       "path                                                                                                                                                                                                                 seg_audio/ao2BlYF0sWo__296.4__313.0__.wav  \n",
       "orig_file                                                                                                                                                                                                                                audio/ao2BlYF0sWo.wav  \n",
       "start                                                                                                                                                                                                                                                    296.4  \n",
       "end                                                                                                                                                                                                                                                      313.0  \n",
       "words                                                      [Videćemo, da, problem, nije, samo, u, Nišu,, problem, je, i, u, prestonici,, koja, se, postavlja, kao, tutor, prema, nama., Ja, ne, znam, kako, Gradonačelnik, ali, i, gradska, vlast, dozvoljava]  \n",
       "norm_words                                                    [videćemo, da, problem, nije, samo, u, nišu, problem, je, i, u, prestonici, koja, se, postavlja, kao, tutor, prema, nama, ja, ne, znam, kako, gradonačelnik, ali, i, gradska, vlast, dozvoljava]  \n",
       "norm_words_start_times  [296.83, 297.41, 298.22, 298.67, 298.96, 299.3, 299.38, 299.77, 300.26, 300.49, 300.64, 300.93, 301.63, 302.45, 303.12, 303.7, 304.68, 305.12, 305.38, 306.55, 306.72, 306.81, 307.32, 308.76, 309.79, 310.09, 310.79, 311.26, 311.67]  \n",
       "speaker_info                                                                     {'speaker_breakdown': [['guest', 296.83, 312.31]], 'guest_name': 'Nikola Božilović', 'host': 'Jelena Canić', 'guest_description': 'profesor na Filozofskom fakultetu u Nišu'}  \n",
       "split                                                                                                                                                                                                                                                    train  "
      ]
     },
     "execution_count": 22,
     "metadata": {},
     "output_type": "execute_result"
    }
   ],
   "source": [
    "pd.set_option(\"display.max_colwidth\", None)\n",
    "JV.sample(6).T"
   ]
  },
  {
   "cell_type": "code",
   "execution_count": 23,
   "metadata": {},
   "outputs": [
    {
     "data": {
      "text/plain": [
       "Index(['file', 'start', 'end', 'asr_transcription', 'kaldi_transcript',\n",
       "       'guest_name', 'guest_description', 'host', 'kaldi_words',\n",
       "       'kaldi_word_starts', 'kaldi_word_ends', 'segment_file',\n",
       "       'average_distance', 'similarity_ratio', 'speaker_breakdown'],\n",
       "      dtype='object')"
      ]
     },
     "execution_count": 23,
     "metadata": {},
     "output_type": "execute_result"
    }
   ],
   "source": [
    "df.columns"
   ]
  },
  {
   "cell_type": "code",
   "execution_count": 24,
   "metadata": {},
   "outputs": [
    {
     "name": "stdout",
     "output_type": "stream",
     "text": [
      "9984\n"
     ]
    }
   ],
   "source": [
    "for i, row in JV.iterrows():\n",
    "    curdict = row[\"speaker_info\"]\n",
    "    curbreakdown = curdict[\"speaker_breakdown\"]\n",
    "    try:\n",
    "        starts = [j[1] for j in curbreakdown]\n",
    "        ends = [j[2] for j in curbreakdown]\n",
    "        if len(starts) != len(set(starts)):\n",
    "            print(i)\n",
    "    except:\n",
    "        continue"
   ]
  },
  {
   "cell_type": "code",
   "execution_count": 25,
   "metadata": {},
   "outputs": [],
   "source": [
    "JV.loc[9984, \"speaker_info\"][\"speaker_breakdown\"] = [['host', 467.95, 468.19],\n",
    "                                                    ['guest', 468.19, 484.7],\n",
    "                                                    ]"
   ]
  },
  {
   "cell_type": "code",
   "execution_count": 26,
   "metadata": {},
   "outputs": [
    {
     "data": {
      "text/plain": [
       "{'speaker_breakdown': [['host', 467.95, 468.19], ['guest', 468.19, 484.7]],\n",
       " 'guest_name': 'Igor Novaković',\n",
       " 'host': 'Predrag Blagojević',\n",
       " 'guest_description': 'direktor “Jugoistoka”'}"
      ]
     },
     "execution_count": 26,
     "metadata": {},
     "output_type": "execute_result"
    }
   ],
   "source": [
    "JV.loc[9984, \"speaker_info\"]"
   ]
  },
  {
   "cell_type": "code",
   "execution_count": 27,
   "metadata": {},
   "outputs": [],
   "source": [
    "for i, row in JV.iterrows():\n",
    "    curdict = row[\"speaker_info\"]\n",
    "    curbreakdown = curdict[\"speaker_breakdown\"]\n",
    "    try:\n",
    "        starts = [j[1] for j in curbreakdown]\n",
    "        ends = [j[2] for j in curbreakdown]\n",
    "        if len(starts) != len(set(starts)):\n",
    "            print(i)\n",
    "    except:\n",
    "        continue"
   ]
  },
  {
   "cell_type": "markdown",
   "metadata": {},
   "source": [
    "Are there `JV:` prompts in `words`?"
   ]
  },
  {
   "cell_type": "code",
   "execution_count": 28,
   "metadata": {},
   "outputs": [
    {
     "data": {
      "text/plain": [
       "True"
      ]
     },
     "execution_count": 28,
     "metadata": {},
     "output_type": "execute_result"
    }
   ],
   "source": [
    "\"JV:\" in \" \".join(JV.words.apply(\" \".join).tolist())"
   ]
  },
  {
   "cell_type": "code",
   "execution_count": 29,
   "metadata": {},
   "outputs": [],
   "source": [
    "def filter(l:list)-> list:\n",
    "    return [w.replace(\"<anchor_start>\", \"\").replace(\"<anchor_end>\", \"\").replace(\"JV:\", \"\") for w in l if w != \"\"]\n",
    "\n",
    "JV[\"norm_words\"] = JV.norm_words.apply(filter)\n",
    "JV[\"words\"] = JV.words.apply(filter)"
   ]
  },
  {
   "cell_type": "code",
   "execution_count": 30,
   "metadata": {},
   "outputs": [
    {
     "data": {
      "text/plain": [
       "False"
      ]
     },
     "execution_count": 30,
     "metadata": {},
     "output_type": "execute_result"
    }
   ],
   "source": [
    "\"JV:\" in \" \".join(JV.words.apply(\" \".join).tolist())"
   ]
  },
  {
   "cell_type": "code",
   "execution_count": 31,
   "metadata": {},
   "outputs": [],
   "source": [
    "norm_start_times = []\n",
    "speaker_infos = []\n",
    "for i, row in JV.iterrows():\n",
    "    curdict = row[\"speaker_info\"]\n",
    "    start = row[\"start\"]\n",
    "    curbreakdown = [[j[0], \n",
    "                     round(j[1] - start, 2), \n",
    "                     round(j[2] - start, 2)] \n",
    "                     for j in curdict[\"speaker_breakdown\"]]\n",
    "    norm_start_times.append([round(j - start, 2) for j in row[\"norm_words_start_times\"]])\n",
    "    speaker_infos.append({**curdict, \"speaker_breakdown\": curbreakdown})\n",
    "    if not len(row[\"norm_words\"]) == len(row[\"norm_words_start_times\"]):\n",
    "        print(i)\n",
    "JV[\"norm_words_start_times\"] = norm_start_times\n",
    "JV[\"speaker_info\"] = speaker_infos\n",
    "    "
   ]
  },
  {
   "cell_type": "markdown",
   "metadata": {},
   "source": [
    "Checking if the number of word start times match the number of words:\n"
   ]
  },
  {
   "cell_type": "code",
   "execution_count": null,
   "metadata": {},
   "outputs": [],
   "source": [
    "for i, row in JV.iterrows():\n",
    "    if not len(row[\"norm_words\"]) == len(row[\"norm_words_start_times\"]):\n",
    "        print(i)"
   ]
  },
  {
   "cell_type": "code",
   "execution_count": null,
   "metadata": {},
   "outputs": [],
   "source": [
    "JV.to_json(\"JuzneVesti-SR.v1.0.1.jsonl\", lines=True, orient=\"records\")\n"
   ]
  },
  {
   "cell_type": "code",
   "execution_count": null,
   "metadata": {},
   "outputs": [],
   "source": []
  }
 ],
 "metadata": {
  "kernelspec": {
   "display_name": "Python 3.9.7 ('base')",
   "language": "python",
   "name": "python3"
  },
  "language_info": {
   "codemirror_mode": {
    "name": "ipython",
    "version": 3
   },
   "file_extension": ".py",
   "mimetype": "text/x-python",
   "name": "python",
   "nbconvert_exporter": "python",
   "pygments_lexer": "ipython3",
   "version": "3.9.7"
  },
  "orig_nbformat": 4,
  "vscode": {
   "interpreter": {
    "hash": "2d30c88cb7145d662123f76f8c64609bc18e52940d2861adec2407b68f2e334f"
   }
  }
 },
 "nbformat": 4,
 "nbformat_minor": 2
}
