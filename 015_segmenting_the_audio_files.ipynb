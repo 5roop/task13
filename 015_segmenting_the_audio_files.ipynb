{
 "cells": [
  {
   "cell_type": "code",
   "execution_count": 1,
   "metadata": {},
   "outputs": [],
   "source": [
    "import pandas as pd\n",
    "from pathlib import Path\n",
    "\n",
    "audiodir = Path(\"audio\")\n",
    "destinationdir = Path(\"seg_audio\")"
   ]
  },
  {
   "cell_type": "code",
   "execution_count": 2,
   "metadata": {},
   "outputs": [
    {
     "data": {
      "text/plain": [
       "PosixPath('/home/rupnik/macocu_backup/task13/audio')"
      ]
     },
     "execution_count": 2,
     "metadata": {},
     "output_type": "execute_result"
    }
   ],
   "source": [
    "audiodir.absolute()"
   ]
  },
  {
   "cell_type": "code",
   "execution_count": 8,
   "metadata": {},
   "outputs": [],
   "source": [
    "paths_to_snip = [x for x in audiodir.iterdir()]\n",
    "df = pd.read_json(\"013_segments_matched.jsonl\", lines=True)"
   ]
  },
  {
   "cell_type": "code",
   "execution_count": 34,
   "metadata": {},
   "outputs": [],
   "source": [
    "from pydub import AudioSegment \n",
    "\n",
    "def clip_file(in_path: Path, start_sec: float, end_sec: float) -> str:\n",
    "    audiosegment = AudioSegment.from_wav(str(in_path.absolute()))\n",
    "    basename = in_path.stem\n",
    "    outfilename = str(destinationdir / basename) + f\"__{start_sec:.1f}__{end_sec:.1f}__.wav\"\n",
    "    audiosegment[int(1e3*start_sec):int(1e3*end_sec)].export(\n",
    "        outfilename,\n",
    "        format=\"wav\"\n",
    "    )\n",
    "    return outfilename\n"
   ]
  },
  {
   "cell_type": "code",
   "execution_count": 35,
   "metadata": {},
   "outputs": [
    {
     "data": {
      "text/plain": [
       "PosixPath('audio/qbFthTl1OjA.wav')"
      ]
     },
     "execution_count": 35,
     "metadata": {},
     "output_type": "execute_result"
    }
   ],
   "source": [
    "paths_to_snip[0]"
   ]
  },
  {
   "cell_type": "code",
   "execution_count": 36,
   "metadata": {},
   "outputs": [
    {
     "data": {
      "text/plain": [
       "'seg_audio/qbFthTl1OjA__1.0__2.0__.wav'"
      ]
     },
     "execution_count": 36,
     "metadata": {},
     "output_type": "execute_result"
    }
   ],
   "source": [
    "clip_file(paths_to_snip[0], 1,2)"
   ]
  },
  {
   "cell_type": "code",
   "execution_count": 37,
   "metadata": {},
   "outputs": [
    {
     "data": {
      "application/vnd.jupyter.widget-view+json": {
       "model_id": "a7b11ec38e9c4573b3dc1ccd00ddfb3f",
       "version_major": 2,
       "version_minor": 0
      },
      "text/plain": [
       "0it [00:00, ?it/s]"
      ]
     },
     "metadata": {},
     "output_type": "display_data"
    }
   ],
   "source": [
    "from tqdm.auto import tqdm\n",
    "filenames = []\n",
    "\n",
    "for i, row in tqdm(df.iterrows()):\n",
    "    fname = clip_file(\n",
    "        Path(row['file']),\n",
    "        row['start'],\n",
    "        row['end']\n",
    "        )\n",
    "    filenames.append(fname)\n",
    "df[\"segment_file\"] = filenames"
   ]
  },
  {
   "cell_type": "code",
   "execution_count": 39,
   "metadata": {},
   "outputs": [
    {
     "data": {
      "text/html": [
       "<div>\n",
       "<style scoped>\n",
       "    .dataframe tbody tr th:only-of-type {\n",
       "        vertical-align: middle;\n",
       "    }\n",
       "\n",
       "    .dataframe tbody tr th {\n",
       "        vertical-align: top;\n",
       "    }\n",
       "\n",
       "    .dataframe thead th {\n",
       "        text-align: right;\n",
       "    }\n",
       "</style>\n",
       "<table border=\"1\" class=\"dataframe\">\n",
       "  <thead>\n",
       "    <tr style=\"text-align: right;\">\n",
       "      <th></th>\n",
       "      <th>file</th>\n",
       "      <th>start</th>\n",
       "      <th>end</th>\n",
       "      <th>text</th>\n",
       "      <th>asr_transcription</th>\n",
       "      <th>ratio</th>\n",
       "      <th>webpage_transcript</th>\n",
       "      <th>segment_file</th>\n",
       "    </tr>\n",
       "  </thead>\n",
       "  <tbody>\n",
       "    <tr>\n",
       "      <th>0</th>\n",
       "      <td>audio/00DtyZ2sCUM.wav</td>\n",
       "      <td>12.0</td>\n",
       "      <td>27.5</td>\n",
       "      <td>upreko s pričama da srbiji ide sve bolje izgle...</td>\n",
       "      <td></td>\n",
       "      <td></td>\n",
       "      <td></td>\n",
       "      <td>seg_audio/00DtyZ2sCUM__12.0__27.5__.wav</td>\n",
       "    </tr>\n",
       "    <tr>\n",
       "      <th>1</th>\n",
       "      <td>audio/00DtyZ2sCUM.wav</td>\n",
       "      <td>27.5</td>\n",
       "      <td>43.4</td>\n",
       "      <td>kada su mediji nedavno prenijeli informaciju g...</td>\n",
       "      <td></td>\n",
       "      <td></td>\n",
       "      <td></td>\n",
       "      <td>seg_audio/00DtyZ2sCUM__27.5__43.4__.wav</td>\n",
       "    </tr>\n",
       "    <tr>\n",
       "      <th>2</th>\n",
       "      <td>audio/00DtyZ2sCUM.wav</td>\n",
       "      <td>43.5</td>\n",
       "      <td>65.0</td>\n",
       "      <td>pa kažu da statistika kao i bikini otkriva pok...</td>\n",
       "      <td></td>\n",
       "      <td></td>\n",
       "      <td></td>\n",
       "      <td>seg_audio/00DtyZ2sCUM__43.5__65.0__.wav</td>\n",
       "    </tr>\n",
       "    <tr>\n",
       "      <th>3</th>\n",
       "      <td>audio/00DtyZ2sCUM.wav</td>\n",
       "      <td>65.0</td>\n",
       "      <td>79.5</td>\n",
       "      <td>ali mnogi naravno i analitičari izražavaju sum...</td>\n",
       "      <td></td>\n",
       "      <td></td>\n",
       "      <td></td>\n",
       "      <td>seg_audio/00DtyZ2sCUM__65.0__79.5__.wav</td>\n",
       "    </tr>\n",
       "    <tr>\n",
       "      <th>4</th>\n",
       "      <td>audio/00DtyZ2sCUM.wav</td>\n",
       "      <td>79.5</td>\n",
       "      <td>97.2</td>\n",
       "      <td>očigledno nam porastu društvenog bruto proizvo...</td>\n",
       "      <td></td>\n",
       "      <td></td>\n",
       "      <td></td>\n",
       "      <td>seg_audio/00DtyZ2sCUM__79.5__97.2__.wav</td>\n",
       "    </tr>\n",
       "  </tbody>\n",
       "</table>\n",
       "</div>"
      ],
      "text/plain": [
       "                    file  start   end  \\\n",
       "0  audio/00DtyZ2sCUM.wav   12.0  27.5   \n",
       "1  audio/00DtyZ2sCUM.wav   27.5  43.4   \n",
       "2  audio/00DtyZ2sCUM.wav   43.5  65.0   \n",
       "3  audio/00DtyZ2sCUM.wav   65.0  79.5   \n",
       "4  audio/00DtyZ2sCUM.wav   79.5  97.2   \n",
       "\n",
       "                                                text asr_transcription ratio  \\\n",
       "0  upreko s pričama da srbiji ide sve bolje izgle...                           \n",
       "1  kada su mediji nedavno prenijeli informaciju g...                           \n",
       "2  pa kažu da statistika kao i bikini otkriva pok...                           \n",
       "3  ali mnogi naravno i analitičari izražavaju sum...                           \n",
       "4  očigledno nam porastu društvenog bruto proizvo...                           \n",
       "\n",
       "  webpage_transcript                             segment_file  \n",
       "0                     seg_audio/00DtyZ2sCUM__12.0__27.5__.wav  \n",
       "1                     seg_audio/00DtyZ2sCUM__27.5__43.4__.wav  \n",
       "2                     seg_audio/00DtyZ2sCUM__43.5__65.0__.wav  \n",
       "3                     seg_audio/00DtyZ2sCUM__65.0__79.5__.wav  \n",
       "4                     seg_audio/00DtyZ2sCUM__79.5__97.2__.wav  "
      ]
     },
     "execution_count": 39,
     "metadata": {},
     "output_type": "execute_result"
    }
   ],
   "source": [
    "df.head()"
   ]
  },
  {
   "cell_type": "code",
   "execution_count": null,
   "metadata": {},
   "outputs": [],
   "source": []
  }
 ],
 "metadata": {
  "kernelspec": {
   "display_name": "Python 3.9.7 ('base')",
   "language": "python",
   "name": "python3"
  },
  "language_info": {
   "codemirror_mode": {
    "name": "ipython",
    "version": 3
   },
   "file_extension": ".py",
   "mimetype": "text/x-python",
   "name": "python",
   "nbconvert_exporter": "python",
   "pygments_lexer": "ipython3",
   "version": "3.9.7"
  },
  "orig_nbformat": 4,
  "vscode": {
   "interpreter": {
    "hash": "2d30c88cb7145d662123f76f8c64609bc18e52940d2861adec2407b68f2e334f"
   }
  }
 },
 "nbformat": 4,
 "nbformat_minor": 2
}
