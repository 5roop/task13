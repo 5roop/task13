{
 "cells": [
  {
   "cell_type": "code",
   "execution_count": 1,
   "metadata": {},
   "outputs": [],
   "source": [
    "from pathlib import Path\n",
    "import pandas as pd\n",
    "import string\n"
   ]
  },
  {
   "cell_type": "code",
   "execution_count": 2,
   "metadata": {},
   "outputs": [
    {
     "data": {
      "text/html": [
       "<div>\n",
       "<style scoped>\n",
       "    .dataframe tbody tr th:only-of-type {\n",
       "        vertical-align: middle;\n",
       "    }\n",
       "\n",
       "    .dataframe tbody tr th {\n",
       "        vertical-align: top;\n",
       "    }\n",
       "\n",
       "    .dataframe thead th {\n",
       "        text-align: right;\n",
       "    }\n",
       "</style>\n",
       "<table border=\"1\" class=\"dataframe\">\n",
       "  <thead>\n",
       "    <tr style=\"text-align: right;\">\n",
       "      <th></th>\n",
       "      <th>model</th>\n",
       "      <th>transcription</th>\n",
       "    </tr>\n",
       "  </thead>\n",
       "  <tbody>\n",
       "    <tr>\n",
       "      <th>0</th>\n",
       "      <td>classla/wav2vec2-xls-r-parlaspeech-hr-lm</td>\n",
       "      <td>prije zapinfacijma ćearavaaženv hvala predsjed...</td>\n",
       "    </tr>\n",
       "    <tr>\n",
       "      <th>1</th>\n",
       "      <td>classla/wav2vec2-xls-r-parlaspeech-hr</td>\n",
       "      <td>oe prig zaopinforacijma  zk paajaćeapravae zap...</td>\n",
       "    </tr>\n",
       "    <tr>\n",
       "      <th>2</th>\n",
       "      <td>classla/wav2vec2-large-slavic-parlaspeech-hr</td>\n",
       "      <td>švavatenu tražim  u ime kluba stranke seta st...</td>\n",
       "    </tr>\n",
       "    <tr>\n",
       "      <th>3</th>\n",
       "      <td>classla/wav2vec2-large-slavic-parlaspeech-hr-lm</td>\n",
       "      <td>švvatenutražm u ime kluba stranke set tanka gl...</td>\n",
       "    </tr>\n",
       "  </tbody>\n",
       "</table>\n",
       "</div>"
      ],
      "text/plain": [
       "                                             model  \\\n",
       "0         classla/wav2vec2-xls-r-parlaspeech-hr-lm   \n",
       "1            classla/wav2vec2-xls-r-parlaspeech-hr   \n",
       "2     classla/wav2vec2-large-slavic-parlaspeech-hr   \n",
       "3  classla/wav2vec2-large-slavic-parlaspeech-hr-lm   \n",
       "\n",
       "                                       transcription  \n",
       "0  prije zapinfacijma ćearavaaženv hvala predsjed...  \n",
       "1  oe prig zaopinforacijma  zk paajaćeapravae zap...  \n",
       "2   švavatenu tražim  u ime kluba stranke seta st...  \n",
       "3  švvatenutražm u ime kluba stranke set tanka gl...  "
      ]
     },
     "execution_count": 2,
     "metadata": {},
     "output_type": "execute_result"
    }
   ],
   "source": [
    "df = pd.read_csv(\"010_some_models_transcriptions.csv\")\n",
    "df.head()"
   ]
  },
  {
   "cell_type": "code",
   "execution_count": 3,
   "metadata": {},
   "outputs": [],
   "source": [
    "def generate_differ_content(pred:str) -> str:\n",
    "    \"\"\"Generate comparatively pretty diff from input predictions\n",
    "    against global raw.\n",
    "\n",
    "    Args:\n",
    "        pred (str): Predictions to be compared\n",
    "\n",
    "    Returns:\n",
    "        str: Newline delimited diff.\n",
    "    \"\"\"\n",
    "    from difflib import Differ\n",
    "    differ_content = \"\"\n",
    "    for diff in list(Differ().compare(raw.split(), pred.split()))[:500]:\n",
    "        differ_content += diff + \"\\n\"\n",
    "    return differ_content"
   ]
  },
  {
   "cell_type": "code",
   "execution_count": 8,
   "metadata": {},
   "outputs": [],
   "source": [
    "wers = []\n",
    "cers = []\n",
    "for i, row in df.iterrows():\n",
    "    modelname = row[\"model\"]\n",
    "    raw = df.iloc[1,1]\n",
    "    pred = row[\"transcription\"].replace(\"<pad>\", \"\")\n",
    "    from datasets import load_metric\n",
    "\n",
    "    wer = load_metric(\"wer\")\n",
    "    cer = load_metric(\"cer\")\n",
    "\n",
    "    c = cer.compute(predictions = [pred], references = [raw])\n",
    "    w = wer.compute(predictions = [pred], references = [raw])\n",
    "    cers.append(c)\n",
    "    wers.append(w)\n",
    "    content = generate_differ_content(pred=pred)\n",
    "\n"
   ]
  },
  {
   "cell_type": "code",
   "execution_count": 9,
   "metadata": {},
   "outputs": [
    {
     "name": "stdout",
     "output_type": "stream",
     "text": [
      "| model                                           |      wer |       cer |\n",
      "|:------------------------------------------------|---------:|----------:|\n",
      "| classla/wav2vec2-xls-r-parlaspeech-hr-lm        | 0.144981 | 0.0387541 |\n",
      "| classla/wav2vec2-xls-r-parlaspeech-hr           | 0        | 0         |\n",
      "| classla/wav2vec2-large-slavic-parlaspeech-hr    | 0.329926 | 0.117841  |\n",
      "| classla/wav2vec2-large-slavic-parlaspeech-hr-lm | 0.282528 | 0.119994  |\n"
     ]
    }
   ],
   "source": [
    "df[\"cer\"] = cers\n",
    "df[\"wer\"] = wers\n",
    "print(df[\"model wer cer\".split()].to_markdown(index=False))"
   ]
  },
  {
   "cell_type": "code",
   "execution_count": null,
   "metadata": {},
   "outputs": [],
   "source": []
  }
 ],
 "metadata": {
  "interpreter": {
   "hash": "7f6f5766036ee03d059e365a942add07f79c17033585e9357ee8157d52fe6bb9"
  },
  "kernelspec": {
   "display_name": "Python 3.8.3 ('base')",
   "language": "python",
   "name": "python3"
  },
  "language_info": {
   "codemirror_mode": {
    "name": "ipython",
    "version": 3
   },
   "file_extension": ".py",
   "mimetype": "text/x-python",
   "name": "python",
   "nbconvert_exporter": "python",
   "pygments_lexer": "ipython3",
   "version": "3.8.3"
  },
  "orig_nbformat": 4
 },
 "nbformat": 4,
 "nbformat_minor": 2
}
