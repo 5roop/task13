{
 "cells": [
  {
   "cell_type": "code",
   "execution_count": 1,
   "metadata": {},
   "outputs": [],
   "source": [
    "import pandas as pd\n",
    "\n",
    "df = pd.read_csv(\"006_crawling_juznevesti.csv\")\n"
   ]
  },
  {
   "cell_type": "code",
   "execution_count": 2,
   "metadata": {},
   "outputs": [
    {
     "name": "stdout",
     "output_type": "stream",
     "text": [
      "Failed for 0 out of 299\n"
     ]
    }
   ],
   "source": [
    "def get_metadata(instr: str) -> str:\n",
    "    instr = instr.replace(u'\\xa0', u' ')\n",
    "    import parse\n",
    "    try:\n",
    "        pat = \"Gost: {guest}Razgovor vodi{voditi_suffix_and_sep} {host_name} {host_surname}{:s}{body}\"\n",
    "        p = parse.compile(pat)\n",
    "        results = p.parse(instr).named\n",
    "\n",
    "    except:\n",
    "        instr = \" \".join(instr.split()).replace(\":\", \"\")\n",
    "        pat = \"Gost{guest} Razgovor vodi{voditi_suffix_and_sep} {host_name} {host_surname}{:s}{body}\"\n",
    "        p = parse.compile(pat)\n",
    "        results = p.parse(instr).named\n",
    "    finally:\n",
    "        del results[\"voditi_suffix_and_sep\"]\n",
    "        return results\n",
    "\n",
    "num_errors = 0\n",
    "for i in df.transcript.values:\n",
    "    try:\n",
    "        get_metadata(i)\n",
    "    except:\n",
    "        num_errors += 1\n",
    "print(f\"Failed for {num_errors} out of {df.shape[0]}\")\n",
    "for j,i in enumerate(df.transcript.values):\n",
    "    try:\n",
    "        get_metadata(i)\n",
    "    except:\n",
    "        print(j, i.split(\"\\n\")[:3])"
   ]
  },
  {
   "cell_type": "code",
   "execution_count": 3,
   "metadata": {},
   "outputs": [],
   "source": [
    "df[\"metadata\"] = df.transcript.apply(get_metadata)"
   ]
  },
  {
   "cell_type": "code",
   "execution_count": 4,
   "metadata": {},
   "outputs": [],
   "source": [
    "df = pd.concat([df, df.metadata.apply(pd.Series)], axis=1)"
   ]
  },
  {
   "cell_type": "code",
   "execution_count": 5,
   "metadata": {},
   "outputs": [],
   "source": [
    "df[\"host\"] = df.apply(lambda row: row[\"host_name\"] + \" \" + row[\"host_surname\"], axis=1)\n",
    "df[\"guest_name\"] = df.guest.apply(lambda s: s.split(\",\")[0])\n",
    "df[\"guest_description\"] = df.guest.apply(lambda s: \",\".join(s.split(\",\")[1:]))"
   ]
  },
  {
   "cell_type": "markdown",
   "metadata": {},
   "source": [
    "# Post processing:\n",
    "\n",
    "Remove leading and trailing "
   ]
  },
  {
   "cell_type": "code",
   "execution_count": 6,
   "metadata": {},
   "outputs": [],
   "source": [
    "def remove_excess_whitespace(s:str)->str:\n",
    "    return \" \".join(s.split())\n",
    "df[\"host\"] = df.host.apply(remove_excess_whitespace)\n",
    "df[\"guest_name\"] = df.guest_name.apply(remove_excess_whitespace)\n",
    "df[\"guest_description\"] = df.guest_description.apply(remove_excess_whitespace)\n",
    "df = df.drop(columns=[\"host_name\", 'host_surname', 'guest', 'metadata'])"
   ]
  },
  {
   "cell_type": "markdown",
   "metadata": {},
   "source": [
    "Assign `None` to instances where we have no host name:"
   ]
  },
  {
   "cell_type": "code",
   "execution_count": 7,
   "metadata": {},
   "outputs": [],
   "source": [
    "df.loc[df.host == \"None None\", \"host\"] = None"
   ]
  },
  {
   "cell_type": "markdown",
   "metadata": {},
   "source": [
    "Prepare host questions for host speech tagging:"
   ]
  },
  {
   "cell_type": "code",
   "execution_count": 8,
   "metadata": {},
   "outputs": [
    {
     "data": {
      "text/plain": [
       "['Uprkos pričama da Srbiji ide sve bolje izgleda da građani to ne osećaju na svojoj koži. O tome koliko su pohvale na račun ekonomije u Srbiji realne, razgovaramo sa redovnim profesorom Ekonomskog fakulteta u Nišu Bobanom Stojanovićem. Dobro došli, profesore.',\n",
       " 'Kada su mediji nedavno preneli informaciju Gradske uprave za privredu da industrijska proizvodnja u Nišu beleži konstantni rast, ova vest je, sudeći po komentarima na društvenim mrežama, nasmejala mnoge građane. Koliko je ta statistika realna?',\n",
       " 'Kada govorimo i o statistici, i o zapošljavanju, koliko podatak da 64.000 ljudi u Nišu radi, koliko je on dobar, povoljan ili nepovoljan za grad veličine Niša?',\n",
       " 'Mislite na druge gradove na jugu?',\n",
       " 'Ko je odgovoran što nema takve politike?',\n",
       " 'Koje su konkretne mere koje bi unapredile situaciju na jugu?',\n",
       " 'Šta je rešenje?',\n",
       " 'Problem je što nema kontrole?',\n",
       " 'Kakva je situacija što se tiče malih privrednika? Svedoci smo togsa da oni pokrenu neki posao i vrlo brzo odustanu od njega. Da li to znači da su loši uslovi pod kojima oni rade?',\n",
       " 'Malopre ste pomenuli pomoć države onima kojima država želi da pomogne. Kada govorimo o Leoniju, na primer, na otvaranju novog pogona u Doljevcu rečeno je da je to investitor koji je uložio 36 miliona evra, međutim država je njima dala skoro 20 miliona evra. Da li to može da se smatra investiciom ili ne?',\n",
       " 'U državi se štedi uz veliku medijsku pompu. Znamo da su smanjene plate uz javnom sektoru, snižene su dnevnice. Sa druge strane ne vidimo te jake investitore ili ako ih bude oni dobijaju pomoć od države. Gde može da nas odvede takva štednja bez investicija?',\n",
       " 'Spoljni dug Srbije iznosi 75% bruto društvenog proizvoda što je 26 milijardi evra. Kako nekome ko nema ekonomsko predznanje objasniti o kojoj cifri je reč i da li građani treba da se boje tog duga?',\n",
       " 'Šta mogu da očekuju oni koji su se zaduživali u francima?',\n",
       " 'Zamolila bih vas za kraj da nam kažete šta očekujete od otvaranja poglavlja pregovora sa EU?',\n",
       " 'Šta mi konkretno dobijamo?',\n",
       " 'Hvala vam na gostovanju.',\n",
       " 'Moje ime je Sanja Janačković, gledali ste emisiju 15 minuta.']"
      ]
     },
     "execution_count": 8,
     "metadata": {},
     "output_type": "execute_result"
    }
   ],
   "source": [
    "body = df.body[0]\n",
    "from typing import List\n",
    "def extract_questions_from_body(body:str) -> List[str]:\n",
    "    return [remove_excess_whitespace(i.replace(\"JV:\", \"\").replace(\"JV\", \"\")) for i in body.split(\"\\n\") if \" \".join(i.split()).startswith(\"JV\")]\n",
    "extract_questions_from_body(body)"
   ]
  },
  {
   "cell_type": "code",
   "execution_count": 9,
   "metadata": {},
   "outputs": [],
   "source": [
    "df[\"host_questions\"] = df.body.apply(extract_questions_from_body)"
   ]
  },
  {
   "cell_type": "code",
   "execution_count": 244,
   "metadata": {},
   "outputs": [
    {
     "data": {
      "text/plain": [
       "(298, 10)"
      ]
     },
     "execution_count": 244,
     "metadata": {},
     "output_type": "execute_result"
    }
   ],
   "source": [
    "df = df[df.yt_hash != \"_BzZf0fGg0E\"]\n",
    "df.shape"
   ]
  },
  {
   "cell_type": "code",
   "execution_count": 247,
   "metadata": {},
   "outputs": [
    {
     "data": {
      "text/html": [
       "<div>\n",
       "<style scoped>\n",
       "    .dataframe tbody tr th:only-of-type {\n",
       "        vertical-align: middle;\n",
       "    }\n",
       "\n",
       "    .dataframe tbody tr th {\n",
       "        vertical-align: top;\n",
       "    }\n",
       "\n",
       "    .dataframe thead th {\n",
       "        text-align: right;\n",
       "    }\n",
       "</style>\n",
       "<table border=\"1\" class=\"dataframe\">\n",
       "  <thead>\n",
       "    <tr style=\"text-align: right;\">\n",
       "      <th></th>\n",
       "      <th>url</th>\n",
       "      <th>yt_hash</th>\n",
       "      <th>transcript</th>\n",
       "      <th>exists</th>\n",
       "      <th>path</th>\n",
       "      <th>body</th>\n",
       "      <th>host</th>\n",
       "      <th>guest_name</th>\n",
       "      <th>guest_description</th>\n",
       "      <th>host_questions</th>\n",
       "    </tr>\n",
       "  </thead>\n",
       "  <tbody>\n",
       "    <tr>\n",
       "      <th>0</th>\n",
       "      <td>https://www.juznevesti.com...</td>\n",
       "      <td>00DtyZ2sCUM</td>\n",
       "      <td>Gost: Boban Stojanović, re...</td>\n",
       "      <td>True</td>\n",
       "      <td>audio/00DtyZ2sCUM.wav</td>\n",
       "      <td>JV: Uprkos pričama da Srbi...</td>\n",
       "      <td>Sanja Janačković</td>\n",
       "      <td>Boban Stojanović</td>\n",
       "      <td>redovni profesor Ekonomsko...</td>\n",
       "      <td>[Uprkos pričama da Srbiji ...</td>\n",
       "    </tr>\n",
       "    <tr>\n",
       "      <th>1</th>\n",
       "      <td>https://www.juznevesti.com...</td>\n",
       "      <td>58xZSVbpgkk</td>\n",
       "      <td>Gost: Slavoljub Vlajković,...</td>\n",
       "      <td>True</td>\n",
       "      <td>audio/58xZSVbpgkk.wav</td>\n",
       "      <td>JV: Nekoliko puta smo pona...</td>\n",
       "      <td>Predrag Blagojević</td>\n",
       "      <td>Slavoljub Vlajković</td>\n",
       "      <td>narodni poslanik SPS iz Niša</td>\n",
       "      <td>[Nekoliko puta smo ponavlj...</td>\n",
       "    </tr>\n",
       "    <tr>\n",
       "      <th>2</th>\n",
       "      <td>https://www.juznevesti.com...</td>\n",
       "      <td>YKAqDCyINz4</td>\n",
       "      <td>Gost: Zoran Žuvković, pred...</td>\n",
       "      <td>True</td>\n",
       "      <td>audio/YKAqDCyINz4.wav</td>\n",
       "      <td>JV: U poslednjih godinu da...</td>\n",
       "      <td>Predrag Blagojević</td>\n",
       "      <td>Zoran Žuvković</td>\n",
       "      <td>predsednik Nove stranke</td>\n",
       "      <td>[U poslednjih godinu dana,...</td>\n",
       "    </tr>\n",
       "    <tr>\n",
       "      <th>3</th>\n",
       "      <td>https://www.juznevesti.com...</td>\n",
       "      <td>2QShGnPuVjQ</td>\n",
       "      <td>Gost: Majkl Devenport, Šef...</td>\n",
       "      <td>True</td>\n",
       "      <td>audio/2QShGnPuVjQ.wav</td>\n",
       "      <td>JV: Srbija je napravila ve...</td>\n",
       "      <td>Predrag Blagojević</td>\n",
       "      <td>Majkl Devenport</td>\n",
       "      <td>Šef Delegacije EU u Srbiji</td>\n",
       "      <td>[Srbija je napravila velik...</td>\n",
       "    </tr>\n",
       "    <tr>\n",
       "      <th>4</th>\n",
       "      <td>https://www.juznevesti.com...</td>\n",
       "      <td>khEIELaXKwI</td>\n",
       "      <td>Gost: Jelena Đorđević, Odb...</td>\n",
       "      <td>True</td>\n",
       "      <td>audio/khEIELaXKwI.wav</td>\n",
       "      <td>JV: Zbog toga što nije hte...</td>\n",
       "      <td>Vesna Milić</td>\n",
       "      <td>Jelena Đorđević</td>\n",
       "      <td>Odbornica u Skupštini grad...</td>\n",
       "      <td>[Zbog toga što nije htela ...</td>\n",
       "    </tr>\n",
       "    <tr>\n",
       "      <th>...</th>\n",
       "      <td>...</td>\n",
       "      <td>...</td>\n",
       "      <td>...</td>\n",
       "      <td>...</td>\n",
       "      <td>...</td>\n",
       "      <td>...</td>\n",
       "      <td>...</td>\n",
       "      <td>...</td>\n",
       "      <td>...</td>\n",
       "      <td>...</td>\n",
       "    </tr>\n",
       "    <tr>\n",
       "      <th>294</th>\n",
       "      <td>https://www.juznevesti.com...</td>\n",
       "      <td>a1cN7-Y29_g</td>\n",
       "      <td>Gost: Dragan Petković, sav...</td>\n",
       "      <td>True</td>\n",
       "      <td>audio/a1cN7-Y29_g.wav</td>\n",
       "      <td>JV: U četvrtak su u Nišu s...</td>\n",
       "      <td>Predrag Blagojević</td>\n",
       "      <td>Dragan Petković</td>\n",
       "      <td>savetnik za evropske integ...</td>\n",
       "      <td>[U četvrtak su u Nišu sveč...</td>\n",
       "    </tr>\n",
       "    <tr>\n",
       "      <th>295</th>\n",
       "      <td>https://www.juznevesti.com...</td>\n",
       "      <td>6CTWDc4amzU</td>\n",
       "      <td>Gost: Vladica Dimitrov, na...</td>\n",
       "      <td>True</td>\n",
       "      <td>audio/6CTWDc4amzU.wav</td>\n",
       "      <td>JV: Iako je na političkoj ...</td>\n",
       "      <td>Aleksandar Stankov</td>\n",
       "      <td>Vladica Dimitrov</td>\n",
       "      <td>narodni poslanik SNS iz Di...</td>\n",
       "      <td>[Iako je na političkoj sce...</td>\n",
       "    </tr>\n",
       "    <tr>\n",
       "      <th>296</th>\n",
       "      <td>https://www.juznevesti.com...</td>\n",
       "      <td>IUIKV9XlWEM</td>\n",
       "      <td>Gost: Spasoje Milovanović,...</td>\n",
       "      <td>True</td>\n",
       "      <td>audio/IUIKV9XlWEM.wav</td>\n",
       "      <td>JV: Niško Narodno pozorišt...</td>\n",
       "      <td>Milan Zirojević</td>\n",
       "      <td>Spasoje Milovanović</td>\n",
       "      <td>direktor Narodnog pozorišt...</td>\n",
       "      <td>[Niško Narodno pozorište k...</td>\n",
       "    </tr>\n",
       "    <tr>\n",
       "      <th>297</th>\n",
       "      <td>https://www.juznevesti.com...</td>\n",
       "      <td>2-F5yoHSn5k</td>\n",
       "      <td>Gost: Vukosava Crnjanski i...</td>\n",
       "      <td>True</td>\n",
       "      <td>audio/2-F5yoHSn5k.wav</td>\n",
       "      <td>JV: Poslednji lokalni izbo...</td>\n",
       "      <td>Predrag Blagojević</td>\n",
       "      <td>Vukosava Crnjanski i Jovan...</td>\n",
       "      <td></td>\n",
       "      <td>[Poslednji lokalni izbori ...</td>\n",
       "    </tr>\n",
       "    <tr>\n",
       "      <th>298</th>\n",
       "      <td>https://www.juznevesti.com...</td>\n",
       "      <td>fTfyE4ZdZqY</td>\n",
       "      <td>Gost: Rodoljub Šabić, Pove...</td>\n",
       "      <td>True</td>\n",
       "      <td>audio/fTfyE4ZdZqY.wav</td>\n",
       "      <td>JV: Od kada je 2004. usvoj...</td>\n",
       "      <td>Predrag Blagojević</td>\n",
       "      <td>Rodoljub Šabić</td>\n",
       "      <td>Poverenik za informacije o...</td>\n",
       "      <td>[Od kada je 2004. usvojen ...</td>\n",
       "    </tr>\n",
       "  </tbody>\n",
       "</table>\n",
       "<p>298 rows × 10 columns</p>\n",
       "</div>"
      ],
      "text/plain": [
       "                               url      yt_hash  \\\n",
       "0    https://www.juznevesti.com...  00DtyZ2sCUM   \n",
       "1    https://www.juznevesti.com...  58xZSVbpgkk   \n",
       "2    https://www.juznevesti.com...  YKAqDCyINz4   \n",
       "3    https://www.juznevesti.com...  2QShGnPuVjQ   \n",
       "4    https://www.juznevesti.com...  khEIELaXKwI   \n",
       "..                             ...          ...   \n",
       "294  https://www.juznevesti.com...  a1cN7-Y29_g   \n",
       "295  https://www.juznevesti.com...  6CTWDc4amzU   \n",
       "296  https://www.juznevesti.com...  IUIKV9XlWEM   \n",
       "297  https://www.juznevesti.com...  2-F5yoHSn5k   \n",
       "298  https://www.juznevesti.com...  fTfyE4ZdZqY   \n",
       "\n",
       "                        transcript  exists                   path  \\\n",
       "0    Gost: Boban Stojanović, re...    True  audio/00DtyZ2sCUM.wav   \n",
       "1    Gost: Slavoljub Vlajković,...    True  audio/58xZSVbpgkk.wav   \n",
       "2    Gost: Zoran Žuvković, pred...    True  audio/YKAqDCyINz4.wav   \n",
       "3    Gost: Majkl Devenport, Šef...    True  audio/2QShGnPuVjQ.wav   \n",
       "4    Gost: Jelena Đorđević, Odb...    True  audio/khEIELaXKwI.wav   \n",
       "..                             ...     ...                    ...   \n",
       "294  Gost: Dragan Petković, sav...    True  audio/a1cN7-Y29_g.wav   \n",
       "295  Gost: Vladica Dimitrov, na...    True  audio/6CTWDc4amzU.wav   \n",
       "296  Gost: Spasoje Milovanović,...    True  audio/IUIKV9XlWEM.wav   \n",
       "297  Gost: Vukosava Crnjanski i...    True  audio/2-F5yoHSn5k.wav   \n",
       "298  Gost: Rodoljub Šabić, Pove...    True  audio/fTfyE4ZdZqY.wav   \n",
       "\n",
       "                              body                host  \\\n",
       "0    JV: Uprkos pričama da Srbi...    Sanja Janačković   \n",
       "1    JV: Nekoliko puta smo pona...  Predrag Blagojević   \n",
       "2    JV: U poslednjih godinu da...  Predrag Blagojević   \n",
       "3    JV: Srbija je napravila ve...  Predrag Blagojević   \n",
       "4    JV: Zbog toga što nije hte...         Vesna Milić   \n",
       "..                             ...                 ...   \n",
       "294  JV: U četvrtak su u Nišu s...  Predrag Blagojević   \n",
       "295  JV: Iako je na političkoj ...  Aleksandar Stankov   \n",
       "296  JV: Niško Narodno pozorišt...     Milan Zirojević   \n",
       "297  JV: Poslednji lokalni izbo...  Predrag Blagojević   \n",
       "298  JV: Od kada je 2004. usvoj...  Predrag Blagojević   \n",
       "\n",
       "                        guest_name              guest_description  \\\n",
       "0                 Boban Stojanović  redovni profesor Ekonomsko...   \n",
       "1              Slavoljub Vlajković   narodni poslanik SPS iz Niša   \n",
       "2                   Zoran Žuvković        predsednik Nove stranke   \n",
       "3                  Majkl Devenport     Šef Delegacije EU u Srbiji   \n",
       "4                  Jelena Đorđević  Odbornica u Skupštini grad...   \n",
       "..                             ...                            ...   \n",
       "294                Dragan Petković  savetnik za evropske integ...   \n",
       "295               Vladica Dimitrov  narodni poslanik SNS iz Di...   \n",
       "296            Spasoje Milovanović  direktor Narodnog pozorišt...   \n",
       "297  Vukosava Crnjanski i Jovan...                                  \n",
       "298                 Rodoljub Šabić  Poverenik za informacije o...   \n",
       "\n",
       "                    host_questions  \n",
       "0    [Uprkos pričama da Srbiji ...  \n",
       "1    [Nekoliko puta smo ponavlj...  \n",
       "2    [U poslednjih godinu dana,...  \n",
       "3    [Srbija je napravila velik...  \n",
       "4    [Zbog toga što nije htela ...  \n",
       "..                             ...  \n",
       "294  [U četvrtak su u Nišu sveč...  \n",
       "295  [Iako je na političkoj sce...  \n",
       "296  [Niško Narodno pozorište k...  \n",
       "297  [Poslednji lokalni izbori ...  \n",
       "298  [Od kada je 2004. usvojen ...  \n",
       "\n",
       "[298 rows x 10 columns]"
      ]
     },
     "execution_count": 247,
     "metadata": {},
     "output_type": "execute_result"
    }
   ],
   "source": [
    "pd.set_option(\"max_colwidth\", 30)\n",
    "df"
   ]
  },
  {
   "cell_type": "code",
   "execution_count": 248,
   "metadata": {},
   "outputs": [],
   "source": [
    "df.to_json(\"020_JV_with_metadata.jsonl\", orient=\"records\", lines=True)"
   ]
  },
  {
   "cell_type": "code",
   "execution_count": null,
   "metadata": {},
   "outputs": [],
   "source": []
  }
 ],
 "metadata": {
  "kernelspec": {
   "display_name": "Python 3.9.7 ('base')",
   "language": "python",
   "name": "python3"
  },
  "language_info": {
   "codemirror_mode": {
    "name": "ipython",
    "version": 3
   },
   "file_extension": ".py",
   "mimetype": "text/x-python",
   "name": "python",
   "nbconvert_exporter": "python",
   "pygments_lexer": "ipython3",
   "version": "3.9.7"
  },
  "orig_nbformat": 4,
  "vscode": {
   "interpreter": {
    "hash": "2d30c88cb7145d662123f76f8c64609bc18e52940d2861adec2407b68f2e334f"
   }
  }
 },
 "nbformat": 4,
 "nbformat_minor": 2
}
