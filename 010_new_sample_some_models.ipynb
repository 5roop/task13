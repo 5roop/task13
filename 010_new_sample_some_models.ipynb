{
 "cells": [
  {
   "cell_type": "code",
   "execution_count": 1,
   "metadata": {},
   "outputs": [
    {
     "name": "stderr",
     "output_type": "stream",
     "text": [
      "Only 0 unigrams passed as vocabulary. Is this small or artificial data?\n"
     ]
    },
    {
     "data": {
      "application/vnd.jupyter.widget-view+json": {
       "model_id": "f3d2fcadeeb4409799c80ff7c456f25d",
       "version_major": 2,
       "version_minor": 0
      },
      "text/plain": [
       "Downloading:   0%|          | 0.00/214 [00:00<?, ?B/s]"
      ]
     },
     "metadata": {},
     "output_type": "display_data"
    },
    {
     "name": "stderr",
     "output_type": "stream",
     "text": [
      "Special tokens have been added in the vocabulary, make sure the associated word embeddings are fine-tuned or trained.\n"
     ]
    },
    {
     "data": {
      "application/vnd.jupyter.widget-view+json": {
       "model_id": "a87cf2108cf1485385a73568b3fb8dc7",
       "version_major": 2,
       "version_minor": 0
      },
      "text/plain": [
       "Downloading:   0%|          | 0.00/214 [00:00<?, ?B/s]"
      ]
     },
     "metadata": {},
     "output_type": "display_data"
    },
    {
     "data": {
      "application/vnd.jupyter.widget-view+json": {
       "model_id": "23eacd3afce24c2fa6e2bf7e2adfae4d",
       "version_major": 2,
       "version_minor": 0
      },
      "text/plain": [
       "Downloading:   0%|          | 0.00/2.27k [00:00<?, ?B/s]"
      ]
     },
     "metadata": {},
     "output_type": "display_data"
    },
    {
     "data": {
      "application/vnd.jupyter.widget-view+json": {
       "model_id": "728d2c6b902548c082fab2cd046f9962",
       "version_major": 2,
       "version_minor": 0
      },
      "text/plain": [
       "Downloading:   0%|          | 0.00/463 [00:00<?, ?B/s]"
      ]
     },
     "metadata": {},
     "output_type": "display_data"
    },
    {
     "name": "stderr",
     "output_type": "stream",
     "text": [
      "Special tokens have been added in the vocabulary, make sure the associated word embeddings are fine-tuned or trained.\n"
     ]
    },
    {
     "data": {
      "application/vnd.jupyter.widget-view+json": {
       "model_id": "3f2232b675af45cc8d12437d34f794df",
       "version_major": 2,
       "version_minor": 0
      },
      "text/plain": [
       "Downloading:   0%|          | 0.00/1.18G [00:00<?, ?B/s]"
      ]
     },
     "metadata": {},
     "output_type": "display_data"
    },
    {
     "data": {
      "application/vnd.jupyter.widget-view+json": {
       "model_id": "8f3f1da7f7c44c64b5ab0e31e3fd8d74",
       "version_major": 2,
       "version_minor": 0
      },
      "text/plain": [
       "Downloading:   0%|          | 0.00/262 [00:00<?, ?B/s]"
      ]
     },
     "metadata": {},
     "output_type": "display_data"
    },
    {
     "data": {
      "application/vnd.jupyter.widget-view+json": {
       "model_id": "9ba74be448964d9c885f8829362204d4",
       "version_major": 2,
       "version_minor": 0
      },
      "text/plain": [
       "Downloading:   0%|          | 0.00/438 [00:00<?, ?B/s]"
      ]
     },
     "metadata": {},
     "output_type": "display_data"
    },
    {
     "data": {
      "application/vnd.jupyter.widget-view+json": {
       "model_id": "95735138a7d64f9d9b2249727f26dec7",
       "version_major": 2,
       "version_minor": 0
      },
      "text/plain": [
       "Downloading:   0%|          | 0.00/348 [00:00<?, ?B/s]"
      ]
     },
     "metadata": {},
     "output_type": "display_data"
    },
    {
     "data": {
      "application/vnd.jupyter.widget-view+json": {
       "model_id": "95a2e3ba4ce443308552a595ed5f32b6",
       "version_major": 2,
       "version_minor": 0
      },
      "text/plain": [
       "Downloading:   0%|          | 0.00/36.0 [00:00<?, ?B/s]"
      ]
     },
     "metadata": {},
     "output_type": "display_data"
    },
    {
     "data": {
      "application/vnd.jupyter.widget-view+json": {
       "model_id": "d149f8add03b409f807c227e4463c398",
       "version_major": 2,
       "version_minor": 0
      },
      "text/plain": [
       "Downloading:   0%|          | 0.00/407 [00:00<?, ?B/s]"
      ]
     },
     "metadata": {},
     "output_type": "display_data"
    },
    {
     "data": {
      "application/vnd.jupyter.widget-view+json": {
       "model_id": "47872e5a87a14bbf8b709a0fa7dec85c",
       "version_major": 2,
       "version_minor": 0
      },
      "text/plain": [
       "Downloading:   0%|          | 0.00/328 [00:00<?, ?B/s]"
      ]
     },
     "metadata": {},
     "output_type": "display_data"
    },
    {
     "data": {
      "application/vnd.jupyter.widget-view+json": {
       "model_id": "35bafe78e8db4b4fa4bcc5a632c2c423",
       "version_major": 2,
       "version_minor": 0
      },
      "text/plain": [
       "Downloading:   0%|          | 0.00/868M [00:00<?, ?B/s]"
      ]
     },
     "metadata": {},
     "output_type": "display_data"
    },
    {
     "data": {
      "application/vnd.jupyter.widget-view+json": {
       "model_id": "40e9ab6543484147ad5a1c3534310123",
       "version_major": 2,
       "version_minor": 0
      },
      "text/plain": [
       "Downloading:   0%|          | 0.00/78.0 [00:00<?, ?B/s]"
      ]
     },
     "metadata": {},
     "output_type": "display_data"
    },
    {
     "data": {
      "application/vnd.jupyter.widget-view+json": {
       "model_id": "a9f21f0d3c27436080071d969739d823",
       "version_major": 2,
       "version_minor": 0
      },
      "text/plain": [
       "Downloading: 0.00B [00:00, ?B/s]"
      ]
     },
     "metadata": {},
     "output_type": "display_data"
    },
    {
     "name": "stderr",
     "output_type": "stream",
     "text": [
      "Only 0 unigrams passed as vocabulary. Is this small or artificial data?\n"
     ]
    },
    {
     "data": {
      "application/vnd.jupyter.widget-view+json": {
       "model_id": "0d58c07f25334bddb73265337c49c5aa",
       "version_major": 2,
       "version_minor": 0
      },
      "text/plain": [
       "Downloading:   0%|          | 0.00/2.25k [00:00<?, ?B/s]"
      ]
     },
     "metadata": {},
     "output_type": "display_data"
    },
    {
     "data": {
      "application/vnd.jupyter.widget-view+json": {
       "model_id": "48ff2b296a9b4ad6b068b663db8eda32",
       "version_major": 2,
       "version_minor": 0
      },
      "text/plain": [
       "Downloading:   0%|          | 0.00/1.18G [00:00<?, ?B/s]"
      ]
     },
     "metadata": {},
     "output_type": "display_data"
    }
   ],
   "source": [
    "import os\n",
    "\n",
    "import numpy as np\n",
    "import soundfile as sf\n",
    "import torch\n",
    "from transformers import Wav2Vec2ForCTC, Wav2Vec2ProcessorWithLM, Wav2Vec2Processor\n",
    "\n",
    "\n",
    "\n",
    "models = [\n",
    "    \"classla/wav2vec2-xls-r-parlaspeech-hr-lm\",\n",
    "    \"classla/wav2vec2-xls-r-parlaspeech-hr\",\n",
    "    \"classla/wav2vec2-large-slavic-parlaspeech-hr\",\n",
    "    \"classla/wav2vec2-large-slavic-parlaspeech-hr-lm\",\n",
    "]\n",
    "results = list()\n",
    "for model_name in models:\n",
    "    device = torch.device(\"cuda:0\" if torch.cuda.is_available() else \"cpu\")\n",
    "    # load model and tokenizer\n",
    "    if model_name.endswith(\"-lm\"):\n",
    "        processor = Wav2Vec2ProcessorWithLM.from_pretrained(model_name,)\n",
    "    else:\n",
    "        processor = Wav2Vec2Processor.from_pretrained(model_name, pad_token=\"[PAD]\")\n",
    "    model = Wav2Vec2ForCTC.from_pretrained(model_name)\n",
    "    # read the wav file\n",
    "    speech, sample_rate = sf.read(\"audio/s1iBR07bVrg_clipped.wav\")\n",
    "\n",
    "    overlap_seconds = 1\n",
    "\n",
    "    indices = np.arange(\n",
    "        0, speech.shape[0], 10 * 60 * sample_rate, dtype=int\n",
    "    ).tolist() + [-1]\n",
    "\n",
    "    transcripts = list()\n",
    "    for start, stop in zip(indices[0:-2], indices[1:]):\n",
    "        # If overlap would make the segment go\n",
    "        # over the end, correct stop variable:\n",
    "        if stop + overlap_seconds * sample_rate >= speech.shape[0]:\n",
    "            stop = -1\n",
    "        speech_segment = speech[start:stop]\n",
    "        inputs = processor(\n",
    "            speech_segment, sampling_rate=sample_rate, return_tensors=\"pt\"\n",
    "        )\n",
    "        with torch.no_grad():\n",
    "            logits = model(**inputs).logits\n",
    "        try:\n",
    "            transcription = processor.batch_decode(logits.numpy()).text[0]\n",
    "        except:\n",
    "            prediction_ids = torch.argmax(logits, dim=-1)\n",
    "            transcription = processor.batch_decode(prediction_ids)[0]\n",
    "\n",
    "        transcripts.append(transcription)\n",
    "    results.append({\"model\": model_name, \"transcription\": \" \".join(transcripts)})\n",
    "\n",
    "import pandas as pd\n",
    "\n",
    "pd.DataFrame(data=results).to_csv(\"010_some_models_transcriptions.csv\", index=False)\n"
   ]
  },
  {
   "cell_type": "code",
   "execution_count": null,
   "metadata": {},
   "outputs": [],
   "source": []
  }
 ],
 "metadata": {
  "interpreter": {
   "hash": "7f6f5766036ee03d059e365a942add07f79c17033585e9357ee8157d52fe6bb9"
  },
  "kernelspec": {
   "display_name": "Python 3.8.3 ('base')",
   "language": "python",
   "name": "python3"
  },
  "language_info": {
   "codemirror_mode": {
    "name": "ipython",
    "version": 3
   },
   "file_extension": ".py",
   "mimetype": "text/x-python",
   "name": "python",
   "nbconvert_exporter": "python",
   "pygments_lexer": "ipython3",
   "version": "3.8.3"
  },
  "orig_nbformat": 4
 },
 "nbformat": 4,
 "nbformat_minor": 2
}
